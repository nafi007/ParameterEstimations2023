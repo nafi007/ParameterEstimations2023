{
 "cells": [
  {
   "cell_type": "code",
   "execution_count": 1,
   "id": "504db9c6",
   "metadata": {},
   "outputs": [],
   "source": [
    "import autograd.numpy as np   # Thinly-wrapped version of Numpy\n",
    "from autograd import grad"
   ]
  },
  {
   "cell_type": "code",
   "execution_count": 2,
   "id": "f712eebf",
   "metadata": {},
   "outputs": [],
   "source": [
    "def taylor_sine(x):  # Taylor approximation to sine function\n",
    "    ans = currterm = x\n",
    "    i = 0\n",
    "    while np.abs(currterm) > 0.001:\n",
    "        currterm = -currterm * x**2 / ((2 * i + 3) * (2 * i + 2))\n",
    "        ans = ans + currterm\n",
    "        i += 1\n",
    "    return ans"
   ]
  },
  {
   "cell_type": "code",
   "execution_count": 5,
   "id": "c73c3e75",
   "metadata": {},
   "outputs": [
    {
     "name": "stdout",
     "output_type": "stream",
     "text": [
      "Gradient of sin(pi) is -0.9998995297042174\n"
     ]
    }
   ],
   "source": [
    "grad_sine = grad(taylor_sine)\n",
    "print(\"Gradient of sin(pi) is\", grad_sine(np.pi))"
   ]
  },
  {
   "cell_type": "code",
   "execution_count": 8,
   "id": "df46e3d5",
   "metadata": {},
   "outputs": [],
   "source": [
    "def sum_of_squares(x):\n",
    "    return np.sum(x**2)"
   ]
  },
  {
   "cell_type": "code",
   "execution_count": 9,
   "id": "da7307cc",
   "metadata": {},
   "outputs": [
    {
     "name": "stdout",
     "output_type": "stream",
     "text": [
      "30.0\n",
      "[2. 4. 6. 8.]\n"
     ]
    }
   ],
   "source": [
    "sum_of_squares_dx = grad(sum_of_squares)\n",
    "\n",
    "x = np.asarray([1.0, 2.0, 3.0, 4.0])\n",
    "\n",
    "var1 = sum_of_squares_dx(x)\n",
    "var2 = sum_of_squares_dx(x)\n",
    "print(sum_of_squares(x))\n",
    "\n",
    "print(sum_of_squares_dx(x))"
   ]
  },
  {
   "cell_type": "code",
   "execution_count": 11,
   "id": "7d8ddfad",
   "metadata": {},
   "outputs": [
    {
     "name": "stdout",
     "output_type": "stream",
     "text": [
      "[-0.2 -0.2 -0.2 -0.2]\n"
     ]
    }
   ],
   "source": [
    "def sum_squared_error(x, y):\n",
    "    return np.sum((x-y)**2)\n",
    "\n",
    "sum_squared_error_dx = grad(sum_squared_error)\n",
    "\n",
    "y = np.asarray([1.1, 2.1, 3.1, 4.1])\n",
    "\n",
    "print(sum_squared_error_dx(x, y))"
   ]
  },
  {
   "cell_type": "code",
   "execution_count": 14,
   "id": "8b1ec568",
   "metadata": {},
   "outputs": [],
   "source": [
    "sum_sq_error_dxdy = grad(sum_squared_error,(0,1))"
   ]
  },
  {
   "cell_type": "code",
   "execution_count": 20,
   "id": "dec20e51",
   "metadata": {},
   "outputs": [
    {
     "data": {
      "text/plain": [
       "array([[-0.2, -0.2, -0.2, -0.2],\n",
       "       [ 0.2,  0.2,  0.2,  0.2]])"
      ]
     },
     "execution_count": 20,
     "metadata": {},
     "output_type": "execute_result"
    }
   ],
   "source": [
    "np.asarray((sum_sq_error_dxdy(x,y)))"
   ]
  },
  {
   "cell_type": "code",
   "execution_count": 26,
   "id": "74c09ef6",
   "metadata": {},
   "outputs": [],
   "source": [
    "mat = np.asarray([[1,2],[42,2]])"
   ]
  },
  {
   "cell_type": "code",
   "execution_count": 27,
   "id": "e5793d8f",
   "metadata": {},
   "outputs": [],
   "source": [
    "mat[1][1] = 2"
   ]
  },
  {
   "cell_type": "code",
   "execution_count": 28,
   "id": "8b9643cf",
   "metadata": {},
   "outputs": [
    {
     "data": {
      "text/plain": [
       "numpy.ndarray"
      ]
     },
     "execution_count": 28,
     "metadata": {},
     "output_type": "execute_result"
    }
   ],
   "source": [
    "type(mat)"
   ]
  },
  {
   "cell_type": "code",
   "execution_count": 29,
   "id": "6e3cbaac",
   "metadata": {},
   "outputs": [],
   "source": [
    "import autograd.numpy as np\n",
    "from autograd.scipy.integrate import odeint\n",
    "from autograd import grad\n",
    "from autograd.builtins import tuple"
   ]
  },
  {
   "cell_type": "code",
   "execution_count": 37,
   "id": "7488e7d0",
   "metadata": {},
   "outputs": [],
   "source": [
    "# var =2.3"
   ]
  },
  {
   "cell_type": "code",
   "execution_count": 74,
   "id": "678d6421",
   "metadata": {},
   "outputs": [],
   "source": [
    "def intFunc(x):\n",
    "    def func(y, t, alpha):\n",
    "        return -np.sin(alpha * t)\n",
    "    y0 = 0.\n",
    "    t = np.linspace(0., 1., 100)\n",
    "    y = odeint(func, y0, t, tuple([x]))[-1]\n",
    "    return y\n",
    "\n"
   ]
  },
  {
   "cell_type": "code",
   "execution_count": 75,
   "id": "b747e090",
   "metadata": {},
   "outputs": [],
   "source": [
    "# intFunc(4)"
   ]
  },
  {
   "cell_type": "code",
   "execution_count": 76,
   "id": "c79f3885",
   "metadata": {},
   "outputs": [],
   "source": [
    "import matplotlib.pyplot as plt"
   ]
  },
  {
   "cell_type": "code",
   "execution_count": 78,
   "id": "a03a3bb8",
   "metadata": {},
   "outputs": [],
   "source": [
    "# plt.plot(np.linspace(0., 1., 100),intFunc(1))"
   ]
  },
  {
   "cell_type": "code",
   "execution_count": 79,
   "id": "8989b66e",
   "metadata": {},
   "outputs": [],
   "source": [
    "# print(intFunc(0.5))\n",
    "intFuncGrad = grad(intFunc)"
   ]
  },
  {
   "cell_type": "code",
   "execution_count": 84,
   "id": "a893954b",
   "metadata": {},
   "outputs": [],
   "source": [
    "vect_intFuncGrad = np.vectorize(intFuncGrad)"
   ]
  },
  {
   "cell_type": "code",
   "execution_count": 91,
   "id": "68c79674",
   "metadata": {},
   "outputs": [
    {
     "data": {
      "text/plain": [
       "array([1. , 2.4, 2.1])"
      ]
     },
     "execution_count": 91,
     "metadata": {},
     "output_type": "execute_result"
    }
   ],
   "source": [
    "x = np.array([1.0,2.4,2.1])\n",
    "x"
   ]
  },
  {
   "cell_type": "code",
   "execution_count": 93,
   "id": "bb1b15b0",
   "metadata": {},
   "outputs": [
    {
     "data": {
      "text/plain": [
       "array([-0.38177193,  0.02018775, -0.06981695])"
      ]
     },
     "execution_count": 93,
     "metadata": {},
     "output_type": "execute_result"
    }
   ],
   "source": [
    "vect_intFuncGrad(x)"
   ]
  },
  {
   "cell_type": "code",
   "execution_count": null,
   "id": "502b6a86",
   "metadata": {},
   "outputs": [],
   "source": []
  },
  {
   "cell_type": "code",
   "execution_count": null,
   "id": "c6ef991e",
   "metadata": {},
   "outputs": [],
   "source": []
  }
 ],
 "metadata": {
  "kernelspec": {
   "display_name": "Python [conda env:myvirtualenv]",
   "language": "python",
   "name": "conda-env-myvirtualenv-py"
  },
  "language_info": {
   "codemirror_mode": {
    "name": "ipython",
    "version": 3
   },
   "file_extension": ".py",
   "mimetype": "text/x-python",
   "name": "python",
   "nbconvert_exporter": "python",
   "pygments_lexer": "ipython3",
   "version": "3.9.12"
  }
 },
 "nbformat": 4,
 "nbformat_minor": 5
}
