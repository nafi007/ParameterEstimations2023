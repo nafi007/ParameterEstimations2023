{
 "cells": [
  {
   "cell_type": "code",
   "execution_count": 1,
   "id": "d4edd778-e8b9-4991-8b38-7e54922dc35b",
   "metadata": {},
   "outputs": [],
   "source": [
    "import numpy as np\n",
    "import matplotlib.pyplot as plt\n",
    "import matplotlib.patheffects as path_effects\n",
    "\n",
    "from scipy.integrate import odeint\n",
    "from scipy.optimize import minimize\n",
    "from scipy.optimize import curve_fit"
   ]
  },
  {
   "cell_type": "code",
   "execution_count": 2,
   "id": "75693d5f-820b-4e5a-874d-3121a08e7f55",
   "metadata": {},
   "outputs": [],
   "source": [
    "#General plotting functions\n",
    "#Elimates the left and top lines and ticks in a matplotlib plot \n",
    "def PlotStyle(Axes,Title):\n",
    "    \n",
    "    Axes.spines['top'].set_visible(False)\n",
    "    Axes.spines['right'].set_visible(False)\n",
    "    Axes.spines['bottom'].set_visible(True)\n",
    "    Axes.spines['left'].set_visible(True)\n",
    "    Axes.xaxis.set_tick_params(labelsize=14)\n",
    "    Axes.yaxis.set_tick_params(labelsize=14)\n",
    "    Axes.set_title(Title)\n",
    "\n",
    "#Lollipop plot based on the python graph gallery implementation \n",
    "def LollipopPlot(Fig,Time,Data,Regression):\n",
    "    \n",
    "    cTime=Time\n",
    "    cData=Data\n",
    "    cRegression=Regression\n",
    "    \n",
    "    ax=Fig.gca()\n",
    "\n",
    "    (markers, stemlines, baseline) = ax.stem(cTime, cData,bottom=-0.4,label='Data',basefmt=\" \")\n",
    "    plt.setp(stemlines, linestyle=\"-\", color=\"red\", linewidth=0.5,alpha=0.5 )\n",
    "    plt.setp(markers, color=\"red\",alpha=0.75 )\n",
    "\n",
    "    ax.plot(cTime,cRegression,'b-',label='Regression',path_effects=[path_effects.SimpleLineShadow(alpha=0.2,rho=0.2),\n",
    "                       path_effects.Normal()])\n",
    "  \n",
    "    ax.set_ylabel('Normalized Population',fontsize=16,fontweight='bold')\n",
    "    ax.set_xlabel('Time',fontsize=16,fontweight='bold')\n",
    "    ax.legend(loc=0,fontsize=14)\n",
    "    ax.set_ylim(-0.4,3.4)\n",
    "    PlotStyle(ax,'')"
   ]
  },
  {
   "cell_type": "markdown",
   "id": "229c32b8-4d9c-4104-8df7-d09236cccf61",
   "metadata": {},
   "source": [
    "## Parameter Estimation of Non-Linear ODE system"
   ]
  },
  {
   "cell_type": "code",
   "execution_count": null,
   "id": "afd6123f-0173-411a-88f1-e7b8173a404e",
   "metadata": {},
   "outputs": [],
   "source": [
    "#Let's consider the Lodka-Volterra model, also known as the predator-prey model. (https://en.wikipedia.org/wiki/Lotka%E2%80%93Volterra_equations)"
   ]
  },
  {
   "cell_type": "markdown",
   "id": "4aa77c79-2c87-4da0-9267-88e95a631ac9",
   "metadata": {},
   "source": [
    "$\\frac{\\partial R}{\\partial t} = R(\\alpha - \\beta W),  \\hspace{1cm} W(0)=W_{0} \\\\$\n",
    "$\\frac{\\partial W}{\\partial t} = -W(\\gamma - \\delta R),\\hspace{1cm} R(0)=R_{0}$\n",
    "\n",
    "\n"
   ]
  },
  {
   "cell_type": "code",
   "execution_count": null,
   "id": "a747d87e",
   "metadata": {},
   "outputs": [],
   "source": []
  },
  {
   "cell_type": "code",
   "execution_count": 3,
   "id": "ed1f295a-fe25-4887-a65a-4d3fbdf02bcf",
   "metadata": {},
   "outputs": [],
   "source": [
    "#Non linear model\n",
    "def MakeModel(k_1,k_n1,J_11,phi_pRB,k_p,k_2,a ,k_n2,J_12,phi_E2F1, StateVariables):\n",
    "    Variables = StateVariables\n",
    "    Equation1= ((k_1*(Variables[1]/(k_n1+Variables[1]))) * (J_11/(J_11+Variables[0]))) - (phi_pRB*Variables[0])\n",
    "    Equation2= k_p + ((k_2*((a**2 + Variables[1]**2) / (k_n2**2 + Variables[1]**2))) * (J_12/(J_12+Variables[0]))) \\\n",
    "               - phi_E2F1*Variables[1] \n",
    "    \n",
    "    return [Equation1,Equation2]\n",
    "\n",
    "#Integration time\n",
    "SolverTime=np.linspace(0,800,num=330)\n",
    "\n",
    "#Parameters of the model \n",
    "k_1 = 1\n",
    "k_n1=0.5\n",
    "J_11=0.5\n",
    "phi_pRB=0.005\n",
    "k_p = 0.05\n",
    "k_2 = 1.6\n",
    "a = 0.04\n",
    "k_n2 = 4\n",
    "J_12 = 5\n",
    "phi_E2F1 = 0.1\n",
    "\n",
    "#True initial conditions \n",
    "Int=np.array([1,5])  # [pRB(0), E2F1(0)] \n",
    "\n",
    "#Model Solution \n",
    "def ODEModel(StateVariables,t):\n",
    "\n",
    "    return MakeModel(k_1,k_n1,J_11,phi_pRB,k_p,k_2,a ,k_n2,J_12,phi_E2F1,StateVariables)\n",
    "\n",
    "Solution=odeint(ODEModel,Int,SolverTime)"
   ]
  },
  {
   "cell_type": "code",
   "execution_count": 4,
   "id": "6c47a94c-05f2-4825-81b9-8234a0ce09d1",
   "metadata": {},
   "outputs": [
    {
     "data": {
      "image/png": "[encoded data removed]",
      "text/plain": [
       "<Figure size 648x432 with 1 Axes>"
      ]
     },
     "metadata": {
      "needs_background": "light"
     },
     "output_type": "display_data"
    }
   ],
   "source": [
    "#Visualization\n",
    "plt.figure(1,figsize=(9,6))\n",
    "\n",
    "plt.plot(SolverTime,Solution[:,0],'b-',label='pRB',path_effects=[path_effects.SimpleLineShadow(alpha=0.2,rho=0.2),\n",
    "                       path_effects.Normal()])\n",
    "plt.plot(SolverTime,Solution[:,1],'g-',label='E2F1',path_effects=[path_effects.SimpleLineShadow(alpha=0.2,rho=0.2),\n",
    "                       path_effects.Normal()])\n",
    "\n",
    "plt.xlabel('Time',fontsize=16,fontweight='bold')\n",
    "plt.ylabel('Concentration',fontsize=16,fontweight='bold')\n",
    "plt.legend(loc=0,fontsize=14)\n",
    "\n",
    "ax=plt.gca()\n",
    "PlotStyle(ax,'')\n"
   ]
  },
  {
   "cell_type": "code",
   "execution_count": null,
   "id": "dbc67eff",
   "metadata": {},
   "outputs": [],
   "source": [
    "concat_sol = Solution.flatten()"
   ]
  },
  {
   "cell_type": "code",
   "execution_count": null,
   "id": "054017ea",
   "metadata": {},
   "outputs": [],
   "source": [
    "# Solution[:,0]"
   ]
  },
  {
   "cell_type": "code",
   "execution_count": null,
   "id": "8c9ce44d",
   "metadata": {},
   "outputs": [],
   "source": []
  },
  {
   "cell_type": "code",
   "execution_count": null,
   "id": "f7996fef",
   "metadata": {},
   "outputs": [],
   "source": [
    "concat_sol.shape"
   ]
  },
  {
   "cell_type": "code",
   "execution_count": null,
   "id": "cc003202",
   "metadata": {},
   "outputs": [],
   "source": [
    "concat_time = np.concatenate((SolverTime,SolverTime))"
   ]
  },
  {
   "cell_type": "code",
   "execution_count": null,
   "id": "ebe3af10",
   "metadata": {},
   "outputs": [],
   "source": [
    "concat_time.shape"
   ]
  },
  {
   "cell_type": "code",
   "execution_count": null,
   "id": "46ca1fb6-5fc9-46a7-9387-99a28ddfe32e",
   "metadata": {},
   "outputs": [],
   "source": [
    "###############################################################################\n",
    "#                            Data generation  \n",
    "###############################################################################\n",
    "def MakeNoisyData(Data,Noise):\n",
    "    \n",
    "    return [val+cal for val,cal in zip(Data,Noise)]\n",
    "\n",
    "GaussianNoise1=[np.random.normal(0,0.001) for val in Solution[:,0]]  \n",
    "GaussianNoise2=[np.random.normal(0,0.001) for val in Solution[:,1]]  \n",
    "Signal1=MakeNoisyData(Solution[:,0],GaussianNoise1)\n",
    "Signal2=MakeNoisyData(Solution[:,1],GaussianNoise2)"
   ]
  },
  {
   "cell_type": "code",
   "execution_count": null,
   "id": "25c9ccdb",
   "metadata": {},
   "outputs": [],
   "source": [
    "concat_noisy_signal = np.concatenate((Signal1,Signal2))"
   ]
  },
  {
   "cell_type": "code",
   "execution_count": null,
   "id": "56ac822a",
   "metadata": {},
   "outputs": [],
   "source": [
    "concat_noisy_signal.shape"
   ]
  },
  {
   "cell_type": "code",
   "execution_count": null,
   "id": "7375c425",
   "metadata": {},
   "outputs": [],
   "source": [
    "len(concat_time)"
   ]
  },
  {
   "cell_type": "code",
   "execution_count": null,
   "id": "2c7de994",
   "metadata": {},
   "outputs": [],
   "source": []
  },
  {
   "cell_type": "code",
   "execution_count": null,
   "id": "19ddf3d8-3e9a-4fda-80fa-1286cc3e7d10",
   "metadata": {},
   "outputs": [],
   "source": [
    "# ESTIMATE: k_1, J_11, k_n2, J_12\n",
    "###############################################################################\n",
    "#                    ODE system model fitting  \n",
    "###############################################################################\n",
    "# LATER: Consider the initial parameters as two extra parameters (so 10+2 = 12 parameters in total)\n",
    "#ModelSolver is the forward solver/integrator\n",
    "def ModelSolver(t,k_1,k_n1,J_11,phi_pRB,k_p,k_2,a ,k_n2,J_12,phi_E2F1,InitialConditions):\n",
    "    \n",
    "    ck_1 =  k_1\n",
    "    ck_n1 =  k_n1\n",
    "    cJ_11 = J_11\n",
    "    cphi_pRB =  phi_pRB\n",
    "    ck_p = k_p\n",
    "    ck_2 = k_2\n",
    "    ca = a\n",
    "    ck_n2 = k_n2 \n",
    "    cJ_12 = J_12\n",
    "    cphi_E2F1 = phi_E2F1\n",
    "    \n",
    "    cInit=InitialConditions\n",
    "    \n",
    "    def LocalModel(cInit,t):\n",
    "        \n",
    "        return MakeModel(ck_1,ck_n1,cJ_11,cphi_pRB,ck_p,ck_2,ca,ck_n2,cJ_12,cphi_E2F1,cInit)\n",
    "    \n",
    "    Solution=odeint(LocalModel,cInit,t)\n",
    "    \n",
    "    return np.concatenate((Solution[:,0],Solution[:,1]))\n",
    "\n",
    "def ModelFit(t,k_1,J_11,k_n2,J_12):\n",
    "    #the values of the other parameters are obtained from their global scope \n",
    "    t1,t2 =  t #t1 and t2 should be identical\n",
    "    return ModelSolver(t1,k_1,k_n1,J_11,phi_pRB,k_p,k_2,a ,k_n2,J_12,phi_E2F1,Int)\n",
    "    \n",
    "ModelParams01=curve_fit(ModelFit,(SolverTime,SolverTime),concat_noisy_signal,p0=np.random.rand(4))\n",
    "\n",
    "# #Parameters of the model \n",
    "# k_1 = 1\n",
    "# k_n1=0.5\n",
    "# J_11=0.5\n",
    "# phi_pRB=0.005\n",
    "# k_p = 0.05\n",
    "# k_2 = 1.6\n",
    "# a = 0.04\n",
    "# k_n2 = 4\n",
    "# J_12 = 5\n",
    "# phi_E2F1 = 0.1\n",
    "\n",
    "\n",
    "# FitSolution=ModelSolver(SolverTime,ModelParams01[0][0],ModelParams01[0][1],ModelParams01[0][2],ModelParams01[0][3],Int) #fitted solution"
   ]
  },
  {
   "cell_type": "code",
   "execution_count": null,
   "id": "25615280",
   "metadata": {},
   "outputs": [],
   "source": [
    "    \n",
    "ModelParams01"
   ]
  },
  {
   "cell_type": "code",
   "execution_count": null,
   "id": "afb7524e",
   "metadata": {},
   "outputs": [],
   "source": [
    "ModelParams01[0]"
   ]
  },
  {
   "cell_type": "code",
   "execution_count": null,
   "id": "dd4fd91c",
   "metadata": {},
   "outputs": [],
   "source": [
    "#Visualize fit solution\n",
    "k_1_fit = ModelParams01[0][0]\n",
    "J_11_fit = ModelParams01[0][1]\n",
    "k_n2_fit = ModelParams01[0][2]\n",
    "J_12_fit = ModelParams01[0][3]\n",
    "Fit = ModelSolver(SolverTime,k_1_fit,k_n1,J_11_fit,phi_pRB,k_p,k_2,a ,k_n2_fit,J_12_fit,phi_E2F1,Int)"
   ]
  },
  {
   "cell_type": "code",
   "execution_count": null,
   "id": "4a4da171",
   "metadata": {},
   "outputs": [],
   "source": [
    "prb_fit = Fit[:(int(len(Fit)/2))]\n",
    "e2f1_fit= Fit[int((len(Fit)/2)):]"
   ]
  },
  {
   "cell_type": "code",
   "execution_count": null,
   "id": "f28c1940",
   "metadata": {},
   "outputs": [],
   "source": [
    "prb_fit.shape"
   ]
  },
  {
   "cell_type": "code",
   "execution_count": null,
   "id": "c1cb20d1",
   "metadata": {},
   "outputs": [],
   "source": [
    "#Visualization\n",
    "plt.figure(1,figsize=(9,6))\n",
    "\n",
    "plt.plot(SolverTime,prb_fit,'b-',label='pRB',path_effects=[path_effects.SimpleLineShadow(alpha=0.2,rho=0.2),\n",
    "                       path_effects.Normal()])\n",
    "plt.plot(SolverTime,e2f1_fit,'g-',label='E2F1',path_effects=[path_effects.SimpleLineShadow(alpha=0.2,rho=0.2),\n",
    "                       path_effects.Normal()])\n",
    "\n",
    "plt.xlabel('Time',fontsize=16,fontweight='bold')\n",
    "plt.ylabel('Concentration',fontsize=16,fontweight='bold')\n",
    "plt.legend(loc=0,fontsize=14)\n",
    "\n",
    "ax=plt.gca()\n",
    "PlotStyle(ax,'')\n"
   ]
  },
  {
   "cell_type": "code",
   "execution_count": null,
   "id": "4a96ae69",
   "metadata": {},
   "outputs": [],
   "source": []
  },
  {
   "cell_type": "markdown",
   "id": "127ea8e7",
   "metadata": {},
   "source": [
    "### G1/S transition with 6 unknown parameters"
   ]
  },
  {
   "cell_type": "code",
   "execution_count": null,
   "id": "5b1259a5-7388-4e7e-a20f-eefc2bca3625",
   "metadata": {},
   "outputs": [],
   "source": [
    "###############################################################################\n",
    "#                    Standard parameter estimation  \n",
    "###############################################################################\n",
    "\n",
    "fig=plt.figure(2,figsize=(9,6))\n",
    "\n",
    "LollipopPlot(fig,SolverTime,WhiteSignal,FitSolution)"
   ]
  },
  {
   "cell_type": "code",
   "execution_count": null,
   "id": "511dd82a-1f42-4c68-8b88-968107479a5f",
   "metadata": {},
   "outputs": [],
   "source": [
    "#The Levenberg-Marquardt algorithm is used by curve_fit to minimize the squared error. Dimensionality of objective\n",
    "# function is 4 while that of the model is 2, and the default curve_fit initial guesses (all 1's) fail to find an adequate solution"
   ]
  },
  {
   "cell_type": "code",
   "execution_count": null,
   "id": "ed31475c-3fe0-4828-97d6-b006cab9838a",
   "metadata": {},
   "outputs": [],
   "source": [
    "#Let's do a random search of the initial guess, and make use of the minimize function from scipy.optimize\n",
    "\n",
    "##############################################################################\n",
    "#                    Performance measurement\n",
    "###############################################################################\n",
    "\n",
    "#Measures the squared error between the data and the fit given an initial parameter guess\n",
    "def SquaredError(InitialParameterGuess):\n",
    "    \n",
    "    try:\n",
    "        #Some guesses will result in an error or an invalid integration \n",
    "        #this ensures that the error is estimated only for valid solutions \n",
    "        cModelParams=curve_fit(ModelFit,SolverTime,WhiteSignal,p0=InitialParameterGuess)\n",
    "        cSolution=ModelSolver(SolverTime,cModelParams[0][0],cModelParams[0][1],cModelParams[0][2],cModelParams[0][3],Int)\n",
    "    \n",
    "        error=[(val-sal)**2 for val,sal in zip(cSolution,WhiteSignal)]\n",
    "        \n",
    "    except RuntimeError:\n",
    "        \n",
    "        #Based on the scale of the data the following list of values will be large enough to be rejected as a solution \n",
    "        error=[10,10]\n",
    "    \n",
    "    return sum(error)"
   ]
  },
  {
   "cell_type": "code",
   "execution_count": null,
   "id": "0829ab13-b8da-45ff-b5b2-252e002e61c8",
   "metadata": {},
   "outputs": [],
   "source": [
    "'''\n",
    "Now let's construct a random search algorithm, which will generate a list with \"n\" different random initial guesses and select the best approximation\n",
    "'''\n",
    "###############################################################################\n",
    "#                    Random Search of initial values  \n",
    "###############################################################################\n",
    "\n",
    "#Random selection of the initial guess values \n",
    "def RandomSearch(Iterations):\n",
    "    \n",
    "    nIt=Iterations \n",
    "    GuessContainer=[]\n",
    "    ErrorContainer=[]\n",
    "    \n",
    "    for k in range(nIt):\n",
    "        \n",
    "        lGuess=[np.random.uniform(low=0,high=1) for val in range(4)]  #we have 4 parameters to estimate hence range(4), parameters are between 0 to 1\n",
    "        lerror=SquaredError(lGuess)\n",
    "        \n",
    "        GuessContainer.append(lGuess) #Contains the list of random initial values \n",
    "        ErrorContainer.append(lerror) #List of the errors \n",
    "    \n",
    "    minError=np.min(ErrorContainer) #Min error value \n",
    "    minLocation=[j for j in range(nIt) if ErrorContainer[j]==minError] #Returns the location of the min value in the list\n",
    "    \n",
    "    bestGuess=GuessContainer[minLocation[0]] #Best initial value guess \n",
    "    \n",
    "    return ErrorContainer,bestGuess\n",
    "    \n",
    "    \n",
    "errs,bG=RandomSearch(10)     #let's search 10 times randomly"
   ]
  },
  {
   "cell_type": "code",
   "execution_count": null,
   "id": "586dffa6-b344-4948-b3bb-8960b740ffac",
   "metadata": {},
   "outputs": [],
   "source": [
    "###############################################################################\n",
    "#                   Initial values Random Search Fitting \n",
    "###############################################################################\n",
    "\n",
    "ModelParams02=curve_fit(ModelFit,SolverTime,WhiteSignal,p0=bG)\n",
    "FitSolution2=ModelSolver(SolverTime,ModelParams02[0][0],ModelParams02[0][1],ModelParams02[0][2],ModelParams02[0][3],Int)"
   ]
  },
  {
   "cell_type": "code",
   "execution_count": null,
   "id": "82c14e9f-4951-478c-a703-af4349e6a138",
   "metadata": {},
   "outputs": [],
   "source": [
    "'''\n",
    "Parameters of the model \n",
    "alpha=0.25\n",
    "beta=0.55\n",
    "gamma=0.3\n",
    "delta=0.6\n",
    "'''\n",
    "ModelParams02[0][0]"
   ]
  },
  {
   "cell_type": "code",
   "execution_count": null,
   "id": "ffb386e9-7e85-4720-a26b-6436a0456a99",
   "metadata": {},
   "outputs": [],
   "source": [
    "ModelParams02[0][1]"
   ]
  },
  {
   "cell_type": "code",
   "execution_count": null,
   "id": "12048ae0-b090-48e5-b2fe-a7f8860b1f83",
   "metadata": {},
   "outputs": [],
   "source": [
    "ModelParams02[0][2]"
   ]
  },
  {
   "cell_type": "code",
   "execution_count": null,
   "id": "0040fb73-c672-498e-8654-d7830833c850",
   "metadata": {},
   "outputs": [],
   "source": [
    "ModelParams02[0][3]"
   ]
  },
  {
   "cell_type": "code",
   "execution_count": null,
   "id": "bf9856b1-cf84-46ca-ab79-3abc3354fd6b",
   "metadata": {},
   "outputs": [],
   "source": [
    "#We can see that the estimated parameters are close to the input parameters\n",
    "#Let's see their covariance matrix:\n",
    "ModelParams02[1]"
   ]
  },
  {
   "cell_type": "code",
   "execution_count": null,
   "id": "1bb31d02-289b-4eb4-8912-d5b73c501c6e",
   "metadata": {},
   "outputs": [],
   "source": [
    "sd_array = np.sqrt(np.diag(ModelParams02[1])) #standard deviations of estimated parameters\n",
    "sd_array"
   ]
  },
  {
   "cell_type": "code",
   "execution_count": null,
   "id": "5a67499d-f610-401e-9f39-352ed6ad2480",
   "metadata": {},
   "outputs": [],
   "source": [
    "np.divide(100*sd_array,ModelParams02[0]) #Standard deviations as percentage of estimated parameter values, shows good fit"
   ]
  },
  {
   "cell_type": "code",
   "execution_count": null,
   "id": "f5bbc20f-1478-46e5-b790-be361d27e0f0",
   "metadata": {},
   "outputs": [],
   "source": [
    "###############################################################################\n",
    "#                              Visualization  \n",
    "###############################################################################\n",
    "\n",
    "fig=plt.figure(3,figsize=(9,6))\n",
    "\n",
    "LollipopPlot(fig,SolverTime,WhiteSignal,FitSolution2)"
   ]
  },
  {
   "cell_type": "markdown",
   "id": "104b8aaf-10fa-48be-bd10-541bd21f522e",
   "metadata": {},
   "source": [
    "SUCCESS, now let's try a second approach:\n",
    "\n",
    "1. Minimize the squared error using an algorithm and get estimates for the parameters.\n",
    "2. Use the result found in (1) as the initial guess for another least squares optimization (use it in curve_fit)"
   ]
  },
  {
   "cell_type": "code",
   "execution_count": null,
   "id": "55abcc52-10b8-4c68-8344-46a14d05ab15",
   "metadata": {},
   "outputs": [],
   "source": [
    "'''\n",
    "A good algorithm for non-differentiable objective functions, or challenging non-linear and noisy optimization problems\n",
    "is the Nelder-Mead optimization algorithm. It is often used for multidimensional nonlinear function optimization problems, although it can get stuck in local optima.\n",
    "My reference for this was: https://machinelearningmastery.com/how-to-use-nelder-mead-optimization-in-python/\n",
    "'''\n",
    "\n",
    "###############################################################################\n",
    "#                    Initial values Nelder-Mean Fitting\n",
    "###############################################################################\n",
    "\n",
    "#Vector of random initial values \n",
    "g0=[np.random.uniform(low=0,high=1) for val in range(4)] \n",
    "\n",
    "#Minimization of the squared error by Nelder-Mead \n",
    "res = minimize(SquaredError, g0, method='nelder-mead',options={'xtol': 1e-3, 'maxiter':100,'disp': False})\n",
    "\n"
   ]
  },
  {
   "cell_type": "code",
   "execution_count": null,
   "id": "210024db-8d38-4169-8c3a-4a749fc18122",
   "metadata": {},
   "outputs": [],
   "source": [
    "res.success"
   ]
  },
  {
   "cell_type": "code",
   "execution_count": null,
   "id": "c92e0119-15be-4067-8c53-c32d33af27ff",
   "metadata": {},
   "outputs": [],
   "source": [
    "res.message"
   ]
  },
  {
   "cell_type": "code",
   "execution_count": null,
   "id": "bc355126-c7bb-4bc3-b1f1-61e854a3954a",
   "metadata": {},
   "outputs": [],
   "source": [
    "'''\n",
    "Parameters of the model \n",
    "alpha=0.25\n",
    "beta=0.55\n",
    "gamma=0.3\n",
    "delta=0.6\n",
    "'''\n",
    "\n",
    "res.x    #the 4 parameter estimates"
   ]
  },
  {
   "cell_type": "code",
   "execution_count": null,
   "id": "66f305f6-c273-432f-8a2f-c353c858db68",
   "metadata": {},
   "outputs": [],
   "source": [
    "#Now use the result obtained as the initial guess for curve_fit\n",
    "\n",
    "ModelParams03=curve_fit(ModelFit,SolverTime,WhiteSignal,p0=res.x)\n",
    "\n",
    "FitSolution3=ModelSolver(SolverTime,ModelParams03[0][0],ModelParams03[0][1],ModelParams03[0][2],ModelParams03[0][3],Int) #the fitted curve"
   ]
  },
  {
   "cell_type": "code",
   "execution_count": null,
   "id": "591e8d83-1d3b-4477-a826-bff443bef08b",
   "metadata": {},
   "outputs": [],
   "source": [
    "ModelParams03[0] #Much better estimates"
   ]
  },
  {
   "cell_type": "code",
   "execution_count": null,
   "id": "19cde36e-f0b7-4662-860c-d923673b7ab8",
   "metadata": {},
   "outputs": [],
   "source": [
    "ModelParams03[1] #Covariance matrix"
   ]
  },
  {
   "cell_type": "code",
   "execution_count": null,
   "id": "ecdc8b87-d911-4eef-a08f-54389a064b88",
   "metadata": {},
   "outputs": [],
   "source": [
    "sd_array = np.sqrt(np.diag(ModelParams03[1])) #standard deviations of estimated parameters\n",
    "sd_array"
   ]
  },
  {
   "cell_type": "code",
   "execution_count": null,
   "id": "5defbc75-e5ed-4af3-b4b0-3acb586453c9",
   "metadata": {},
   "outputs": [],
   "source": [
    "np.divide(100*sd_array,ModelParams03[0]) #Standard deviations as percentage of estimated parameter values, shows good fit"
   ]
  },
  {
   "cell_type": "code",
   "execution_count": null,
   "id": "a6beae73-1dd1-4859-954e-d8d044192db6",
   "metadata": {},
   "outputs": [],
   "source": [
    "###############################################################################\n",
    "#                              Visualization \n",
    "###############################################################################\n",
    "\n",
    "fig=plt.figure(4,figsize=(9,6))\n",
    "\n",
    "LollipopPlot(fig,SolverTime,WhiteSignal,FitSolution3)"
   ]
  },
  {
   "cell_type": "code",
   "execution_count": null,
   "id": "cba15c1f-7f9e-471e-b1d1-2e98decc86a4",
   "metadata": {},
   "outputs": [],
   "source": [
    "inpData=np.linspace(0,10,20).reshape(-1,2)"
   ]
  },
  {
   "cell_type": "code",
   "execution_count": null,
   "id": "c7dc8241",
   "metadata": {},
   "outputs": [],
   "source": [
    "inpData.shape"
   ]
  },
  {
   "cell_type": "code",
   "execution_count": null,
   "id": "8aee89e4",
   "metadata": {},
   "outputs": [],
   "source": [
    "inpData.flatten()"
   ]
  },
  {
   "cell_type": "code",
   "execution_count": null,
   "id": "0eb0d08e",
   "metadata": {},
   "outputs": [],
   "source": [
    "def func(X, a, b, c):\n",
    "    x,y = X\n",
    "    result0 = np.log(a) + b*np.log(x[0]) + c*np.log(y[0])\n",
    "    result1 = np.log(a) + b*np.log(x[1]) + c*np.log(y[1])\n",
    "    return np.concatenate([result0, result1])\n",
    "\n",
    "# some artificially noisy data to fit\n",
    "x0 = np.linspace(0.1,1.1,101)\n",
    "y0 = np.linspace(1.,2., 101)\n",
    "\n",
    "x1 = np.linspace(0.1,1.1,101)\n",
    "y1 = np.linspace(1.,2., 101)\n",
    "\n",
    "a, b, c = 10., 4., 6.\n",
    "\n",
    "x = np.array([x0,x1])\n",
    "y = np.array([y0,y1])\n",
    "\n",
    "z = func((x,y), a, b, c)\n",
    "# z[0] = z[0] * 1 + np.random.random(101)/100\n",
    "# z[1] = z[1] * 1 + np.random.random(101)/100\n",
    "z = z + np.random.random(2*101)/100\n",
    "# initial guesses for a,b,c:\n",
    "p0 = 8., 2., 7.\n",
    "print(curve_fit(func, (x,y), z, p0))\n"
   ]
  },
  {
   "cell_type": "code",
   "execution_count": null,
   "id": "e2033564",
   "metadata": {},
   "outputs": [],
   "source": []
  }
 ],
 "metadata": {
  "kernelspec": {
   "display_name": "Python 3 (ipykernel)",
   "language": "python",
   "name": "python3"
  },
  "language_info": {
   "codemirror_mode": {
    "name": "ipython",
    "version": 3
   },
   "file_extension": ".py",
   "mimetype": "text/x-python",
   "name": "python",
   "nbconvert_exporter": "python",
   "pygments_lexer": "ipython3",
   "version": "3.9.12"
  }
 },
 "nbformat": 4,
 "nbformat_minor": 5
}
