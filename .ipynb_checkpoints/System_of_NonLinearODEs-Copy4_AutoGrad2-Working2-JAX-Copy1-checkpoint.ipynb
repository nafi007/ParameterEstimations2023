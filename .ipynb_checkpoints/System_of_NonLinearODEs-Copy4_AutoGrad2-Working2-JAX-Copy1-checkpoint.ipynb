{
 "cells": [
  {
   "cell_type": "code",
   "execution_count": 1,
   "id": "d4edd778-e8b9-4991-8b38-7e54922dc35b",
   "metadata": {},
   "outputs": [],
   "source": [
    "# import numpy as np\n",
    "import matplotlib.pyplot as plt\n",
    "import matplotlib.patheffects as path_effects\n",
    "\n",
    "# from scipy.integrate import odeint\n",
    "################################################\n",
    "# from autograd.scipy.integrate import odeint\n",
    "# from autograd.builtins import tuple\n",
    "################################################\n",
    "\n",
    "from jax.experimental.ode import odeint\n",
    "from scipy.optimize import minimize\n",
    "from scipy.optimize import curve_fit"
   ]
  },
  {
   "cell_type": "code",
   "execution_count": null,
   "id": "783c2507",
   "metadata": {},
   "outputs": [],
   "source": []
  },
  {
   "cell_type": "code",
   "execution_count": 2,
   "id": "ab8c2d70",
   "metadata": {},
   "outputs": [],
   "source": [
    "import jax \n",
    "import jax.numpy as jnp\n",
    "from jax import jacfwd, jacrev\n",
    "\n",
    "import numpy as np\n",
    "# import autograd.numpy as np   # Thinly-wrapped version of Numpy\n",
    "# from autograd import grad\n",
    "# from autograd import jacobian"
   ]
  },
  {
   "cell_type": "code",
   "execution_count": 3,
   "id": "cebdae19",
   "metadata": {},
   "outputs": [],
   "source": [
    "# from jax.experimental.ode import odeint\n",
    "\n",
    "# def odeint(func, y0, t, *args, rtol=1.4e-8, atol=1.4e-8, mxstep=jnp.inf, hmax=jnp.inf)"
   ]
  },
  {
   "cell_type": "code",
   "execution_count": 4,
   "id": "15fc5da3",
   "metadata": {},
   "outputs": [],
   "source": [
    "from multiprocessing import Pool, Process"
   ]
  },
  {
   "cell_type": "code",
   "execution_count": 5,
   "id": "b6740a7c",
   "metadata": {},
   "outputs": [],
   "source": [
    "file = np.load(\"FirstRun.npy\")"
   ]
  },
  {
   "cell_type": "code",
   "execution_count": 6,
   "id": "6aa5adfc",
   "metadata": {},
   "outputs": [
    {
     "data": {
      "text/plain": [
       "(10, 20)"
      ]
     },
     "execution_count": 6,
     "metadata": {},
     "output_type": "execute_result"
    }
   ],
   "source": [
    "file.shape"
   ]
  },
  {
   "cell_type": "code",
   "execution_count": 7,
   "id": "46060261",
   "metadata": {},
   "outputs": [],
   "source": [
    "# from multiprocessing import multiprocess"
   ]
  },
  {
   "cell_type": "code",
   "execution_count": 8,
   "id": "75693d5f-820b-4e5a-874d-3121a08e7f55",
   "metadata": {},
   "outputs": [],
   "source": [
    "#General plotting functions\n",
    "#Elimates the left and top lines and ticks in a matplotlib plot \n",
    "def PlotStyle(Axes,Title):\n",
    "    \n",
    "    Axes.spines['top'].set_visible(False)\n",
    "    Axes.spines['right'].set_visible(False)\n",
    "    Axes.spines['bottom'].set_visible(True)\n",
    "    Axes.spines['left'].set_visible(True)\n",
    "    Axes.xaxis.set_tick_params(labelsize=14)\n",
    "    Axes.yaxis.set_tick_params(labelsize=14)\n",
    "    Axes.set_title(Title)\n",
    "\n",
    "#Lollipop plot based on the python graph gallery implementation \n",
    "def LollipopPlot(Fig,Time,Data,Regression):\n",
    "    \n",
    "    cTime=Time\n",
    "    cData=Data\n",
    "    cRegression=Regression\n",
    "    \n",
    "    ax=Fig.gca()\n",
    "\n",
    "    (markers, stemlines, baseline) = ax.stem(cTime, cData,bottom=-0.4,label='Data',basefmt=\" \")\n",
    "    plt.setp(stemlines, linestyle=\"-\", color=\"red\", linewidth=0.5,alpha=0.5 )\n",
    "    plt.setp(markers, color=\"red\",alpha=0.75 )\n",
    "\n",
    "    ax.plot(cTime,cRegression,'b-',label='Regression',path_effects=[path_effects.SimpleLineShadow(alpha=0.2,rho=0.2),\n",
    "                       path_effects.Normal()])\n",
    "  \n",
    "    ax.set_ylabel('Normalized Population',fontsize=16,fontweight='bold')\n",
    "    ax.set_xlabel('Time',fontsize=16,fontweight='bold')\n",
    "    ax.legend(loc=0,fontsize=14)\n",
    "    ax.set_ylim(-0.4,3.4)\n",
    "    PlotStyle(ax,'')"
   ]
  },
  {
   "cell_type": "markdown",
   "id": "229c32b8-4d9c-4104-8df7-d09236cccf61",
   "metadata": {},
   "source": [
    "## Parameter Estimation of Non-Linear ODE system"
   ]
  },
  {
   "cell_type": "code",
   "execution_count": 9,
   "id": "afd6123f-0173-411a-88f1-e7b8173a404e",
   "metadata": {},
   "outputs": [],
   "source": [
    "#Let's consider the Lodka-Volterra model, also known as the predator-prey model. (https://en.wikipedia.org/wiki/Lotka%E2%80%93Volterra_equations)"
   ]
  },
  {
   "cell_type": "markdown",
   "id": "4aa77c79-2c87-4da0-9267-88e95a631ac9",
   "metadata": {},
   "source": [
    "$\\frac{\\partial R}{\\partial t} = R(\\alpha - \\beta W),  \\hspace{1cm} W(0)=W_{0} \\\\$\n",
    "$\\frac{\\partial W}{\\partial t} = -W(\\gamma - \\delta R),\\hspace{1cm} R(0)=R_{0}$\n",
    "\n",
    "\n"
   ]
  },
  {
   "cell_type": "code",
   "execution_count": null,
   "id": "a747d87e",
   "metadata": {},
   "outputs": [],
   "source": []
  },
  {
   "cell_type": "code",
   "execution_count": 10,
   "id": "ed1f295a-fe25-4887-a65a-4d3fbdf02bcf",
   "metadata": {},
   "outputs": [],
   "source": [
    "#Non linear model\n",
    "def MakeModel(k_1,k_n1,J_11,phi_pRB,k_p,k_2,a ,k_n2,J_12,phi_E2F1, StateVariables):\n",
    "    Variables = StateVariables\n",
    "    Equation1= ((k_1*(Variables[1]/(k_n1+Variables[1]))) * (J_11/(J_11+Variables[0]))) - (phi_pRB*Variables[0])\n",
    "    Equation2= k_p + ((k_2*((a**2 + Variables[1]**2) / (k_n2**2 + Variables[1]**2))) * (J_12/(J_12+Variables[0]))) \\\n",
    "               - phi_E2F1*Variables[1] \n",
    "    \n",
    "    return jnp.array([Equation1,Equation2])\n",
    "\n",
    "#Integration time\n",
    "GlobalSolverTime=jnp.linspace(0,800,num=20)\n",
    "\n",
    "#Parameters of the model \n",
    "k_1 = 1\n",
    "k_n1=0.5\n",
    "J_11=0.5\n",
    "phi_pRB=0.005\n",
    "k_p = 0.05\n",
    "k_2 = 1.6\n",
    "a = 0.04\n",
    "k_n2 = 4\n",
    "J_12 = 5\n",
    "phi_E2F1 = 0.1\n",
    "\n",
    "# true_parameter_array = jnp.array([k_1,k_n1,J_11,phi_pRB,k_p,k_2,a ,k_n2,J_12,phi_E2F1])\n",
    "true_parameter_array = np.array([k_1,k_n1,J_11,phi_pRB,k_p,k_2,a ,k_n2,J_12,phi_E2F1])\n",
    "# ESTIMATE: k_1, J_11, k_n2, J_12\n",
    "\n",
    "num_parameters = 10 #Number of parameters in total\n",
    "est_par_index = [0,2,7,8]\n",
    "num_unknown_parameters = len(est_par_index)\n",
    "#True initial conditions \n",
    "Int=jnp.array([1.0,5.0])  # [pRB(0), E2F1(0)] \n",
    "\n",
    "######################################################\n",
    "# #Model Solution \n",
    "# def ODEModel(StateVariables,t):\n",
    "\n",
    "#     return MakeModel(k_1,k_n1,J_11,phi_pRB,k_p,k_2,a ,k_n2,J_12,phi_E2F1,StateVariables)\n",
    "\n",
    "# Solution=odeint(ODEModel,Int,SolverTime)\n",
    "########################################################\n",
    "\n",
    "def ODEModel(StateVariables,t,K):\n",
    "    k_1,k_n1,J_11,phi_pRB,k_p,k_2,a,k_n2,J_12,phi_E2F1 = K\n",
    "\n",
    "    return MakeModel(k_1,k_n1,J_11,phi_pRB,k_p,k_2,a ,k_n2,J_12,phi_E2F1,StateVariables)\n",
    "\n",
    "Solution = odeint(ODEModel,Int,GlobalSolverTime,tuple([k_1,k_n1,J_11,phi_pRB,k_p,k_2,a ,k_n2,J_12,phi_E2F1]))"
   ]
  },
  {
   "cell_type": "code",
   "execution_count": 11,
   "id": "6c47a94c-05f2-4825-81b9-8234a0ce09d1",
   "metadata": {},
   "outputs": [
    {
     "data": {
      "image/png": "[encoded data removed]",
      "text/plain": [
       "<Figure size 648x432 with 1 Axes>"
      ]
     },
     "metadata": {
      "needs_background": "light"
     },
     "output_type": "display_data"
    }
   ],
   "source": [
    "#Visualization\n",
    "plt.figure(1,figsize=(9,6))\n",
    "\n",
    "plt.plot(GlobalSolverTime,Solution[:,0],'b-',label='pRB',path_effects=[path_effects.SimpleLineShadow(alpha=0.2,rho=0.2),\n",
    "                       path_effects.Normal()])\n",
    "plt.plot(GlobalSolverTime,Solution[:,1],'g-',label='E2F1',path_effects=[path_effects.SimpleLineShadow(alpha=0.2,rho=0.2),\n",
    "                       path_effects.Normal()])\n",
    "\n",
    "plt.xlabel('Time',fontsize=16,fontweight='bold')\n",
    "plt.ylabel('Concentration',fontsize=16,fontweight='bold')\n",
    "plt.legend(loc=0,fontsize=14)\n",
    "\n",
    "ax=plt.gca()\n",
    "PlotStyle(ax,'')\n"
   ]
  },
  {
   "cell_type": "code",
   "execution_count": 12,
   "id": "cc003202",
   "metadata": {},
   "outputs": [],
   "source": [
    "# concat_time = np.concatenate((SolverTime,SolverTime))"
   ]
  },
  {
   "cell_type": "code",
   "execution_count": 13,
   "id": "46ca1fb6-5fc9-46a7-9387-99a28ddfe32e",
   "metadata": {},
   "outputs": [],
   "source": [
    "###############################################################################\n",
    "#                            Data generation  \n",
    "###############################################################################\n",
    "def MakeNoisyData(Data,Noise):\n",
    "    \n",
    "    return [val+cal for val,cal in zip(Data,Noise)]\n",
    "\n",
    "GaussianNoise1=[np.random.normal(0,0.001) for val in Solution[:,0]]  \n",
    "GaussianNoise2=[np.random.normal(0,0.001) for val in Solution[:,1]]  \n",
    "Signal1=MakeNoisyData(Solution[:,0],GaussianNoise1)\n",
    "Signal2=MakeNoisyData(Solution[:,1],GaussianNoise2)"
   ]
  },
  {
   "cell_type": "code",
   "execution_count": 14,
   "id": "884723fa",
   "metadata": {},
   "outputs": [],
   "source": [
    "Signal1 = jnp.asarray(Signal1)\n",
    "Signal2 = jnp.asarray(Signal2)"
   ]
  },
  {
   "cell_type": "code",
   "execution_count": 15,
   "id": "25c9ccdb",
   "metadata": {},
   "outputs": [],
   "source": [
    "concat_noisy_signal = jnp.concatenate((Signal1,Signal2))"
   ]
  },
  {
   "cell_type": "code",
   "execution_count": 16,
   "id": "56ac822a",
   "metadata": {},
   "outputs": [
    {
     "data": {
      "text/plain": [
       "40"
      ]
     },
     "execution_count": 16,
     "metadata": {},
     "output_type": "execute_result"
    }
   ],
   "source": [
    "num_concatdata_points = concat_noisy_signal.shape[0]\n",
    "num_concatdata_points"
   ]
  },
  {
   "cell_type": "code",
   "execution_count": 17,
   "id": "612171fd",
   "metadata": {},
   "outputs": [
    {
     "data": {
      "text/plain": [
       "(20,)"
      ]
     },
     "execution_count": 17,
     "metadata": {},
     "output_type": "execute_result"
    }
   ],
   "source": [
    "jnp.asarray(Signal1).shape"
   ]
  },
  {
   "cell_type": "code",
   "execution_count": 18,
   "id": "19ddf3d8-3e9a-4fda-80fa-1286cc3e7d10",
   "metadata": {},
   "outputs": [],
   "source": [
    "# ESTIMATE: k_1, J_11, k_n2, J_12\n",
    "###############################################################################\n",
    "#                    ODE system model fitting  \n",
    "###############################################################################\n",
    "# LATER: Consider the initial parameters as two extra parameters (so 10+2 = 12 parameters in total)\n",
    "#ModelSolver is the forward solver/integrator\n",
    "def ModelSolver(t,k_1,k_n1,J_11,phi_pRB,k_p,k_2,a ,k_n2,J_12,phi_E2F1,InitialConditions):\n",
    "    \n",
    "    ck_1 =  k_1\n",
    "    ck_n1 =  k_n1\n",
    "    cJ_11 = J_11\n",
    "    cphi_pRB =  phi_pRB\n",
    "    ck_p = k_p\n",
    "    ck_2 = k_2\n",
    "    ca = a\n",
    "    ck_n2 = k_n2 \n",
    "    cJ_12 = J_12\n",
    "    cphi_E2F1 = phi_E2F1\n",
    "    \n",
    "    cInit=InitialConditions\n",
    "    \n",
    "    def LocalModel(cInit,t):\n",
    "        \n",
    "        return MakeModel(ck_1,ck_n1,cJ_11,cphi_pRB,ck_p,ck_2,ca,ck_n2,cJ_12,cphi_E2F1,cInit)\n",
    "    \n",
    "    Solution=odeint(LocalModel,cInit,t)\n",
    "    \n",
    "    return jnp.concatenate((Solution[:,0],Solution[:,1]))\n",
    "\n",
    "def ModelFit(t,k_1,J_11,k_n2,J_12): #change these if the parameters to be estimated change\n",
    "    #the values of the other parameters are obtained from their global scope \n",
    "    t1,t2 =  t #t1 and t2 should be identical\n",
    "    return ModelSolver(t1,k_1,k_n1,J_11,phi_pRB,k_p,k_2,a ,k_n2,J_12,phi_E2F1,Int)\n",
    "\n",
    "# p0 = np.random.rand(4)\n",
    "# p0 = np.array([0.45467901, 0.99152412, 0.89004968, 0.48321337])\n",
    "p0 = np.array([0.91724398, 0.34276907, 0.14016909, 0.85728149])\n",
    "weights = np.ones(num_concatdata_points) #Initially, all weights are 1\n",
    "sigma_now = 1/np.sqrt(weights)\n",
    "ModelParams01=curve_fit(ModelFit,(GlobalSolverTime,GlobalSolverTime),concat_noisy_signal,p0,sigma=sigma_now)\n",
    "\n",
    "# #Parameters of the model \n",
    "# k_1 = 1\n",
    "# k_n1=0.5\n",
    "# J_11=0.5\n",
    "# phi_pRB=0.005\n",
    "# k_p = 0.05\n",
    "# k_2 = 1.6\n",
    "# a = 0.04\n",
    "# k_n2 = 4\n",
    "# J_12 = 5\n",
    "# phi_E2F1 = 0.1\n",
    "\n",
    "\n",
    "# FitSolution=ModelSolver(SolverTime,ModelParams01[0][0],ModelParams01[0][1],ModelParams01[0][2],ModelParams01[0][3],Int) #fitted solution"
   ]
  },
  {
   "cell_type": "code",
   "execution_count": 19,
   "id": "1d524eb2",
   "metadata": {},
   "outputs": [],
   "source": [
    "# p0 = array([0.45467901, 0.99152412, 0.89004968, 0.48321337]) doesn't throw warning."
   ]
  },
  {
   "cell_type": "code",
   "execution_count": 20,
   "id": "25615280",
   "metadata": {},
   "outputs": [
    {
     "data": {
      "text/plain": [
       "(array([1.00053586, 0.49970963, 3.99968231, 4.99910068]),\n",
       " array([[ 2.14797390e-05, -1.15065136e-05,  1.62570657e-06,\n",
       "          4.95487872e-06],\n",
       "        [-1.15065136e-05,  6.16561658e-06, -8.56980996e-07,\n",
       "         -2.62043339e-06],\n",
       "        [ 1.62570657e-06, -8.56980996e-07,  7.49029794e-07,\n",
       "          1.76635032e-06],\n",
       "        [ 4.95487872e-06, -2.62043339e-06,  1.76635032e-06,\n",
       "          4.32531566e-06]]))"
      ]
     },
     "execution_count": 20,
     "metadata": {},
     "output_type": "execute_result"
    }
   ],
   "source": [
    "    \n",
    "ModelParams01"
   ]
  },
  {
   "cell_type": "code",
   "execution_count": 21,
   "id": "d27bf2de",
   "metadata": {},
   "outputs": [
    {
     "data": {
      "text/plain": [
       "array([0.91724398, 0.34276907, 0.14016909, 0.85728149])"
      ]
     },
     "execution_count": 21,
     "metadata": {},
     "output_type": "execute_result"
    }
   ],
   "source": [
    "# ESTIMATE: k_1, J_11, k_n2, J_12\n",
    "p0"
   ]
  },
  {
   "cell_type": "code",
   "execution_count": 22,
   "id": "afb7524e",
   "metadata": {},
   "outputs": [
    {
     "data": {
      "text/plain": [
       "array([1.00053586, 0.49970963, 3.99968231, 4.99910068])"
      ]
     },
     "execution_count": 22,
     "metadata": {},
     "output_type": "execute_result"
    }
   ],
   "source": [
    "ModelParams01[0]"
   ]
  },
  {
   "cell_type": "code",
   "execution_count": 23,
   "id": "ce878cf1",
   "metadata": {},
   "outputs": [],
   "source": [
    "fitSolverTime = np.linspace(0,800,num=300)"
   ]
  },
  {
   "cell_type": "code",
   "execution_count": 24,
   "id": "dd4fd91c",
   "metadata": {},
   "outputs": [],
   "source": [
    "#Visualize fit solution\n",
    "k_1_fit = ModelParams01[0][0]\n",
    "J_11_fit = ModelParams01[0][1]\n",
    "k_n2_fit = ModelParams01[0][2]\n",
    "J_12_fit = ModelParams01[0][3]\n",
    "Fit = ModelSolver(fitSolverTime,k_1_fit,k_n1,J_11_fit,phi_pRB,k_p,k_2,a ,k_n2_fit,J_12_fit,phi_E2F1,Int)"
   ]
  },
  {
   "cell_type": "code",
   "execution_count": 25,
   "id": "4a4da171",
   "metadata": {},
   "outputs": [],
   "source": [
    "prb_fit = Fit[:(int(len(Fit)/2))]\n",
    "e2f1_fit= Fit[int((len(Fit)/2)):]"
   ]
  },
  {
   "cell_type": "code",
   "execution_count": 26,
   "id": "f28c1940",
   "metadata": {},
   "outputs": [
    {
     "data": {
      "text/plain": [
       "(300,)"
      ]
     },
     "execution_count": 26,
     "metadata": {},
     "output_type": "execute_result"
    }
   ],
   "source": [
    "prb_fit.shape"
   ]
  },
  {
   "cell_type": "code",
   "execution_count": 27,
   "id": "c1cb20d1",
   "metadata": {},
   "outputs": [
    {
     "data": {
      "image/png": "[encoded data removed]",
      "text/plain": [
       "<Figure size 648x432 with 1 Axes>"
      ]
     },
     "metadata": {
      "needs_background": "light"
     },
     "output_type": "display_data"
    }
   ],
   "source": [
    "#Visualization\n",
    "plt.figure(1,figsize=(9,6))\n",
    "plt.plot(fitSolverTime,prb_fit,'b-',label='pRB',path_effects=[path_effects.SimpleLineShadow(alpha=0.2,rho=0.2),\n",
    "                       path_effects.Normal()])\n",
    "plt.plot(fitSolverTime,e2f1_fit,'g-',label='E2F1',path_effects=[path_effects.SimpleLineShadow(alpha=0.2,rho=0.2),\n",
    "                       path_effects.Normal()])\n",
    "\n",
    "plt.xlabel('Time',fontsize=16,fontweight='bold')\n",
    "plt.ylabel('Concentration',fontsize=16,fontweight='bold')\n",
    "plt.legend(loc=0,fontsize=14)\n",
    "\n",
    "\n",
    "ax=plt.gca()\n",
    "PlotStyle(ax,'')\n"
   ]
  },
  {
   "cell_type": "code",
   "execution_count": 28,
   "id": "4a96ae69",
   "metadata": {},
   "outputs": [],
   "source": [
    "#ModelSolver is the forward solver/integrator\n",
    "#True initial conditions \n",
    "InitialConditions=np.array([1.0,5.0])  # [pRB(0), E2F1(0)] \n",
    "#Redefine SolverTime\n",
    "# SolverTime=np.linspace(0,800,num=10)\n",
    "def ModelSolver_g(K):\n",
    "    k_1,k_n1,J_11,phi_pRB,k_p,k_2,a ,k_n2,J_12,phi_E2F1 = K\n",
    "    t = GlobalSolverTime #defined globally\n",
    "    ck_1 =  k_1\n",
    "    ck_n1 =  k_n1\n",
    "    cJ_11 = J_11\n",
    "    cphi_pRB =  phi_pRB\n",
    "    ck_p = k_p\n",
    "    ck_2 = k_2\n",
    "    ca = a\n",
    "    ck_n2 = k_n2 \n",
    "    cJ_12 = J_12\n",
    "    cphi_E2F1 = phi_E2F1\n",
    "    \n",
    "    cInit=InitialConditions\n",
    "    \n",
    "    def LocalModel(cInit,t,K):\n",
    "        ck_1,ck_n1,cJ_11,cphi_pRB,ck_p,ck_2,ca,ck_n2,cJ_12,cphi_E2F1 = K\n",
    "        \n",
    "        return MakeModel(ck_1,ck_n1,cJ_11,cphi_pRB,ck_p,ck_2,ca,ck_n2,cJ_12,cphi_E2F1,cInit)\n",
    "    \n",
    "    Solution=odeint(LocalModel,cInit,t,tuple((ck_1,ck_n1,cJ_11,cphi_pRB,ck_p,ck_2,ca,ck_n2,cJ_12,cphi_E2F1)))\n",
    "    \n",
    "    return jnp.concatenate((Solution[:,0],Solution[:,1]))"
   ]
  },
  {
   "cell_type": "code",
   "execution_count": 29,
   "id": "050fb170",
   "metadata": {},
   "outputs": [],
   "source": [
    "# jacobian_func = jacobian(ModelSolver_g,(0)) #Define the jacobian outputting function, AUTOGRAD function\n",
    "jacobian_fn = jacrev(ModelSolver_g) "
   ]
  },
  {
   "cell_type": "code",
   "execution_count": null,
   "id": "d59df686",
   "metadata": {},
   "outputs": [],
   "source": [
    "# output_array = jnp.asarray(ModelSolver_g(jnp.array([1.0,0.5,0.5,0.005,0.05,1.6,0.04,4.0,5.0,0.1])))"
   ]
  },
  {
   "cell_type": "code",
   "execution_count": null,
   "id": "47eb8140",
   "metadata": {},
   "outputs": [],
   "source": [
    "# output_array.shape"
   ]
  },
  {
   "cell_type": "code",
   "execution_count": null,
   "id": "90663e05",
   "metadata": {},
   "outputs": [],
   "source": [
    "# #Parameters of the model \n",
    "# k_1 = 1\n",
    "# k_n1=0.5\n",
    "# J_11=0.5\n",
    "# phi_pRB=0.005\n",
    "# k_p = 0.05\n",
    "# k_2 = 1.6\n",
    "# a = 0.04\n",
    "# k_n2 = 4\n",
    "# J_12 = 5\n",
    "# phi_E2F1 = 0.1\n",
    "\n",
    "#Let's now take the gradient of ModelSolver with respect to the unknown parameters k_1, J_11, k_n2, J_12"
   ]
  },
  {
   "cell_type": "code",
   "execution_count": null,
   "id": "32126df8",
   "metadata": {},
   "outputs": [],
   "source": [
    "# jacobian_output = jacobian_func(np.array([1.0,0.5,0.5,0.005,0.05,1.6,0.04,4.0,5.0,0.1]))\n",
    "jacobian_output = jacobian_fn(jnp.array([1.0,0.5,0.5,0.005,0.05,1.6,0.04,4.0,5.0,0.1]))"
   ]
  },
  {
   "cell_type": "code",
   "execution_count": null,
   "id": "17bb2b47",
   "metadata": {},
   "outputs": [],
   "source": [
    "jacobian_output = np.asarray(jacobian_output)"
   ]
  },
  {
   "cell_type": "code",
   "execution_count": null,
   "id": "0b2afbac",
   "metadata": {},
   "outputs": [],
   "source": [
    "type(jacobian_output)"
   ]
  },
  {
   "cell_type": "code",
   "execution_count": null,
   "id": "27580827",
   "metadata": {},
   "outputs": [],
   "source": [
    "jacobian_output.shape  #[num_data_points,num_parameters]"
   ]
  },
  {
   "cell_type": "code",
   "execution_count": null,
   "id": "ea9bfaf3",
   "metadata": {},
   "outputs": [],
   "source": [
    "# ESTIMATE: k_1, J_11, k_n2, J_12\n",
    "# est_par_index = [0,2,7,8]"
   ]
  },
  {
   "cell_type": "code",
   "execution_count": null,
   "id": "880a99e0",
   "metadata": {},
   "outputs": [],
   "source": [
    "jacobian_estpar = jacobian_output[:,est_par_index]  #this is our J"
   ]
  },
  {
   "cell_type": "code",
   "execution_count": null,
   "id": "44811c8b",
   "metadata": {},
   "outputs": [],
   "source": [
    "jacobian_estpar.shape"
   ]
  },
  {
   "cell_type": "code",
   "execution_count": null,
   "id": "c6a5f26e",
   "metadata": {},
   "outputs": [],
   "source": [
    "W = np.diag(weights)"
   ]
  },
  {
   "cell_type": "code",
   "execution_count": null,
   "id": "bc65696b",
   "metadata": {},
   "outputs": [],
   "source": [
    "W.shape"
   ]
  },
  {
   "cell_type": "code",
   "execution_count": null,
   "id": "b60c57d0",
   "metadata": {},
   "outputs": [],
   "source": [
    "WJ = np.matmul(W,jacobian_estpar) #the \"WJ\" part in J^T * W * J"
   ]
  },
  {
   "cell_type": "code",
   "execution_count": null,
   "id": "432f4aca",
   "metadata": {},
   "outputs": [],
   "source": [
    "JTJ = np.matmul(jacobian_estpar.T,WJ)  #this is our J_T*W*J which is the Fisher information matrix approximation"
   ]
  },
  {
   "cell_type": "code",
   "execution_count": null,
   "id": "7a07a836",
   "metadata": {},
   "outputs": [],
   "source": [
    "JTJ.shape"
   ]
  },
  {
   "cell_type": "code",
   "execution_count": null,
   "id": "25394bfa",
   "metadata": {},
   "outputs": [],
   "source": [
    "I = JTJ   #Fisher Information Matrix approximation"
   ]
  },
  {
   "cell_type": "code",
   "execution_count": null,
   "id": "cef133c1",
   "metadata": {},
   "outputs": [],
   "source": [
    "np.arange(10)"
   ]
  },
  {
   "cell_type": "code",
   "execution_count": null,
   "id": "95dab652",
   "metadata": {},
   "outputs": [],
   "source": [
    "temp = np.ones(10)"
   ]
  },
  {
   "cell_type": "code",
   "execution_count": null,
   "id": "d08cee7b",
   "metadata": {},
   "outputs": [],
   "source": [
    "temp[est_par_index] = np.array([134,14,151,525])"
   ]
  },
  {
   "cell_type": "code",
   "execution_count": null,
   "id": "c112b6cf",
   "metadata": {},
   "outputs": [],
   "source": [
    "temp"
   ]
  },
  {
   "cell_type": "code",
   "execution_count": null,
   "id": "d0bd2562",
   "metadata": {},
   "outputs": [],
   "source": [
    "for i in range(num_concatdata_points):\n",
    "    print(i)"
   ]
  },
  {
   "cell_type": "code",
   "execution_count": null,
   "id": "aa27fa38",
   "metadata": {},
   "outputs": [],
   "source": [
    "temp1 = np.array([1,2,3,4])"
   ]
  },
  {
   "cell_type": "code",
   "execution_count": null,
   "id": "96ba8c4b",
   "metadata": {},
   "outputs": [],
   "source": [
    "1/ np.sqrt(temp1)"
   ]
  },
  {
   "cell_type": "code",
   "execution_count": null,
   "id": "31a22e4e",
   "metadata": {},
   "outputs": [],
   "source": []
  },
  {
   "cell_type": "code",
   "execution_count": 30,
   "id": "d49ffa0d",
   "metadata": {},
   "outputs": [],
   "source": [
    "#concatenated data is assumed to have Gaussian noise added\n",
    "def ParameterEstimation(current_weights,S2_concatdata,S2_SolverTime):\n",
    "    \n",
    "    # p0 = np.random.rand(4)\n",
    "    p0 = np.array([0.45467901, 0.99152412, 0.89004968, 0.48321337])\n",
    "#     weights = np.ones(S2_concatdata) #Initially, all weights are 1\n",
    "    current_sigma = 1/np.sqrt(current_weights)\n",
    "#     print(current_sigma.shape)\n",
    "#     print(S2_concatdata.shape)\n",
    "    OptimPar_and_covMatrix=curve_fit(ModelFit,(S2_SolverTime,S2_SolverTime),S2_concatdata,p0,sigma=current_sigma)\n",
    "    \n",
    "    return OptimPar_and_covMatrix #a tuple, parameters estimated from S2 data points"
   ]
  },
  {
   "cell_type": "code",
   "execution_count": 31,
   "id": "1f11fb97",
   "metadata": {},
   "outputs": [],
   "source": [
    "def CalculateJacobian(ParamEstOutput):\n",
    "    parameter_array = true_parameter_array #true_parameter_array is defined globally\n",
    "    parameter_array[est_par_index] = ParamEstOutput[0] #est_par_index is defined globally\n",
    "    jacobian_output = jacobian_func(parameter_array)\n",
    "    \n",
    "    JacobianMatrix = jacobian_output[:,est_par_index]  #this is our J\n",
    "    \n",
    "    return JacobianMatrix #numpy array of shape [num_concat_data_points, num_estimated_parameters]"
   ]
  },
  {
   "cell_type": "code",
   "execution_count": 32,
   "id": "2c2c68d9",
   "metadata": {},
   "outputs": [],
   "source": [
    "#input index of concatenated data point that we want the weight of\n",
    "def ComputeWeights(iw):\n",
    "    # \"i\" is the index of data points S1\n",
    "    #JTJ = np.matmul(J.T,J)\n",
    "    #I = JTJ #approximate total Fisher Information Matrix at optimal parameters. \n",
    "    \n",
    "    #for i in range(num_concatdata_points):\n",
    "    i = int(iw[0])\n",
    "    current_weights = iw[1:]\n",
    "#     print(current_weights.shape)\n",
    "#     print(i)\n",
    "    S2_data_signal1 = np.delete(Signal1,i)\n",
    "    S2_data_signal2 = np.delete(Signal2,i)\n",
    "    S2_SolverTime = np.delete(GlobalSolverTime,i)\n",
    "    S2_weights = np.delete(current_weights, i)\n",
    "    \n",
    "    S2_concat_data = np.concatenate((S2_data_signal1,S2_data_signal2))\n",
    "    S2_weights = np.concatenate((S2_weights,S2_weights))\n",
    "#     print(S2_concat_data.shape)\n",
    "#     print(S2_weights.shape)\n",
    "    #returns a tuple\n",
    "    ParamEstimates_andCovMatrix = ParameterEstimation(S2_weights,S2_concat_data,S2_SolverTime) \n",
    "    \n",
    "    #Now to compute the Jacobian using the parameters estimated from S2\n",
    "    \n",
    "    unknown_parameter_estimates = ParamEstimates_andCovMatrix[0]\n",
    "    temp_parameter_array = np.asarray(true_parameter_array)\n",
    "    temp_parameter_array[est_par_index] = unknown_parameter_estimates\n",
    "    \n",
    "    #this computes Jacobian of ALL points with respect to ALL parameters\n",
    "    \n",
    "    jacobian_output = jacobian_fn(temp_parameter_array) \n",
    "    jacobian_output = np.asarray(jacobian_output)\n",
    "    J = jacobian_output[:,est_par_index]  #this is our J, est_par_index is defined globally\n",
    "    #Now to form J^T * W * J\n",
    "    W = np.diag(current_weights)\n",
    "    ##############################################################################\n",
    "#     WJ = np.matmul(W,J) #the \"WJ\" part in J^T * W * J\n",
    "#     #this is our J_T*W*J which is the Fisher information matrix approximation\n",
    "#     #This is also I, the total Fisher Information Matrix approximation, using the estimated pars from S2\n",
    "#     JTWJ = np.matmul(J.T,WJ)   #I\n",
    "#     ###############################################################################\n",
    "    \n",
    "    #First form I_S1\n",
    "    S1_row_in_jacobian = J[i,:].reshape(1,num_unknown_parameters) #num_unknown_parameters defined globally\n",
    "    #W should be diagonal, JTWJ_S1 should have shape [num_unknown_parameters,num_unknown_parameters]\n",
    "    JTWJ_S1 = W[i,i] * np.matmul(S1_row_in_jacobian.T,S1_row_in_jacobian) \n",
    "    I_S1 = JTWJ_S1  \n",
    "    \n",
    "    #Now form I_S2\n",
    "    num_time_points = np.arange(len(Signal1))\n",
    "    S2_indices = (np.setdiff1d(num_time_points,i)).astype(int)\n",
    "#     print(type(S2_indices))\n",
    "    #If num of S2 points was 1, you'd need to reshape this. But it probably isn't 1, UNLESS you have two time data points\n",
    "    S2_rows_in_jacobian = J[S2_indices,:] \n",
    "    W_forS2 = np.diag(current_weights[S2_indices])\n",
    "    WJ_S2 = np.matmul(W_forS2,S2_rows_in_jacobian)\n",
    "    I_S2 = np.matmul(S2_rows_in_jacobian.T,WJ_S2)\n",
    "    \n",
    "    \n",
    "    I_S1_I_S2 = np.matmul(I_S1,I_S2)\n",
    "    \n",
    "    identity_matrix = np.identity(I_S1_I_S2.shape[0])\n",
    "    I_S1_I_S2_inv = np.linalg.solve(I_S1_I_S2,identity_matrix)\n",
    "    identity_matrix = np.identity(I_S2.shape[0])\n",
    "    I_S2_inv = np.linalg.solve(I_S2,identity_matrix)\n",
    "    \n",
    "    uncertainty_of_S1_given_S2 = (1.0/num_unknown_parameters) * np.trace(I_S1_I_S2_inv)\n",
    "#     uncertainty_of_S1_given_S2 = (1.0/num_unknown_parameters) * np.trace(np.matmul(I_S1,I_S2_inv))\n",
    "    \n",
    "    new_S1_weight = uncertainty_of_S1_given_S2\n",
    "    \n",
    "    return new_S1_weight"
   ]
  },
  {
   "cell_type": "code",
   "execution_count": 33,
   "id": "3d3742a8",
   "metadata": {},
   "outputs": [],
   "source": [
    "current_weights = np.ones([len(Signal1),len(Signal1)])"
   ]
  },
  {
   "cell_type": "code",
   "execution_count": 34,
   "id": "7f648eae",
   "metadata": {},
   "outputs": [
    {
     "data": {
      "text/plain": [
       "(20, 20)"
      ]
     },
     "execution_count": 34,
     "metadata": {},
     "output_type": "execute_result"
    }
   ],
   "source": [
    "current_weights.shape"
   ]
  },
  {
   "cell_type": "code",
   "execution_count": 35,
   "id": "51f5bf2d",
   "metadata": {},
   "outputs": [],
   "source": [
    "i_array = np.arange(len(Signal1)).reshape(len(Signal1),1)"
   ]
  },
  {
   "cell_type": "code",
   "execution_count": 36,
   "id": "3006eb1e",
   "metadata": {},
   "outputs": [
    {
     "data": {
      "text/plain": [
       "(20, 1)"
      ]
     },
     "execution_count": 36,
     "metadata": {},
     "output_type": "execute_result"
    }
   ],
   "source": [
    "i_array.shape"
   ]
  },
  {
   "cell_type": "code",
   "execution_count": 37,
   "id": "6665d1bc",
   "metadata": {},
   "outputs": [
    {
     "data": {
      "text/plain": [
       "array([[ 0],\n",
       "       [ 1],\n",
       "       [ 2],\n",
       "       [ 3],\n",
       "       [ 4],\n",
       "       [ 5],\n",
       "       [ 6],\n",
       "       [ 7],\n",
       "       [ 8],\n",
       "       [ 9],\n",
       "       [10],\n",
       "       [11],\n",
       "       [12],\n",
       "       [13],\n",
       "       [14],\n",
       "       [15],\n",
       "       [16],\n",
       "       [17],\n",
       "       [18],\n",
       "       [19]])"
      ]
     },
     "execution_count": 37,
     "metadata": {},
     "output_type": "execute_result"
    }
   ],
   "source": [
    "i_array"
   ]
  },
  {
   "cell_type": "code",
   "execution_count": 38,
   "id": "86312df8",
   "metadata": {},
   "outputs": [],
   "source": [
    "arr = np.hstack((i_array,current_weights))"
   ]
  },
  {
   "cell_type": "code",
   "execution_count": 39,
   "id": "cd9086d7",
   "metadata": {},
   "outputs": [
    {
     "data": {
      "text/plain": [
       "(20, 21)"
      ]
     },
     "execution_count": 39,
     "metadata": {},
     "output_type": "execute_result"
    }
   ],
   "source": [
    "arr.shape"
   ]
  },
  {
   "cell_type": "code",
   "execution_count": 40,
   "id": "906697cb",
   "metadata": {},
   "outputs": [],
   "source": [
    "# arr = arr[:3,:]"
   ]
  },
  {
   "cell_type": "code",
   "execution_count": 41,
   "id": "04fcd421",
   "metadata": {},
   "outputs": [
    {
     "data": {
      "text/plain": [
       "(20, 21)"
      ]
     },
     "execution_count": 41,
     "metadata": {},
     "output_type": "execute_result"
    }
   ],
   "source": [
    "arr.shape"
   ]
  },
  {
   "cell_type": "code",
   "execution_count": 42,
   "id": "bccb4ba5",
   "metadata": {},
   "outputs": [],
   "source": [
    "# w_array = np.zeros(20)\n",
    "# for index,item in enumerate(arr):\n",
    "# #     print(index)\n",
    "#     w_array[index] = ComputeWeights(item)"
   ]
  },
  {
   "cell_type": "code",
   "execution_count": 43,
   "id": "87cdc245",
   "metadata": {},
   "outputs": [],
   "source": [
    "import multiprocess as mp"
   ]
  },
  {
   "cell_type": "code",
   "execution_count": 44,
   "id": "d02eb3dd",
   "metadata": {},
   "outputs": [],
   "source": [
    "import time"
   ]
  },
  {
   "cell_type": "code",
   "execution_count": 45,
   "id": "accd7189",
   "metadata": {},
   "outputs": [],
   "source": [
    "# start = time.time()\n",
    "# # ##### START SIMULATION ####\n",
    "# # if __name__ == \"__main__\":\n",
    "# #     p = Pool()   \n",
    "# #     result1 = p.map(ComputeWeights,arr)\n",
    "# #     p.close()\n",
    "# #     p.join()\n",
    "\n",
    "# # result1 = np.array(result1)\n",
    "# # result1 = result1.squeeze()\n",
    "\n",
    "\n",
    "# with mp.Pool(8) as pool:\n",
    "#     result1 = (pool.map(ComputeWeights, arr))\n",
    "    \n",
    "# end = time.time()\n",
    "# print(end-start)"
   ]
  },
  {
   "cell_type": "code",
   "execution_count": 46,
   "id": "971ed85e",
   "metadata": {},
   "outputs": [],
   "source": [
    "# result1 = np.array(result1)\n",
    "# result1 = result1.squeeze()"
   ]
  },
  {
   "cell_type": "code",
   "execution_count": 47,
   "id": "a4d4a55c",
   "metadata": {},
   "outputs": [],
   "source": [
    "# result1"
   ]
  },
  {
   "cell_type": "code",
   "execution_count": 48,
   "id": "903bf124",
   "metadata": {},
   "outputs": [],
   "source": [
    "# result1.shape"
   ]
  },
  {
   "cell_type": "code",
   "execution_count": 49,
   "id": "9b02c593",
   "metadata": {},
   "outputs": [],
   "source": [
    "# xtemp = np.ones([1,2])\n",
    "# np.repeat(xtemp,2,axis=0)"
   ]
  },
  {
   "cell_type": "code",
   "execution_count": 50,
   "id": "edab7b5a",
   "metadata": {},
   "outputs": [],
   "source": [
    "# np.repeat(result1.reshape(1,3),3,axis=0)"
   ]
  },
  {
   "cell_type": "code",
   "execution_count": null,
   "id": "c1e336ba",
   "metadata": {},
   "outputs": [],
   "source": [
    "# len(result1)"
   ]
  },
  {
   "cell_type": "code",
   "execution_count": 59,
   "id": "659058e3",
   "metadata": {},
   "outputs": [
    {
     "ename": "LinAlgError",
     "evalue": "Singular matrix",
     "output_type": "error",
     "traceback": [
      "\u001b[0;31m---------------------------------------------------------------------------\u001b[0m",
      "\u001b[0;31mRemoteTraceback\u001b[0m                           Traceback (most recent call last)",
      "\u001b[0;31mRemoteTraceback\u001b[0m: \n\"\"\"\nTraceback (most recent call last):\n  File \"/Users/md.shahriarrahimsiddiqui/opt/anaconda3/envs/myvirtualenv/lib/python3.9/site-packages/multiprocess/pool.py\", line 125, in worker\n    result = (True, func(*args, **kwds))\n  File \"/Users/md.shahriarrahimsiddiqui/opt/anaconda3/envs/myvirtualenv/lib/python3.9/site-packages/multiprocess/pool.py\", line 48, in mapstar\n    return list(map(*args))\n  File \"/var/folders/v6/llf2b9g925g7nmq5hcby_4_80000gn/T/ipykernel_1717/356786281.py\", line 64, in ComputeWeights\n    I_S1_I_S2_inv = np.linalg.solve(I_S1_I_S2,identity_matrix)\n  File \"<__array_function__ internals>\", line 5, in solve\n  File \"/Users/md.shahriarrahimsiddiqui/opt/anaconda3/envs/myvirtualenv/lib/python3.9/site-packages/numpy/linalg/linalg.py\", line 393, in solve\n    r = gufunc(a, b, signature=signature, extobj=extobj)\n  File \"/Users/md.shahriarrahimsiddiqui/opt/anaconda3/envs/myvirtualenv/lib/python3.9/site-packages/numpy/linalg/linalg.py\", line 88, in _raise_linalgerror_singular\n    raise LinAlgError(\"Singular matrix\")\nnumpy.linalg.LinAlgError: Singular matrix\n\"\"\"",
      "\nThe above exception was the direct cause of the following exception:\n",
      "\u001b[0;31mLinAlgError\u001b[0m                               Traceback (most recent call last)",
      "Input \u001b[0;32mIn [59]\u001b[0m, in \u001b[0;36m<cell line: 7>\u001b[0;34m()\u001b[0m\n\u001b[1;32m      7\u001b[0m \u001b[38;5;28;01mfor\u001b[39;00m i \u001b[38;5;129;01min\u001b[39;00m np\u001b[38;5;241m.\u001b[39marange(iterations):\n\u001b[1;32m      8\u001b[0m     \u001b[38;5;28;01mwith\u001b[39;00m mp\u001b[38;5;241m.\u001b[39mPool(\u001b[38;5;241m8\u001b[39m) \u001b[38;5;28;01mas\u001b[39;00m pool:\n\u001b[0;32m----> 9\u001b[0m         result1 \u001b[38;5;241m=\u001b[39m (\u001b[43mpool\u001b[49m\u001b[38;5;241;43m.\u001b[39;49m\u001b[43mmap\u001b[49m\u001b[43m(\u001b[49m\u001b[43mComputeWeights\u001b[49m\u001b[43m,\u001b[49m\u001b[43m \u001b[49m\u001b[43marr_iteration\u001b[49m\u001b[43m)\u001b[49m)\n\u001b[1;32m     11\u001b[0m     result1 \u001b[38;5;241m=\u001b[39m np\u001b[38;5;241m.\u001b[39marray(result1)\n\u001b[1;32m     12\u001b[0m     result1 \u001b[38;5;241m=\u001b[39m result1\u001b[38;5;241m.\u001b[39msqueeze()\n",
      "File \u001b[0;32m~/opt/anaconda3/envs/myvirtualenv/lib/python3.9/site-packages/multiprocess/pool.py:364\u001b[0m, in \u001b[0;36mPool.map\u001b[0;34m(self, func, iterable, chunksize)\u001b[0m\n\u001b[1;32m    359\u001b[0m \u001b[38;5;28;01mdef\u001b[39;00m \u001b[38;5;21mmap\u001b[39m(\u001b[38;5;28mself\u001b[39m, func, iterable, chunksize\u001b[38;5;241m=\u001b[39m\u001b[38;5;28;01mNone\u001b[39;00m):\n\u001b[1;32m    360\u001b[0m     \u001b[38;5;124;03m'''\u001b[39;00m\n\u001b[1;32m    361\u001b[0m \u001b[38;5;124;03m    Apply `func` to each element in `iterable`, collecting the results\u001b[39;00m\n\u001b[1;32m    362\u001b[0m \u001b[38;5;124;03m    in a list that is returned.\u001b[39;00m\n\u001b[1;32m    363\u001b[0m \u001b[38;5;124;03m    '''\u001b[39;00m\n\u001b[0;32m--> 364\u001b[0m     \u001b[38;5;28;01mreturn\u001b[39;00m \u001b[38;5;28;43mself\u001b[39;49m\u001b[38;5;241;43m.\u001b[39;49m\u001b[43m_map_async\u001b[49m\u001b[43m(\u001b[49m\u001b[43mfunc\u001b[49m\u001b[43m,\u001b[49m\u001b[43m \u001b[49m\u001b[43miterable\u001b[49m\u001b[43m,\u001b[49m\u001b[43m \u001b[49m\u001b[43mmapstar\u001b[49m\u001b[43m,\u001b[49m\u001b[43m \u001b[49m\u001b[43mchunksize\u001b[49m\u001b[43m)\u001b[49m\u001b[38;5;241;43m.\u001b[39;49m\u001b[43mget\u001b[49m\u001b[43m(\u001b[49m\u001b[43m)\u001b[49m\n",
      "File \u001b[0;32m~/opt/anaconda3/envs/myvirtualenv/lib/python3.9/site-packages/multiprocess/pool.py:771\u001b[0m, in \u001b[0;36mApplyResult.get\u001b[0;34m(self, timeout)\u001b[0m\n\u001b[1;32m    769\u001b[0m     \u001b[38;5;28;01mreturn\u001b[39;00m \u001b[38;5;28mself\u001b[39m\u001b[38;5;241m.\u001b[39m_value\n\u001b[1;32m    770\u001b[0m \u001b[38;5;28;01melse\u001b[39;00m:\n\u001b[0;32m--> 771\u001b[0m     \u001b[38;5;28;01mraise\u001b[39;00m \u001b[38;5;28mself\u001b[39m\u001b[38;5;241m.\u001b[39m_value\n",
      "\u001b[0;31mLinAlgError\u001b[0m: Singular matrix"
     ]
    }
   ],
   "source": [
    "################################ Iterative process ###################################\n",
    "iterations = 6\n",
    "\n",
    "weights_array = np.ones([iterations,len(Signal1)])\n",
    "arr_iteration = arr\n",
    "start = time.time()\n",
    "for i in np.arange(iterations):\n",
    "    with mp.Pool(8) as pool:\n",
    "        result1 = (pool.map(ComputeWeights, arr_iteration))\n",
    "    \n",
    "    result1 = np.array(result1)\n",
    "    result1 = result1.squeeze()\n",
    "    \n",
    "    weights_array[i,:] = result1\n",
    "    \n",
    "    arr_iteration = np.repeat(result1.reshape(1,len(result1)),len(Signal1),axis=0) #Signal1 and result1 should have the same length\n",
    "    \n",
    "    arr_iteration = np.hstack((i_array,arr_iteration))\n",
    "\n",
    "    \n",
    "end = time.time() \n",
    "\n",
    "print(end-start)\n",
    "\n"
   ]
  },
  {
   "cell_type": "code",
   "execution_count": null,
   "id": "d191d20c",
   "metadata": {},
   "outputs": [],
   "source": [
    "tem = np.zeros(20)"
   ]
  },
  {
   "cell_type": "code",
   "execution_count": null,
   "id": "01873180",
   "metadata": {},
   "outputs": [],
   "source": [
    "tem.shape"
   ]
  },
  {
   "cell_type": "code",
   "execution_count": null,
   "id": "e913e6aa",
   "metadata": {},
   "outputs": [],
   "source": [
    "weights_array.shape"
   ]
  },
  {
   "cell_type": "code",
   "execution_count": null,
   "id": "321a2de8",
   "metadata": {},
   "outputs": [],
   "source": [
    "weights_array[2,:] = tem "
   ]
  },
  {
   "cell_type": "code",
   "execution_count": 60,
   "id": "5bcf0909",
   "metadata": {},
   "outputs": [
    {
     "data": {
      "text/plain": [
       "(6, 20)"
      ]
     },
     "execution_count": 60,
     "metadata": {},
     "output_type": "execute_result"
    }
   ],
   "source": [
    "weights_array.shape"
   ]
  },
  {
   "cell_type": "code",
   "execution_count": null,
   "id": "f2acfb2b",
   "metadata": {},
   "outputs": [],
   "source": [
    "np.save(\"SecondRun_OverallInv.npy\",weights_array)"
   ]
  },
  {
   "cell_type": "code",
   "execution_count": null,
   "id": "fa944303",
   "metadata": {},
   "outputs": [],
   "source": []
  },
  {
   "cell_type": "code",
   "execution_count": 53,
   "id": "ceeddc32",
   "metadata": {},
   "outputs": [
    {
     "data": {
      "text/plain": [
       "<matplotlib.collections.PathCollection at 0x15fc666d0>"
      ]
     },
     "execution_count": 53,
     "metadata": {},
     "output_type": "execute_result"
    },
    {
     "data": {
      "image/png": "[encoded data removed]",
      "text/plain": [
       "<Figure size 432x288 with 1 Axes>"
      ]
     },
     "metadata": {
      "needs_background": "light"
     },
     "output_type": "display_data"
    }
   ],
   "source": [
    "plt.scatter(GlobalSolverTime,file[0,:])"
   ]
  },
  {
   "cell_type": "code",
   "execution_count": 54,
   "id": "ee188b59",
   "metadata": {},
   "outputs": [
    {
     "data": {
      "text/plain": [
       "<matplotlib.collections.PathCollection at 0x168037c40>"
      ]
     },
     "execution_count": 54,
     "metadata": {},
     "output_type": "execute_result"
    },
    {
     "data": {
      "image/png": "[encoded data removed]",
      "text/plain": [
       "<Figure size 432x288 with 1 Axes>"
      ]
     },
     "metadata": {
      "needs_background": "light"
     },
     "output_type": "display_data"
    }
   ],
   "source": [
    "plt.scatter(GlobalSolverTime,file[1,:])"
   ]
  },
  {
   "cell_type": "code",
   "execution_count": 55,
   "id": "d2496d1f",
   "metadata": {},
   "outputs": [
    {
     "data": {
      "text/plain": [
       "<matplotlib.collections.PathCollection at 0x16809dd30>"
      ]
     },
     "execution_count": 55,
     "metadata": {},
     "output_type": "execute_result"
    },
    {
     "data": {
      "image/png": "[encoded data removed]",
      "text/plain": [
       "<Figure size 432x288 with 1 Axes>"
      ]
     },
     "metadata": {
      "needs_background": "light"
     },
     "output_type": "display_data"
    }
   ],
   "source": [
    "plt.scatter(GlobalSolverTime,file[2,:])"
   ]
  },
  {
   "cell_type": "code",
   "execution_count": 56,
   "id": "3921cd88",
   "metadata": {},
   "outputs": [
    {
     "data": {
      "text/plain": [
       "<matplotlib.collections.PathCollection at 0x15d046250>"
      ]
     },
     "execution_count": 56,
     "metadata": {},
     "output_type": "execute_result"
    },
    {
     "data": {
      "image/png": "[encoded data removed]",
      "text/plain": [
       "<Figure size 432x288 with 1 Axes>"
      ]
     },
     "metadata": {
      "needs_background": "light"
     },
     "output_type": "display_data"
    }
   ],
   "source": [
    "plt.scatter(GlobalSolverTime,file[3,:])"
   ]
  },
  {
   "cell_type": "code",
   "execution_count": 57,
   "id": "fd0587c3",
   "metadata": {},
   "outputs": [
    {
     "data": {
      "text/plain": [
       "<matplotlib.collections.PathCollection at 0x1681779d0>"
      ]
     },
     "execution_count": 57,
     "metadata": {},
     "output_type": "execute_result"
    },
    {
     "data": {
      "image/png": "[encoded data removed]",
      "text/plain": [
       "<Figure size 432x288 with 1 Axes>"
      ]
     },
     "metadata": {
      "needs_background": "light"
     },
     "output_type": "display_data"
    }
   ],
   "source": [
    "plt.scatter(np.delete(GlobalSolverTime,1),np.delete(file[3,:],1))"
   ]
  },
  {
   "cell_type": "code",
   "execution_count": 58,
   "id": "32df29ed",
   "metadata": {},
   "outputs": [
    {
     "data": {
      "image/png": "[encoded data removed]",
      "text/plain": [
       "<Figure size 432x288 with 1 Axes>"
      ]
     },
     "metadata": {
      "needs_background": "light"
     },
     "output_type": "display_data"
    }
   ],
   "source": [
    "# plt.scatter(GlobalSolverTime,file[3,:])\n",
    "plt.plot(GlobalSolverTime,file[3,:],'-o')\n",
    "plt.yscale('log')\n",
    "plt.show()"
   ]
  },
  {
   "cell_type": "code",
   "execution_count": null,
   "id": "39eadcfa",
   "metadata": {},
   "outputs": [],
   "source": [
    "file[3,:]"
   ]
  },
  {
   "cell_type": "markdown",
   "id": "127ea8e7",
   "metadata": {},
   "source": [
    "# G1/S transition with 6 unknown parameters"
   ]
  },
  {
   "cell_type": "code",
   "execution_count": null,
   "id": "5b1259a5-7388-4e7e-a20f-eefc2bca3625",
   "metadata": {},
   "outputs": [],
   "source": [
    "###############################################################################\n",
    "#                    Standard parameter estimation  \n",
    "###############################################################################\n",
    "\n",
    "fig=plt.figure(2,figsize=(9,6))\n",
    "\n",
    "LollipopPlot(fig,SolverTime,WhiteSignal,FitSolution)"
   ]
  },
  {
   "cell_type": "code",
   "execution_count": null,
   "id": "511dd82a-1f42-4c68-8b88-968107479a5f",
   "metadata": {},
   "outputs": [],
   "source": [
    "#The Levenberg-Marquardt algorithm is used by curve_fit to minimize the squared error. Dimensionality of objective\n",
    "# function is 4 while that of the model is 2, and the default curve_fit initial guesses (all 1's) fail to find an adequate solution"
   ]
  },
  {
   "cell_type": "code",
   "execution_count": null,
   "id": "ed31475c-3fe0-4828-97d6-b006cab9838a",
   "metadata": {},
   "outputs": [],
   "source": [
    "#Let's do a random search of the initial guess, and make use of the minimize function from scipy.optimize\n",
    "\n",
    "##############################################################################\n",
    "#                    Performance measurement\n",
    "###############################################################################\n",
    "\n",
    "#Measures the squared error between the data and the fit given an initial parameter guess\n",
    "def SquaredError(InitialParameterGuess):\n",
    "    \n",
    "    try:\n",
    "        #Some guesses will result in an error or an invalid integration \n",
    "        #this ensures that the error is estimated only for valid solutions \n",
    "        cModelParams=curve_fit(ModelFit,SolverTime,WhiteSignal,p0=InitialParameterGuess)\n",
    "        cSolution=ModelSolver(SolverTime,cModelParams[0][0],cModelParams[0][1],cModelParams[0][2],cModelParams[0][3],Int)\n",
    "    \n",
    "        error=[(val-sal)**2 for val,sal in zip(cSolution,WhiteSignal)]\n",
    "        \n",
    "    except RuntimeError:\n",
    "        \n",
    "        #Based on the scale of the data the following list of values will be large enough to be rejected as a solution \n",
    "        error=[10,10]\n",
    "    \n",
    "    return sum(error)"
   ]
  },
  {
   "cell_type": "code",
   "execution_count": null,
   "id": "0829ab13-b8da-45ff-b5b2-252e002e61c8",
   "metadata": {},
   "outputs": [],
   "source": [
    "'''\n",
    "Now let's construct a random search algorithm, which will generate a list with \"n\" different random initial guesses and select the best approximation\n",
    "'''\n",
    "###############################################################################\n",
    "#                    Random Search of initial values  \n",
    "###############################################################################\n",
    "\n",
    "#Random selection of the initial guess values \n",
    "def RandomSearch(Iterations):\n",
    "    \n",
    "    nIt=Iterations \n",
    "    GuessContainer=[]\n",
    "    ErrorContainer=[]\n",
    "    \n",
    "    for k in range(nIt):\n",
    "        \n",
    "        lGuess=[np.random.uniform(low=0,high=1) for val in range(4)]  #we have 4 parameters to estimate hence range(4), parameters are between 0 to 1\n",
    "        lerror=SquaredError(lGuess)\n",
    "        \n",
    "        GuessContainer.append(lGuess) #Contains the list of random initial values \n",
    "        ErrorContainer.append(lerror) #List of the errors \n",
    "    \n",
    "    minError=np.min(ErrorContainer) #Min error value \n",
    "    minLocation=[j for j in range(nIt) if ErrorContainer[j]==minError] #Returns the location of the min value in the list\n",
    "    \n",
    "    bestGuess=GuessContainer[minLocation[0]] #Best initial value guess \n",
    "    \n",
    "    return ErrorContainer,bestGuess\n",
    "    \n",
    "    \n",
    "errs,bG=RandomSearch(10)     #let's search 10 times randomly"
   ]
  },
  {
   "cell_type": "code",
   "execution_count": null,
   "id": "586dffa6-b344-4948-b3bb-8960b740ffac",
   "metadata": {},
   "outputs": [],
   "source": [
    "###############################################################################\n",
    "#                   Initial values Random Search Fitting \n",
    "###############################################################################\n",
    "\n",
    "ModelParams02=curve_fit(ModelFit,SolverTime,WhiteSignal,p0=bG)\n",
    "FitSolution2=ModelSolver(SolverTime,ModelParams02[0][0],ModelParams02[0][1],ModelParams02[0][2],ModelParams02[0][3],Int)"
   ]
  },
  {
   "cell_type": "code",
   "execution_count": null,
   "id": "82c14e9f-4951-478c-a703-af4349e6a138",
   "metadata": {},
   "outputs": [],
   "source": [
    "'''\n",
    "Parameters of the model \n",
    "alpha=0.25\n",
    "beta=0.55\n",
    "gamma=0.3\n",
    "delta=0.6\n",
    "'''\n",
    "ModelParams02[0][0]"
   ]
  },
  {
   "cell_type": "code",
   "execution_count": null,
   "id": "ffb386e9-7e85-4720-a26b-6436a0456a99",
   "metadata": {},
   "outputs": [],
   "source": [
    "ModelParams02[0][1]"
   ]
  },
  {
   "cell_type": "code",
   "execution_count": null,
   "id": "12048ae0-b090-48e5-b2fe-a7f8860b1f83",
   "metadata": {},
   "outputs": [],
   "source": [
    "ModelParams02[0][2]"
   ]
  },
  {
   "cell_type": "code",
   "execution_count": null,
   "id": "0040fb73-c672-498e-8654-d7830833c850",
   "metadata": {},
   "outputs": [],
   "source": [
    "ModelParams02[0][3]"
   ]
  },
  {
   "cell_type": "code",
   "execution_count": null,
   "id": "bf9856b1-cf84-46ca-ab79-3abc3354fd6b",
   "metadata": {},
   "outputs": [],
   "source": [
    "#We can see that the estimated parameters are close to the input parameters\n",
    "#Let's see their covariance matrix:\n",
    "ModelParams02[1]"
   ]
  },
  {
   "cell_type": "code",
   "execution_count": null,
   "id": "1bb31d02-289b-4eb4-8912-d5b73c501c6e",
   "metadata": {},
   "outputs": [],
   "source": [
    "sd_array = np.sqrt(np.diag(ModelParams02[1])) #standard deviations of estimated parameters\n",
    "sd_array"
   ]
  },
  {
   "cell_type": "code",
   "execution_count": null,
   "id": "5a67499d-f610-401e-9f39-352ed6ad2480",
   "metadata": {},
   "outputs": [],
   "source": [
    "np.divide(100*sd_array,ModelParams02[0]) #Standard deviations as percentage of estimated parameter values, shows good fit"
   ]
  },
  {
   "cell_type": "code",
   "execution_count": null,
   "id": "f5bbc20f-1478-46e5-b790-be361d27e0f0",
   "metadata": {},
   "outputs": [],
   "source": [
    "###############################################################################\n",
    "#                              Visualization  \n",
    "###############################################################################\n",
    "\n",
    "fig=plt.figure(3,figsize=(9,6))\n",
    "\n",
    "LollipopPlot(fig,SolverTime,WhiteSignal,FitSolution2)"
   ]
  },
  {
   "cell_type": "markdown",
   "id": "104b8aaf-10fa-48be-bd10-541bd21f522e",
   "metadata": {},
   "source": [
    "SUCCESS, now let's try a second approach:\n",
    "\n",
    "1. Minimize the squared error using an algorithm and get estimates for the parameters.\n",
    "2. Use the result found in (1) as the initial guess for another least squares optimization (use it in curve_fit)"
   ]
  },
  {
   "cell_type": "code",
   "execution_count": null,
   "id": "55abcc52-10b8-4c68-8344-46a14d05ab15",
   "metadata": {},
   "outputs": [],
   "source": [
    "'''\n",
    "A good algorithm for non-differentiable objective functions, or challenging non-linear and noisy optimization problems\n",
    "is the Nelder-Mead optimization algorithm. It is often used for multidimensional nonlinear function optimization problems, although it can get stuck in local optima.\n",
    "My reference for this was: https://machinelearningmastery.com/how-to-use-nelder-mead-optimization-in-python/\n",
    "'''\n",
    "\n",
    "###############################################################################\n",
    "#                    Initial values Nelder-Mean Fitting\n",
    "###############################################################################\n",
    "\n",
    "#Vector of random initial values \n",
    "g0=[np.random.uniform(low=0,high=1) for val in range(4)] \n",
    "\n",
    "#Minimization of the squared error by Nelder-Mead \n",
    "res = minimize(SquaredError, g0, method='nelder-mead',options={'xtol': 1e-3, 'maxiter':100,'disp': False})\n",
    "\n"
   ]
  },
  {
   "cell_type": "code",
   "execution_count": null,
   "id": "210024db-8d38-4169-8c3a-4a749fc18122",
   "metadata": {},
   "outputs": [],
   "source": [
    "res.success"
   ]
  },
  {
   "cell_type": "code",
   "execution_count": null,
   "id": "c92e0119-15be-4067-8c53-c32d33af27ff",
   "metadata": {},
   "outputs": [],
   "source": [
    "res.message"
   ]
  },
  {
   "cell_type": "code",
   "execution_count": null,
   "id": "bc355126-c7bb-4bc3-b1f1-61e854a3954a",
   "metadata": {},
   "outputs": [],
   "source": [
    "'''\n",
    "Parameters of the model \n",
    "alpha=0.25\n",
    "beta=0.55\n",
    "gamma=0.3\n",
    "delta=0.6\n",
    "'''\n",
    "\n",
    "res.x    #the 4 parameter estimates"
   ]
  },
  {
   "cell_type": "code",
   "execution_count": null,
   "id": "66f305f6-c273-432f-8a2f-c353c858db68",
   "metadata": {},
   "outputs": [],
   "source": [
    "#Now use the result obtained as the initial guess for curve_fit\n",
    "\n",
    "ModelParams03=curve_fit(ModelFit,SolverTime,WhiteSignal,p0=res.x)\n",
    "\n",
    "FitSolution3=ModelSolver(SolverTime,ModelParams03[0][0],ModelParams03[0][1],ModelParams03[0][2],ModelParams03[0][3],Int) #the fitted curve"
   ]
  },
  {
   "cell_type": "code",
   "execution_count": null,
   "id": "591e8d83-1d3b-4477-a826-bff443bef08b",
   "metadata": {},
   "outputs": [],
   "source": [
    "ModelParams03[0] #Much better estimates"
   ]
  },
  {
   "cell_type": "code",
   "execution_count": null,
   "id": "19cde36e-f0b7-4662-860c-d923673b7ab8",
   "metadata": {},
   "outputs": [],
   "source": [
    "ModelParams03[1] #Covariance matrix"
   ]
  },
  {
   "cell_type": "code",
   "execution_count": null,
   "id": "ecdc8b87-d911-4eef-a08f-54389a064b88",
   "metadata": {},
   "outputs": [],
   "source": [
    "sd_array = np.sqrt(np.diag(ModelParams03[1])) #standard deviations of estimated parameters\n",
    "sd_array"
   ]
  },
  {
   "cell_type": "code",
   "execution_count": null,
   "id": "5defbc75-e5ed-4af3-b4b0-3acb586453c9",
   "metadata": {},
   "outputs": [],
   "source": [
    "np.divide(100*sd_array,ModelParams03[0]) #Standard deviations as percentage of estimated parameter values, shows good fit"
   ]
  },
  {
   "cell_type": "code",
   "execution_count": null,
   "id": "a6beae73-1dd1-4859-954e-d8d044192db6",
   "metadata": {},
   "outputs": [],
   "source": [
    "###############################################################################\n",
    "#                              Visualization \n",
    "###############################################################################\n",
    "\n",
    "fig=plt.figure(4,figsize=(9,6))\n",
    "\n",
    "LollipopPlot(fig,SolverTime,WhiteSignal,FitSolution3)"
   ]
  },
  {
   "cell_type": "code",
   "execution_count": null,
   "id": "cba15c1f-7f9e-471e-b1d1-2e98decc86a4",
   "metadata": {},
   "outputs": [],
   "source": [
    "inpData=np.linspace(0,10,20).reshape(-1,2)"
   ]
  },
  {
   "cell_type": "code",
   "execution_count": null,
   "id": "c7dc8241",
   "metadata": {},
   "outputs": [],
   "source": [
    "inpData.shape"
   ]
  },
  {
   "cell_type": "code",
   "execution_count": null,
   "id": "8aee89e4",
   "metadata": {},
   "outputs": [],
   "source": [
    "inpData.flatten()"
   ]
  },
  {
   "cell_type": "code",
   "execution_count": null,
   "id": "0eb0d08e",
   "metadata": {},
   "outputs": [],
   "source": [
    "def func(X, a, b, c):\n",
    "    x,y = X\n",
    "    result0 = np.log(a) + b*np.log(x[0]) + c*np.log(y[0])\n",
    "    result1 = np.log(a) + b*np.log(x[1]) + c*np.log(y[1])\n",
    "    return np.concatenate([result0, result1])\n",
    "\n",
    "# some artificially noisy data to fit\n",
    "x0 = np.linspace(0.1,1.1,101)\n",
    "y0 = np.linspace(1.,2., 101)\n",
    "\n",
    "x1 = np.linspace(0.1,1.1,101)\n",
    "y1 = np.linspace(1.,2., 101)\n",
    "\n",
    "a, b, c = 10., 4., 6.\n",
    "\n",
    "x = np.array([x0,x1])\n",
    "y = np.array([y0,y1])\n",
    "\n",
    "z = func((x,y), a, b, c)\n",
    "# z[0] = z[0] * 1 + np.random.random(101)/100\n",
    "# z[1] = z[1] * 1 + np.random.random(101)/100\n",
    "z = z + np.random.random(2*101)/100\n",
    "# initial guesses for a,b,c:\n",
    "p0 = 8., 2., 7.\n",
    "print(curve_fit(func, (x,y), z, p0))\n"
   ]
  },
  {
   "cell_type": "code",
   "execution_count": null,
   "id": "e2033564",
   "metadata": {},
   "outputs": [],
   "source": [
    "Ca0 = 1.0\n",
    "k1 = k_1 = 3.0\n",
    "\n",
    "tspan = np.linspace(0, 0.5,10)\n",
    "\n",
    "def C(K):\n",
    "    k1, k_1 = K\n",
    "    def dCdt(Ca, t, K):\n",
    "        k1,k_1 = K\n",
    "        return -k1 * Ca + k_1 * (Ca0 - Ca)\n",
    "    sol = odeint(dCdt, Ca0, tspan, tuple((k1, k_1)))\n",
    "    return sol\n",
    "\n",
    "plt.plot(tspan, C([k1, k_1]))\n",
    "plt.xlim([tspan.min(), tspan.max()])\n",
    "plt.xlabel('t')\n",
    "plt.ylabel('C');"
   ]
  },
  {
   "cell_type": "code",
   "execution_count": null,
   "id": "9b637f01",
   "metadata": {},
   "outputs": [],
   "source": [
    "np.asarray(C([k1, k_1])) "
   ]
  },
  {
   "cell_type": "code",
   "execution_count": null,
   "id": "0c9a82fa",
   "metadata": {},
   "outputs": [],
   "source": [
    "j = jacrev(C)"
   ]
  },
  {
   "cell_type": "code",
   "execution_count": null,
   "id": "2b81b8cc",
   "metadata": {},
   "outputs": [],
   "source": [
    "np.asarray(j([k1,k_1])).shape"
   ]
  },
  {
   "cell_type": "code",
   "execution_count": null,
   "id": "a60c8ec5",
   "metadata": {},
   "outputs": [],
   "source": [
    "import time\n",
    "t0 = time.time()\n",
    "dCdk = jacobian(C, 0)\n",
    "\n",
    "\n",
    "k_sensitivity = dCdk(np.array([k1, k_1]))\n",
    "\n",
    "k1_sensitivity = k_sensitivity[:, 0, 0]\n",
    "k_1_sensitivity = k_sensitivity[:, 0, 1]\n",
    "\n",
    "plt.plot(tspan, np.abs(k1_sensitivity), label='dC/dk1')\n",
    "plt.plot(tspan, np.abs(k_1_sensitivity), label='dC/dk_1')\n",
    "plt.legend(loc='best')\n",
    "plt.xlabel('t')\n",
    "plt.ylabel('sensitivity')\n",
    "print(f'Elapsed time = {time.time() - t0:1.1f} seconds')"
   ]
  },
  {
   "cell_type": "code",
   "execution_count": null,
   "id": "7144eedc",
   "metadata": {},
   "outputs": [],
   "source": [
    "k_sensitivity.shape"
   ]
  },
  {
   "cell_type": "code",
   "execution_count": null,
   "id": "77ee11e1",
   "metadata": {},
   "outputs": [],
   "source": [
    "import autograd.numpy as np\n",
    "from autograd import jacobian\n",
    "\n",
    "def my_add(K):\n",
    "    a,b,c,d = K\n",
    "    return a + b + c + 2*d\n",
    "\n",
    "a0 = np.array([1.0, 2.0])\n",
    "b0 = np.array([3.0, 4.0])\n",
    "c0 = np.array([3.0, 4.0])\n",
    "d0 = np.array([3.0, 4.0])\n",
    "my_add_j = jacobian(my_add,argnum=(0))\n"
   ]
  },
  {
   "cell_type": "code",
   "execution_count": null,
   "id": "6f71e611",
   "metadata": {},
   "outputs": [],
   "source": [
    "jacoutput = my_add_j(np.array([a0, b0,c0,d0]))"
   ]
  },
  {
   "cell_type": "code",
   "execution_count": null,
   "id": "4280fa1b",
   "metadata": {},
   "outputs": [],
   "source": [
    "jacoutput[0,:,:].shape"
   ]
  },
  {
   "cell_type": "code",
   "execution_count": null,
   "id": "24c44ed0",
   "metadata": {},
   "outputs": [],
   "source": [
    "import autograd.numpy as np\n",
    "from autograd import jacobian\n",
    "\n",
    "def my_add(a, b):\n",
    "    return a + b\n",
    "\n",
    "a0 = np.array([1.0, 2.0])\n",
    "b0 = np.array([3.0, 4.0])\n",
    "my_add_j = jacobian(my_add, argnum=(0, 1))\n",
    "my_add_j(a0, b0)"
   ]
  },
  {
   "cell_type": "code",
   "execution_count": null,
   "id": "2722704b",
   "metadata": {},
   "outputs": [],
   "source": []
  }
 ],
 "metadata": {
  "kernelspec": {
   "display_name": "Python [conda env:myvirtualenv]",
   "language": "python",
   "name": "conda-env-myvirtualenv-py"
  },
  "language_info": {
   "codemirror_mode": {
    "name": "ipython",
    "version": 3
   },
   "file_extension": ".py",
   "mimetype": "text/x-python",
   "name": "python",
   "nbconvert_exporter": "python",
   "pygments_lexer": "ipython3",
   "version": "3.9.12"
  }
 },
 "nbformat": 4,
 "nbformat_minor": 5
}
