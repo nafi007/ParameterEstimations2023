{
 "cells": [
  {
   "cell_type": "code",
   "execution_count": 1,
   "id": "d4edd778-e8b9-4991-8b38-7e54922dc35b",
   "metadata": {},
   "outputs": [],
   "source": [
    "# import numpy as np\n",
    "import matplotlib.pyplot as plt\n",
    "import matplotlib.patheffects as path_effects\n",
    "\n",
    "# from scipy.integrate import odeint\n",
    "################################################\n",
    "from autograd.scipy.integrate import odeint\n",
    "from autograd.builtins import tuple\n",
    "################################################\n",
    "\n",
    "# from jax.experimental.ode import odeint\n",
    "from scipy.optimize import minimize\n",
    "from scipy.optimize import curve_fit"
   ]
  },
  {
   "cell_type": "code",
   "execution_count": 2,
   "id": "ab8c2d70",
   "metadata": {},
   "outputs": [],
   "source": [
    "# import jax \n",
    "# import jax.numpy as jnp\n",
    "\n",
    "import autograd.numpy as np   # Thinly-wrapped version of Numpy\n",
    "from autograd import grad\n",
    "from autograd import jacobian"
   ]
  },
  {
   "cell_type": "code",
   "execution_count": 3,
   "id": "15fc5da3",
   "metadata": {},
   "outputs": [],
   "source": [
    "from multiprocessing import Pool, Process"
   ]
  },
  {
   "cell_type": "code",
   "execution_count": 4,
   "id": "9b4b17f4",
   "metadata": {},
   "outputs": [],
   "source": [
    "# from multiprocessing import multiprocess"
   ]
  },
  {
   "cell_type": "code",
   "execution_count": 5,
   "id": "75693d5f-820b-4e5a-874d-3121a08e7f55",
   "metadata": {},
   "outputs": [],
   "source": [
    "#General plotting functions\n",
    "#Elimates the left and top lines and ticks in a matplotlib plot \n",
    "def PlotStyle(Axes,Title):\n",
    "    \n",
    "    Axes.spines['top'].set_visible(False)\n",
    "    Axes.spines['right'].set_visible(False)\n",
    "    Axes.spines['bottom'].set_visible(True)\n",
    "    Axes.spines['left'].set_visible(True)\n",
    "    Axes.xaxis.set_tick_params(labelsize=14)\n",
    "    Axes.yaxis.set_tick_params(labelsize=14)\n",
    "    Axes.set_title(Title)\n",
    "\n",
    "#Lollipop plot based on the python graph gallery implementation \n",
    "def LollipopPlot(Fig,Time,Data,Regression):\n",
    "    \n",
    "    cTime=Time\n",
    "    cData=Data\n",
    "    cRegression=Regression\n",
    "    \n",
    "    ax=Fig.gca()\n",
    "\n",
    "    (markers, stemlines, baseline) = ax.stem(cTime, cData,bottom=-0.4,label='Data',basefmt=\" \")\n",
    "    plt.setp(stemlines, linestyle=\"-\", color=\"red\", linewidth=0.5,alpha=0.5 )\n",
    "    plt.setp(markers, color=\"red\",alpha=0.75 )\n",
    "\n",
    "    ax.plot(cTime,cRegression,'b-',label='Regression',path_effects=[path_effects.SimpleLineShadow(alpha=0.2,rho=0.2),\n",
    "                       path_effects.Normal()])\n",
    "  \n",
    "    ax.set_ylabel('Normalized Population',fontsize=16,fontweight='bold')\n",
    "    ax.set_xlabel('Time',fontsize=16,fontweight='bold')\n",
    "    ax.legend(loc=0,fontsize=14)\n",
    "    ax.set_ylim(-0.4,3.4)\n",
    "    PlotStyle(ax,'')"
   ]
  },
  {
   "cell_type": "markdown",
   "id": "229c32b8-4d9c-4104-8df7-d09236cccf61",
   "metadata": {},
   "source": [
    "## Parameter Estimation of Non-Linear ODE system"
   ]
  },
  {
   "cell_type": "code",
   "execution_count": 6,
   "id": "afd6123f-0173-411a-88f1-e7b8173a404e",
   "metadata": {},
   "outputs": [],
   "source": [
    "#Let's consider the Lodka-Volterra model, also known as the predator-prey model. (https://en.wikipedia.org/wiki/Lotka%E2%80%93Volterra_equations)"
   ]
  },
  {
   "cell_type": "markdown",
   "id": "4aa77c79-2c87-4da0-9267-88e95a631ac9",
   "metadata": {},
   "source": [
    "$\\frac{\\partial R}{\\partial t} = R(\\alpha - \\beta W),  \\hspace{1cm} W(0)=W_{0} \\\\$\n",
    "$\\frac{\\partial W}{\\partial t} = -W(\\gamma - \\delta R),\\hspace{1cm} R(0)=R_{0}$\n",
    "\n",
    "\n"
   ]
  },
  {
   "cell_type": "code",
   "execution_count": null,
   "id": "a747d87e",
   "metadata": {},
   "outputs": [],
   "source": []
  },
  {
   "cell_type": "code",
   "execution_count": 7,
   "id": "ed1f295a-fe25-4887-a65a-4d3fbdf02bcf",
   "metadata": {},
   "outputs": [],
   "source": [
    "#Non linear model\n",
    "def MakeModel(k_1,k_n1,J_11,phi_pRB,k_p,k_2,a ,k_n2,J_12,phi_E2F1, StateVariables):\n",
    "    Variables = StateVariables\n",
    "    Equation1= ((k_1*(Variables[1]/(k_n1+Variables[1]))) * (J_11/(J_11+Variables[0]))) - (phi_pRB*Variables[0])\n",
    "    Equation2= k_p + ((k_2*((a**2 + Variables[1]**2) / (k_n2**2 + Variables[1]**2))) * (J_12/(J_12+Variables[0]))) \\\n",
    "               - phi_E2F1*Variables[1] \n",
    "    \n",
    "    return np.array([Equation1,Equation2])\n",
    "\n",
    "#Integration time\n",
    "GlobalSolverTime=np.linspace(0,800,num=10)\n",
    "\n",
    "#Parameters of the model \n",
    "k_1 = 1\n",
    "k_n1=0.5\n",
    "J_11=0.5\n",
    "phi_pRB=0.005\n",
    "k_p = 0.05\n",
    "k_2 = 1.6\n",
    "a = 0.04\n",
    "k_n2 = 4\n",
    "J_12 = 5\n",
    "phi_E2F1 = 0.1\n",
    "\n",
    "true_parameter_array = np.array([k_1,k_n1,J_11,phi_pRB,k_p,k_2,a ,k_n2,J_12,phi_E2F1])\n",
    "# ESTIMATE: k_1, J_11, k_n2, J_12\n",
    "\n",
    "num_parameters = 10 #Number of parameters in total\n",
    "est_par_index = [0,2,7,8]\n",
    "num_unknown_parameters = len(est_par_index)\n",
    "#True initial conditions \n",
    "Int=np.array([1,5])  # [pRB(0), E2F1(0)] \n",
    "\n",
    "######################################################\n",
    "# #Model Solution \n",
    "# def ODEModel(StateVariables,t):\n",
    "\n",
    "#     return MakeModel(k_1,k_n1,J_11,phi_pRB,k_p,k_2,a ,k_n2,J_12,phi_E2F1,StateVariables)\n",
    "\n",
    "# Solution=odeint(ODEModel,Int,SolverTime)\n",
    "########################################################\n",
    "\n",
    "def ODEModel(StateVariables,t,k_1,k_n1,J_11,phi_pRB,k_p,k_2,a,k_n2,J_12,phi_E2F1):\n",
    "\n",
    "    return MakeModel(k_1,k_n1,J_11,phi_pRB,k_p,k_2,a ,k_n2,J_12,phi_E2F1,StateVariables)\n",
    "\n",
    "Solution = odeint(ODEModel,Int,GlobalSolverTime,tuple([k_1,k_n1,J_11,phi_pRB,k_p,k_2,a ,k_n2,J_12,phi_E2F1]))"
   ]
  },
  {
   "cell_type": "code",
   "execution_count": 8,
   "id": "6c47a94c-05f2-4825-81b9-8234a0ce09d1",
   "metadata": {},
   "outputs": [
    {
     "data": {
      "image/png": "[encoded data removed]",
      "text/plain": [
       "<Figure size 648x432 with 1 Axes>"
      ]
     },
     "metadata": {
      "needs_background": "light"
     },
     "output_type": "display_data"
    }
   ],
   "source": [
    "#Visualization\n",
    "plt.figure(1,figsize=(9,6))\n",
    "\n",
    "plt.plot(GlobalSolverTime,Solution[:,0],'b-',label='pRB',path_effects=[path_effects.SimpleLineShadow(alpha=0.2,rho=0.2),\n",
    "                       path_effects.Normal()])\n",
    "plt.plot(GlobalSolverTime,Solution[:,1],'g-',label='E2F1',path_effects=[path_effects.SimpleLineShadow(alpha=0.2,rho=0.2),\n",
    "                       path_effects.Normal()])\n",
    "\n",
    "plt.xlabel('Time',fontsize=16,fontweight='bold')\n",
    "plt.ylabel('Concentration',fontsize=16,fontweight='bold')\n",
    "plt.legend(loc=0,fontsize=14)\n",
    "\n",
    "ax=plt.gca()\n",
    "PlotStyle(ax,'')\n"
   ]
  },
  {
   "cell_type": "code",
   "execution_count": 9,
   "id": "cc003202",
   "metadata": {},
   "outputs": [],
   "source": [
    "# concat_time = np.concatenate((SolverTime,SolverTime))"
   ]
  },
  {
   "cell_type": "code",
   "execution_count": 10,
   "id": "46ca1fb6-5fc9-46a7-9387-99a28ddfe32e",
   "metadata": {},
   "outputs": [],
   "source": [
    "###############################################################################\n",
    "#                            Data generation  \n",
    "###############################################################################\n",
    "def MakeNoisyData(Data,Noise):\n",
    "    \n",
    "    return [val+cal for val,cal in zip(Data,Noise)]\n",
    "\n",
    "GaussianNoise1=[np.random.normal(0,0.001) for val in Solution[:,0]]  \n",
    "GaussianNoise2=[np.random.normal(0,0.001) for val in Solution[:,1]]  \n",
    "Signal1=MakeNoisyData(Solution[:,0],GaussianNoise1)\n",
    "Signal2=MakeNoisyData(Solution[:,1],GaussianNoise2)"
   ]
  },
  {
   "cell_type": "code",
   "execution_count": 11,
   "id": "196ce8fb",
   "metadata": {},
   "outputs": [],
   "source": [
    "Signal1 = np.asarray(Signal1)\n",
    "Signal2 = np.asarray(Signal2)"
   ]
  },
  {
   "cell_type": "code",
   "execution_count": 12,
   "id": "25c9ccdb",
   "metadata": {},
   "outputs": [],
   "source": [
    "concat_noisy_signal = np.concatenate((Signal1,Signal2))"
   ]
  },
  {
   "cell_type": "code",
   "execution_count": 13,
   "id": "56ac822a",
   "metadata": {},
   "outputs": [
    {
     "data": {
      "text/plain": [
       "20"
      ]
     },
     "execution_count": 13,
     "metadata": {},
     "output_type": "execute_result"
    }
   ],
   "source": [
    "num_concatdata_points = concat_noisy_signal.shape[0]\n",
    "num_concatdata_points"
   ]
  },
  {
   "cell_type": "code",
   "execution_count": 14,
   "id": "612171fd",
   "metadata": {},
   "outputs": [
    {
     "data": {
      "text/plain": [
       "(10,)"
      ]
     },
     "execution_count": 14,
     "metadata": {},
     "output_type": "execute_result"
    }
   ],
   "source": [
    "np.asarray(Signal1).shape"
   ]
  },
  {
   "cell_type": "code",
   "execution_count": 15,
   "id": "19ddf3d8-3e9a-4fda-80fa-1286cc3e7d10",
   "metadata": {},
   "outputs": [
    {
     "name": "stderr",
     "output_type": "stream",
     "text": [
      "/Users/md.shahriarrahimsiddiqui/opt/anaconda3/envs/myvirtualenv/lib/python3.9/site-packages/scipy/integrate/odepack.py:247: ODEintWarning: Excess work done on this call (perhaps wrong Dfun type). Run with full_output = 1 to get quantitative information.\n",
      "  warnings.warn(warning_msg, ODEintWarning)\n"
     ]
    }
   ],
   "source": [
    "# ESTIMATE: k_1, J_11, k_n2, J_12\n",
    "###############################################################################\n",
    "#                    ODE system model fitting  \n",
    "###############################################################################\n",
    "# LATER: Consider the initial parameters as two extra parameters (so 10+2 = 12 parameters in total)\n",
    "#ModelSolver is the forward solver/integrator\n",
    "def ModelSolver(t,k_1,k_n1,J_11,phi_pRB,k_p,k_2,a ,k_n2,J_12,phi_E2F1,InitialConditions):\n",
    "    \n",
    "    ck_1 =  k_1\n",
    "    ck_n1 =  k_n1\n",
    "    cJ_11 = J_11\n",
    "    cphi_pRB =  phi_pRB\n",
    "    ck_p = k_p\n",
    "    ck_2 = k_2\n",
    "    ca = a\n",
    "    ck_n2 = k_n2 \n",
    "    cJ_12 = J_12\n",
    "    cphi_E2F1 = phi_E2F1\n",
    "    \n",
    "    cInit=InitialConditions\n",
    "    \n",
    "    def LocalModel(cInit,t):\n",
    "        \n",
    "        return MakeModel(ck_1,ck_n1,cJ_11,cphi_pRB,ck_p,ck_2,ca,ck_n2,cJ_12,cphi_E2F1,cInit)\n",
    "    \n",
    "    Solution=odeint(LocalModel,cInit,t)\n",
    "    \n",
    "    return np.concatenate((Solution[:,0],Solution[:,1]))\n",
    "\n",
    "def ModelFit(t,k_1,J_11,k_n2,J_12): #change these if the parameters to be estimated change\n",
    "    #the values of the other parameters are obtained from their global scope \n",
    "    t1,t2 =  t #t1 and t2 should be identical\n",
    "    return ModelSolver(t1,k_1,k_n1,J_11,phi_pRB,k_p,k_2,a ,k_n2,J_12,phi_E2F1,Int)\n",
    "\n",
    "# p0 = np.random.rand(4)\n",
    "p0 = np.array([0.45467901, 0.99152412, 0.89004968, 0.48321337])\n",
    "weights = np.ones(num_concatdata_points) #Initially, all weights are 1\n",
    "sigma_now = 1/np.sqrt(weights)\n",
    "ModelParams01=curve_fit(ModelFit,(GlobalSolverTime,GlobalSolverTime),concat_noisy_signal,p0,sigma=sigma_now)\n",
    "\n",
    "# #Parameters of the model \n",
    "# k_1 = 1\n",
    "# k_n1=0.5\n",
    "# J_11=0.5\n",
    "# phi_pRB=0.005\n",
    "# k_p = 0.05\n",
    "# k_2 = 1.6\n",
    "# a = 0.04\n",
    "# k_n2 = 4\n",
    "# J_12 = 5\n",
    "# phi_E2F1 = 0.1\n",
    "\n",
    "\n",
    "# FitSolution=ModelSolver(SolverTime,ModelParams01[0][0],ModelParams01[0][1],ModelParams01[0][2],ModelParams01[0][3],Int) #fitted solution"
   ]
  },
  {
   "cell_type": "code",
   "execution_count": 16,
   "id": "1d524eb2",
   "metadata": {},
   "outputs": [],
   "source": [
    "# p0 = array([0.45467901, 0.99152412, 0.89004968, 0.48321337]) doesn't throw warning."
   ]
  },
  {
   "cell_type": "code",
   "execution_count": 17,
   "id": "25615280",
   "metadata": {},
   "outputs": [
    {
     "data": {
      "text/plain": [
       "(array([0.9960161 , 0.50219637, 3.99999157, 4.9995012 ]),\n",
       " array([[ 6.25893809e-05, -3.38229830e-05,  2.75222757e-06,\n",
       "          9.84132621e-06],\n",
       "        [-3.38229830e-05,  1.82801706e-05, -1.46468823e-06,\n",
       "         -5.26225905e-06],\n",
       "        [ 2.75222757e-06, -1.46468823e-06,  1.19220066e-06,\n",
       "          2.86378132e-06],\n",
       "        [ 9.84132621e-06, -5.26225905e-06,  2.86378132e-06,\n",
       "          7.18609356e-06]]))"
      ]
     },
     "execution_count": 17,
     "metadata": {},
     "output_type": "execute_result"
    }
   ],
   "source": [
    "    \n",
    "ModelParams01"
   ]
  },
  {
   "cell_type": "code",
   "execution_count": 18,
   "id": "d27bf2de",
   "metadata": {},
   "outputs": [],
   "source": [
    "# ESTIMATE: k_1, J_11, k_n2, J_12"
   ]
  },
  {
   "cell_type": "code",
   "execution_count": 19,
   "id": "afb7524e",
   "metadata": {},
   "outputs": [
    {
     "data": {
      "text/plain": [
       "array([0.9960161 , 0.50219637, 3.99999157, 4.9995012 ])"
      ]
     },
     "execution_count": 19,
     "metadata": {},
     "output_type": "execute_result"
    }
   ],
   "source": [
    "ModelParams01[0]"
   ]
  },
  {
   "cell_type": "code",
   "execution_count": 20,
   "id": "3c4b4c52",
   "metadata": {},
   "outputs": [],
   "source": [
    "fitSolverTime = np.linspace(0,800,num=300)"
   ]
  },
  {
   "cell_type": "code",
   "execution_count": 21,
   "id": "dd4fd91c",
   "metadata": {},
   "outputs": [],
   "source": [
    "#Visualize fit solution\n",
    "k_1_fit = ModelParams01[0][0]\n",
    "J_11_fit = ModelParams01[0][1]\n",
    "k_n2_fit = ModelParams01[0][2]\n",
    "J_12_fit = ModelParams01[0][3]\n",
    "Fit = ModelSolver(fitSolverTime,k_1_fit,k_n1,J_11_fit,phi_pRB,k_p,k_2,a ,k_n2_fit,J_12_fit,phi_E2F1,Int)"
   ]
  },
  {
   "cell_type": "code",
   "execution_count": 22,
   "id": "4a4da171",
   "metadata": {},
   "outputs": [],
   "source": [
    "prb_fit = Fit[:(int(len(Fit)/2))]\n",
    "e2f1_fit= Fit[int((len(Fit)/2)):]"
   ]
  },
  {
   "cell_type": "code",
   "execution_count": 23,
   "id": "f28c1940",
   "metadata": {},
   "outputs": [
    {
     "data": {
      "text/plain": [
       "(300,)"
      ]
     },
     "execution_count": 23,
     "metadata": {},
     "output_type": "execute_result"
    }
   ],
   "source": [
    "prb_fit.shape"
   ]
  },
  {
   "cell_type": "code",
   "execution_count": 24,
   "id": "c1cb20d1",
   "metadata": {},
   "outputs": [
    {
     "data": {
      "image/png": "[encoded data removed]",
      "text/plain": [
       "<Figure size 648x432 with 1 Axes>"
      ]
     },
     "metadata": {
      "needs_background": "light"
     },
     "output_type": "display_data"
    }
   ],
   "source": [
    "#Visualization\n",
    "plt.figure(1,figsize=(9,6))\n",
    "plt.plot(fitSolverTime,prb_fit,'b-',label='pRB',path_effects=[path_effects.SimpleLineShadow(alpha=0.2,rho=0.2),\n",
    "                       path_effects.Normal()])\n",
    "plt.plot(fitSolverTime,e2f1_fit,'g-',label='E2F1',path_effects=[path_effects.SimpleLineShadow(alpha=0.2,rho=0.2),\n",
    "                       path_effects.Normal()])\n",
    "\n",
    "plt.xlabel('Time',fontsize=16,fontweight='bold')\n",
    "plt.ylabel('Concentration',fontsize=16,fontweight='bold')\n",
    "plt.legend(loc=0,fontsize=14)\n",
    "\n",
    "\n",
    "ax=plt.gca()\n",
    "PlotStyle(ax,'')\n"
   ]
  },
  {
   "cell_type": "code",
   "execution_count": 25,
   "id": "4a96ae69",
   "metadata": {},
   "outputs": [],
   "source": [
    "#ModelSolver is the forward solver/integrator\n",
    "#True initial conditions \n",
    "InitialConditions=np.array([1,5])  # [pRB(0), E2F1(0)] \n",
    "#Redefine SolverTime\n",
    "# SolverTime=np.linspace(0,800,num=10)\n",
    "def ModelSolver_g(K):\n",
    "    k_1,k_n1,J_11,phi_pRB,k_p,k_2,a ,k_n2,J_12,phi_E2F1 = K\n",
    "    t = GlobalSolverTime #defined globally\n",
    "    ck_1 =  k_1\n",
    "    ck_n1 =  k_n1\n",
    "    cJ_11 = J_11\n",
    "    cphi_pRB =  phi_pRB\n",
    "    ck_p = k_p\n",
    "    ck_2 = k_2\n",
    "    ca = a\n",
    "    ck_n2 = k_n2 \n",
    "    cJ_12 = J_12\n",
    "    cphi_E2F1 = phi_E2F1\n",
    "    \n",
    "    cInit=InitialConditions\n",
    "    \n",
    "    def LocalModel(cInit,t,ck_1,ck_n1,cJ_11,cphi_pRB,ck_p,ck_2,ca,ck_n2,cJ_12,cphi_E2F1):\n",
    "        \n",
    "        return MakeModel(ck_1,ck_n1,cJ_11,cphi_pRB,ck_p,ck_2,ca,ck_n2,cJ_12,cphi_E2F1,cInit)\n",
    "    \n",
    "    Solution=odeint(LocalModel,cInit,t,tuple([ck_1,ck_n1,cJ_11,cphi_pRB,ck_p,ck_2,ca,ck_n2,cJ_12,cphi_E2F1]))\n",
    "    \n",
    "    return np.concatenate((Solution[:,0],Solution[:,1]))"
   ]
  },
  {
   "cell_type": "code",
   "execution_count": 26,
   "id": "050fb170",
   "metadata": {},
   "outputs": [],
   "source": [
    "jacobian_func = jacobian(ModelSolver_g,(0)) #Define the jacobian outputting function"
   ]
  },
  {
   "cell_type": "code",
   "execution_count": 27,
   "id": "90663e05",
   "metadata": {},
   "outputs": [],
   "source": [
    "# #Parameters of the model \n",
    "# k_1 = 1\n",
    "# k_n1=0.5\n",
    "# J_11=0.5\n",
    "# phi_pRB=0.005\n",
    "# k_p = 0.05\n",
    "# k_2 = 1.6\n",
    "# a = 0.04\n",
    "# k_n2 = 4\n",
    "# J_12 = 5\n",
    "# phi_E2F1 = 0.1\n",
    "\n",
    "#Let's now take the gradient of ModelSolver with respect to the unknown parameters k_1, J_11, k_n2, J_12"
   ]
  },
  {
   "cell_type": "code",
   "execution_count": 28,
   "id": "32126df8",
   "metadata": {},
   "outputs": [],
   "source": [
    "jacobian_output = jacobian_func(np.array([1.0,0.5,0.5,0.005,0.05,1.6,0.04,4.0,5.0,0.1]))"
   ]
  },
  {
   "cell_type": "code",
   "execution_count": 29,
   "id": "0b2afbac",
   "metadata": {},
   "outputs": [
    {
     "data": {
      "text/plain": [
       "numpy.ndarray"
      ]
     },
     "execution_count": 29,
     "metadata": {},
     "output_type": "execute_result"
    }
   ],
   "source": [
    "type(jacobian_output)"
   ]
  },
  {
   "cell_type": "code",
   "execution_count": 30,
   "id": "27580827",
   "metadata": {},
   "outputs": [
    {
     "data": {
      "text/plain": [
       "(20, 10)"
      ]
     },
     "execution_count": 30,
     "metadata": {},
     "output_type": "execute_result"
    }
   ],
   "source": [
    "jacobian_output.shape  #[num_data_points,num_parameters]"
   ]
  },
  {
   "cell_type": "code",
   "execution_count": null,
   "id": "ea9bfaf3",
   "metadata": {},
   "outputs": [],
   "source": [
    "# ESTIMATE: k_1, J_11, k_n2, J_12\n",
    "# est_par_index = [0,2,7,8]"
   ]
  },
  {
   "cell_type": "code",
   "execution_count": null,
   "id": "880a99e0",
   "metadata": {},
   "outputs": [],
   "source": [
    "jacobian_estpar = jacobian_output[:,est_par_index]  #this is our J"
   ]
  },
  {
   "cell_type": "code",
   "execution_count": null,
   "id": "44811c8b",
   "metadata": {},
   "outputs": [],
   "source": [
    "jacobian_estpar.shape"
   ]
  },
  {
   "cell_type": "code",
   "execution_count": null,
   "id": "6f25c3e8",
   "metadata": {},
   "outputs": [],
   "source": [
    "W = np.diag(weights)"
   ]
  },
  {
   "cell_type": "code",
   "execution_count": null,
   "id": "e73d7670",
   "metadata": {},
   "outputs": [],
   "source": [
    "W.shape"
   ]
  },
  {
   "cell_type": "code",
   "execution_count": null,
   "id": "148aeba3",
   "metadata": {},
   "outputs": [],
   "source": [
    "WJ = np.matmul(W,jacobian_estpar) #the \"WJ\" part in J^T * W * J"
   ]
  },
  {
   "cell_type": "code",
   "execution_count": null,
   "id": "432f4aca",
   "metadata": {},
   "outputs": [],
   "source": [
    "JTJ = np.matmul(jacobian_estpar.T,WJ)  #this is our J_T*W*J which is the Fisher information matrix approximation"
   ]
  },
  {
   "cell_type": "code",
   "execution_count": null,
   "id": "7a07a836",
   "metadata": {},
   "outputs": [],
   "source": [
    "JTJ.shape"
   ]
  },
  {
   "cell_type": "code",
   "execution_count": null,
   "id": "25394bfa",
   "metadata": {},
   "outputs": [],
   "source": [
    "I = JTJ   #Fisher Information Matrix approximation"
   ]
  },
  {
   "cell_type": "code",
   "execution_count": null,
   "id": "cef133c1",
   "metadata": {},
   "outputs": [],
   "source": [
    "np.arange(10)"
   ]
  },
  {
   "cell_type": "code",
   "execution_count": null,
   "id": "95dab652",
   "metadata": {},
   "outputs": [],
   "source": [
    "temp = np.ones(10)"
   ]
  },
  {
   "cell_type": "code",
   "execution_count": null,
   "id": "d08cee7b",
   "metadata": {},
   "outputs": [],
   "source": [
    "temp[est_par_index] = np.array([134,14,151,525])"
   ]
  },
  {
   "cell_type": "code",
   "execution_count": null,
   "id": "c112b6cf",
   "metadata": {},
   "outputs": [],
   "source": [
    "temp"
   ]
  },
  {
   "cell_type": "code",
   "execution_count": null,
   "id": "d0bd2562",
   "metadata": {},
   "outputs": [],
   "source": [
    "for i in range(num_concatdata_points):\n",
    "    print(i)"
   ]
  },
  {
   "cell_type": "code",
   "execution_count": null,
   "id": "134cfe0f",
   "metadata": {},
   "outputs": [],
   "source": [
    "temp1 = np.array([1,2,3,4])"
   ]
  },
  {
   "cell_type": "code",
   "execution_count": null,
   "id": "8d925a7c",
   "metadata": {},
   "outputs": [],
   "source": [
    "1/ np.sqrt(temp1)"
   ]
  },
  {
   "cell_type": "code",
   "execution_count": null,
   "id": "7fd2e361",
   "metadata": {},
   "outputs": [],
   "source": []
  },
  {
   "cell_type": "code",
   "execution_count": 27,
   "id": "d49ffa0d",
   "metadata": {},
   "outputs": [],
   "source": [
    "#concatenated data is assumed to have Gaussian noise added\n",
    "def ParameterEstimation(current_weights,S2_concatdata,S2_SolverTime):\n",
    "    \n",
    "    # p0 = np.random.rand(4)\n",
    "    p0 = np.array([0.45467901, 0.99152412, 0.89004968, 0.48321337])\n",
    "#     weights = np.ones(S2_concatdata) #Initially, all weights are 1\n",
    "    current_sigma = 1/np.sqrt(current_weights)\n",
    "#     print(current_sigma.shape)\n",
    "#     print(S2_concatdata.shape)\n",
    "    OptimPar_and_covMatrix=curve_fit(ModelFit,(S2_SolverTime,S2_SolverTime),S2_concatdata,p0,sigma=current_sigma)\n",
    "    \n",
    "    return OptimPar_and_covMatrix #a tuple, parameters estimated from S2 data points"
   ]
  },
  {
   "cell_type": "code",
   "execution_count": 28,
   "id": "1f11fb97",
   "metadata": {},
   "outputs": [],
   "source": [
    "def CalculateJacobian(ParamEstOutput):\n",
    "    parameter_array = true_parameter_array #true_parameter_array is defined globally\n",
    "    parameter_array[est_par_index] = ParamEstOutput[0] #est_par_index is defined globally\n",
    "    jacobian_output = jacobian_func(parameter_array)\n",
    "    \n",
    "    JacobianMatrix = jacobian_output[:,est_par_index]  #this is our J\n",
    "    \n",
    "    return JacobianMatrix #numpy array of shape [num_concat_data_points, num_estimated_parameters]"
   ]
  },
  {
   "cell_type": "code",
   "execution_count": 41,
   "id": "2c2c68d9",
   "metadata": {},
   "outputs": [],
   "source": [
    "#input index of concatenated data point that we want the weight of\n",
    "def ComputeWeights(iw):\n",
    "    # \"i\" is the index of data points S1\n",
    "    #JTJ = np.matmul(J.T,J)\n",
    "    #I = JTJ #approximate total Fisher Information Matrix at optimal parameters. \n",
    "    \n",
    "    #for i in range(num_concatdata_points):\n",
    "    i = int(iw[0])\n",
    "    current_weights = iw[1:]\n",
    "    \n",
    "#     S2_data_signal1 = np.delete(Signal1,i)\n",
    "#     S2_data_signal2 = np.delete(Signal2,i)\n",
    "    S2_SolverTime = np.delete(GlobalSolverTime,i)\n",
    "    S2_weights = np.delete(current_weights, i)\n",
    "    \n",
    "#     S2_concat_data = np.concatenate((S2_data_signal1,S2_data_signal2))\n",
    "    concat_data = np.concatenate((Signal1,Signal2))\n",
    "    S2_concat_data = np.delete(concat_data,i)\n",
    "    \n",
    "    \n",
    "#     print(S2_concat_data.shape)\n",
    "#     print(current_weights.shape)\n",
    "#     print(S2_weights.shape)\n",
    "    #returns a tuple\n",
    "    ParamEstimates_andCovMatrix = ParameterEstimation(S2_weights,S2_concat_data,S2_SolverTime) \n",
    "    \n",
    "    #Now to compute the Jacobian using the parameters estimated from S2\n",
    "    \n",
    "    unknown_parameter_estimates = ParamEstimates_andCovMatrix[0]\n",
    "    temp_parameter_array = true_parameter_array\n",
    "    temp_parameter_array[est_par_index] = unknown_parameter_estimates\n",
    "    \n",
    "    #this computes Jacobian of ALL points with respect to ALL parameters\n",
    "    jacobian_output = jacobian_func(temp_parameter_array) \n",
    "    J = jacobian_output[:,est_par_index]  #this is our J, est_par_index is defined globally\n",
    "    #Now to form J^T * W * J\n",
    "    W = np.diag(current_weights)\n",
    "    ##############################################################################\n",
    "#     WJ = np.matmul(W,J) #the \"WJ\" part in J^T * W * J\n",
    "#     #this is our J_T*W*J which is the Fisher information matrix approximation\n",
    "#     #This is also I, the total Fisher Information Matrix approximation, using the estimated pars from S2\n",
    "#     JTWJ = np.matmul(J.T,WJ)   #I\n",
    "#     ###############################################################################\n",
    "    \n",
    "    #First form I_S1\n",
    "    S1_row_in_jacobian = J[i,:].reshape(1,num_unknown_parameters) #num_unknown_parameters defined globally\n",
    "    #W should be diagonal, JTWJ_S1 should have shape [num_unknown_parameters,num_unknown_parameters]\n",
    "    JTWJ_S1 = W[i,i] * np.matmul(S1_row_in_jacobian.T,S1_row_in_jacobian) \n",
    "    I_S1 = JTWJ_S1  \n",
    "    \n",
    "    #Now form I_S2\n",
    "    num_time_points = np.arange(len(Signal1))\n",
    "    S2_indices = (np.setdiff1d(num_time_points,i)).astype(int)\n",
    "#     print(type(S2_indices))\n",
    "    #If num of S2 points was 1, you'd need to reshape this. But it probably isn't 1, UNLESS you have two time data points\n",
    "    S2_rows_in_jacobian = J[S2_indices,:] \n",
    "    W_forS2 = np.diag(current_weights[S2_indices])\n",
    "    WJ_S2 = np.matmul(W_forS2,S2_rows_in_jacobian)\n",
    "    I_S2 = np.matmul(S2_rows_in_jacobian.T,WJ_S2)\n",
    "    \n",
    "    \n",
    "    I_S1_I_S2 = np.matmul(I_S1,I_S2)\n",
    "    \n",
    "    identity_matrix = np.identity(I_S1_I_S2.shape[0])\n",
    "    I_S1_I_S2_inv = np.linalg.solve(I_S1_I_S2,np.identity_matrix)\n",
    "    \n",
    "    uncertainty_of_S1_given_S2 = (1.0/num_unknown_parameters) * np.trace(I_S1_I_S2_inv)\n",
    "    \n",
    "    new_S1_weight = uncertainty_of_S1_given_S2\n",
    "    \n",
    "    return new_S1_weight"
   ]
  },
  {
   "cell_type": "code",
   "execution_count": 39,
   "id": "f74fbe02",
   "metadata": {},
   "outputs": [
    {
     "data": {
      "text/plain": [
       "(21,)"
      ]
     },
     "execution_count": 39,
     "metadata": {},
     "output_type": "execute_result"
    }
   ],
   "source": [
    "arr[1,:].shape"
   ]
  },
  {
   "cell_type": "code",
   "execution_count": 42,
   "id": "887d47e9",
   "metadata": {},
   "outputs": [
    {
     "ename": "ValueError",
     "evalue": "operands could not be broadcast together with shapes (18,) (19,) ",
     "output_type": "error",
     "traceback": [
      "\u001b[0;31m---------------------------------------------------------------------------\u001b[0m",
      "\u001b[0;31mValueError\u001b[0m                                Traceback (most recent call last)",
      "Input \u001b[0;32mIn [42]\u001b[0m, in \u001b[0;36m<cell line: 1>\u001b[0;34m()\u001b[0m\n\u001b[0;32m----> 1\u001b[0m \u001b[43mComputeWeights\u001b[49m\u001b[43m(\u001b[49m\u001b[43marr\u001b[49m\u001b[43m[\u001b[49m\u001b[38;5;241;43m1\u001b[39;49m\u001b[43m,\u001b[49m\u001b[43m:\u001b[49m\u001b[43m]\u001b[49m\u001b[43m)\u001b[49m\n",
      "Input \u001b[0;32mIn [41]\u001b[0m, in \u001b[0;36mComputeWeights\u001b[0;34m(iw)\u001b[0m\n\u001b[1;32m     18\u001b[0m     S2_concat_data \u001b[38;5;241m=\u001b[39m np\u001b[38;5;241m.\u001b[39mdelete(concat_data,i)\n\u001b[1;32m     21\u001b[0m \u001b[38;5;66;03m#     print(S2_concat_data.shape)\u001b[39;00m\n\u001b[1;32m     22\u001b[0m \u001b[38;5;66;03m#     print(current_weights.shape)\u001b[39;00m\n\u001b[1;32m     23\u001b[0m \u001b[38;5;66;03m#     print(S2_weights.shape)\u001b[39;00m\n\u001b[1;32m     24\u001b[0m     \u001b[38;5;66;03m#returns a tuple\u001b[39;00m\n\u001b[0;32m---> 25\u001b[0m     ParamEstimates_andCovMatrix \u001b[38;5;241m=\u001b[39m \u001b[43mParameterEstimation\u001b[49m\u001b[43m(\u001b[49m\u001b[43mS2_weights\u001b[49m\u001b[43m,\u001b[49m\u001b[43mS2_concat_data\u001b[49m\u001b[43m,\u001b[49m\u001b[43mS2_SolverTime\u001b[49m\u001b[43m)\u001b[49m \n\u001b[1;32m     27\u001b[0m     \u001b[38;5;66;03m#Now to compute the Jacobian using the parameters estimated from S2\u001b[39;00m\n\u001b[1;32m     29\u001b[0m     unknown_parameter_estimates \u001b[38;5;241m=\u001b[39m ParamEstimates_andCovMatrix[\u001b[38;5;241m0\u001b[39m]\n",
      "Input \u001b[0;32mIn [27]\u001b[0m, in \u001b[0;36mParameterEstimation\u001b[0;34m(current_weights, S2_concatdata, S2_SolverTime)\u001b[0m\n\u001b[1;32m      7\u001b[0m     current_sigma \u001b[38;5;241m=\u001b[39m \u001b[38;5;241m1\u001b[39m\u001b[38;5;241m/\u001b[39mnp\u001b[38;5;241m.\u001b[39msqrt(current_weights)\n\u001b[1;32m      8\u001b[0m \u001b[38;5;66;03m#     print(current_sigma.shape)\u001b[39;00m\n\u001b[1;32m      9\u001b[0m \u001b[38;5;66;03m#     print(S2_concatdata.shape)\u001b[39;00m\n\u001b[0;32m---> 10\u001b[0m     OptimPar_and_covMatrix\u001b[38;5;241m=\u001b[39m\u001b[43mcurve_fit\u001b[49m\u001b[43m(\u001b[49m\u001b[43mModelFit\u001b[49m\u001b[43m,\u001b[49m\u001b[43m(\u001b[49m\u001b[43mS2_SolverTime\u001b[49m\u001b[43m,\u001b[49m\u001b[43mS2_SolverTime\u001b[49m\u001b[43m)\u001b[49m\u001b[43m,\u001b[49m\u001b[43mS2_concatdata\u001b[49m\u001b[43m,\u001b[49m\u001b[43mp0\u001b[49m\u001b[43m,\u001b[49m\u001b[43msigma\u001b[49m\u001b[38;5;241;43m=\u001b[39;49m\u001b[43mcurrent_sigma\u001b[49m\u001b[43m)\u001b[49m\n\u001b[1;32m     12\u001b[0m     \u001b[38;5;28;01mreturn\u001b[39;00m OptimPar_and_covMatrix\n",
      "File \u001b[0;32m~/opt/anaconda3/envs/myvirtualenv/lib/python3.9/site-packages/scipy/optimize/minpack.py:789\u001b[0m, in \u001b[0;36mcurve_fit\u001b[0;34m(f, xdata, ydata, p0, sigma, absolute_sigma, check_finite, bounds, method, jac, **kwargs)\u001b[0m\n\u001b[1;32m    787\u001b[0m \u001b[38;5;66;03m# Remove full_output from kwargs, otherwise we're passing it in twice.\u001b[39;00m\n\u001b[1;32m    788\u001b[0m return_full \u001b[38;5;241m=\u001b[39m kwargs\u001b[38;5;241m.\u001b[39mpop(\u001b[38;5;124m'\u001b[39m\u001b[38;5;124mfull_output\u001b[39m\u001b[38;5;124m'\u001b[39m, \u001b[38;5;28;01mFalse\u001b[39;00m)\n\u001b[0;32m--> 789\u001b[0m res \u001b[38;5;241m=\u001b[39m \u001b[43mleastsq\u001b[49m\u001b[43m(\u001b[49m\u001b[43mfunc\u001b[49m\u001b[43m,\u001b[49m\u001b[43m \u001b[49m\u001b[43mp0\u001b[49m\u001b[43m,\u001b[49m\u001b[43m \u001b[49m\u001b[43mDfun\u001b[49m\u001b[38;5;241;43m=\u001b[39;49m\u001b[43mjac\u001b[49m\u001b[43m,\u001b[49m\u001b[43m \u001b[49m\u001b[43mfull_output\u001b[49m\u001b[38;5;241;43m=\u001b[39;49m\u001b[38;5;241;43m1\u001b[39;49m\u001b[43m,\u001b[49m\u001b[43m \u001b[49m\u001b[38;5;241;43m*\u001b[39;49m\u001b[38;5;241;43m*\u001b[39;49m\u001b[43mkwargs\u001b[49m\u001b[43m)\u001b[49m\n\u001b[1;32m    790\u001b[0m popt, pcov, infodict, errmsg, ier \u001b[38;5;241m=\u001b[39m res\n\u001b[1;32m    791\u001b[0m ysize \u001b[38;5;241m=\u001b[39m \u001b[38;5;28mlen\u001b[39m(infodict[\u001b[38;5;124m'\u001b[39m\u001b[38;5;124mfvec\u001b[39m\u001b[38;5;124m'\u001b[39m])\n",
      "File \u001b[0;32m~/opt/anaconda3/envs/myvirtualenv/lib/python3.9/site-packages/scipy/optimize/minpack.py:410\u001b[0m, in \u001b[0;36mleastsq\u001b[0;34m(func, x0, args, Dfun, full_output, col_deriv, ftol, xtol, gtol, maxfev, epsfcn, factor, diag)\u001b[0m\n\u001b[1;32m    408\u001b[0m \u001b[38;5;28;01mif\u001b[39;00m \u001b[38;5;129;01mnot\u001b[39;00m \u001b[38;5;28misinstance\u001b[39m(args, \u001b[38;5;28mtuple\u001b[39m):\n\u001b[1;32m    409\u001b[0m     args \u001b[38;5;241m=\u001b[39m (args,)\n\u001b[0;32m--> 410\u001b[0m shape, dtype \u001b[38;5;241m=\u001b[39m \u001b[43m_check_func\u001b[49m\u001b[43m(\u001b[49m\u001b[38;5;124;43m'\u001b[39;49m\u001b[38;5;124;43mleastsq\u001b[39;49m\u001b[38;5;124;43m'\u001b[39;49m\u001b[43m,\u001b[49m\u001b[43m \u001b[49m\u001b[38;5;124;43m'\u001b[39;49m\u001b[38;5;124;43mfunc\u001b[39;49m\u001b[38;5;124;43m'\u001b[39;49m\u001b[43m,\u001b[49m\u001b[43m \u001b[49m\u001b[43mfunc\u001b[49m\u001b[43m,\u001b[49m\u001b[43m \u001b[49m\u001b[43mx0\u001b[49m\u001b[43m,\u001b[49m\u001b[43m \u001b[49m\u001b[43margs\u001b[49m\u001b[43m,\u001b[49m\u001b[43m \u001b[49m\u001b[43mn\u001b[49m\u001b[43m)\u001b[49m\n\u001b[1;32m    411\u001b[0m m \u001b[38;5;241m=\u001b[39m shape[\u001b[38;5;241m0\u001b[39m]\n\u001b[1;32m    413\u001b[0m \u001b[38;5;28;01mif\u001b[39;00m n \u001b[38;5;241m>\u001b[39m m:\n",
      "File \u001b[0;32m~/opt/anaconda3/envs/myvirtualenv/lib/python3.9/site-packages/scipy/optimize/minpack.py:24\u001b[0m, in \u001b[0;36m_check_func\u001b[0;34m(checker, argname, thefunc, x0, args, numinputs, output_shape)\u001b[0m\n\u001b[1;32m     22\u001b[0m \u001b[38;5;28;01mdef\u001b[39;00m \u001b[38;5;21m_check_func\u001b[39m(checker, argname, thefunc, x0, args, numinputs,\n\u001b[1;32m     23\u001b[0m                 output_shape\u001b[38;5;241m=\u001b[39m\u001b[38;5;28;01mNone\u001b[39;00m):\n\u001b[0;32m---> 24\u001b[0m     res \u001b[38;5;241m=\u001b[39m atleast_1d(\u001b[43mthefunc\u001b[49m\u001b[43m(\u001b[49m\u001b[38;5;241;43m*\u001b[39;49m\u001b[43m(\u001b[49m\u001b[43m(\u001b[49m\u001b[43mx0\u001b[49m\u001b[43m[\u001b[49m\u001b[43m:\u001b[49m\u001b[43mnuminputs\u001b[49m\u001b[43m]\u001b[49m\u001b[43m,\u001b[49m\u001b[43m)\u001b[49m\u001b[43m \u001b[49m\u001b[38;5;241;43m+\u001b[39;49m\u001b[43m \u001b[49m\u001b[43margs\u001b[49m\u001b[43m)\u001b[49m\u001b[43m)\u001b[49m)\n\u001b[1;32m     25\u001b[0m     \u001b[38;5;28;01mif\u001b[39;00m (output_shape \u001b[38;5;129;01mis\u001b[39;00m \u001b[38;5;129;01mnot\u001b[39;00m \u001b[38;5;28;01mNone\u001b[39;00m) \u001b[38;5;129;01mand\u001b[39;00m (shape(res) \u001b[38;5;241m!=\u001b[39m output_shape):\n\u001b[1;32m     26\u001b[0m         \u001b[38;5;28;01mif\u001b[39;00m (output_shape[\u001b[38;5;241m0\u001b[39m] \u001b[38;5;241m!=\u001b[39m \u001b[38;5;241m1\u001b[39m):\n",
      "File \u001b[0;32m~/opt/anaconda3/envs/myvirtualenv/lib/python3.9/site-packages/scipy/optimize/minpack.py:488\u001b[0m, in \u001b[0;36m_wrap_func.<locals>.func_wrapped\u001b[0;34m(params)\u001b[0m\n\u001b[1;32m    487\u001b[0m \u001b[38;5;28;01mdef\u001b[39;00m \u001b[38;5;21mfunc_wrapped\u001b[39m(params):\n\u001b[0;32m--> 488\u001b[0m     \u001b[38;5;28;01mreturn\u001b[39;00m transform \u001b[38;5;241m*\u001b[39m (\u001b[43mfunc\u001b[49m\u001b[43m(\u001b[49m\u001b[43mxdata\u001b[49m\u001b[43m,\u001b[49m\u001b[43m \u001b[49m\u001b[38;5;241;43m*\u001b[39;49m\u001b[43mparams\u001b[49m\u001b[43m)\u001b[49m\u001b[43m \u001b[49m\u001b[38;5;241;43m-\u001b[39;49m\u001b[43m \u001b[49m\u001b[43mydata\u001b[49m)\n",
      "\u001b[0;31mValueError\u001b[0m: operands could not be broadcast together with shapes (18,) (19,) "
     ]
    }
   ],
   "source": [
    "ComputeWeights(arr[1,:])"
   ]
  },
  {
   "cell_type": "code",
   "execution_count": 32,
   "id": "ed2bf0cd",
   "metadata": {},
   "outputs": [],
   "source": [
    "current_weights = np.ones([len(concat_noisy_signal),len(concat_noisy_signal)])"
   ]
  },
  {
   "cell_type": "code",
   "execution_count": 33,
   "id": "45f9136b",
   "metadata": {},
   "outputs": [
    {
     "data": {
      "text/plain": [
       "(20, 20)"
      ]
     },
     "execution_count": 33,
     "metadata": {},
     "output_type": "execute_result"
    }
   ],
   "source": [
    "current_weights.shape"
   ]
  },
  {
   "cell_type": "code",
   "execution_count": 34,
   "id": "19445f64",
   "metadata": {},
   "outputs": [],
   "source": [
    "i_array = np.arange(len(concat_noisy_signal)).reshape(len(concat_noisy_signal),1)"
   ]
  },
  {
   "cell_type": "code",
   "execution_count": 35,
   "id": "38e3cf5d",
   "metadata": {},
   "outputs": [
    {
     "data": {
      "text/plain": [
       "(20, 1)"
      ]
     },
     "execution_count": 35,
     "metadata": {},
     "output_type": "execute_result"
    }
   ],
   "source": [
    "i_array.shape"
   ]
  },
  {
   "cell_type": "code",
   "execution_count": 36,
   "id": "0a3b7a4a",
   "metadata": {},
   "outputs": [],
   "source": [
    "arr = np.hstack((i_array,current_weights))"
   ]
  },
  {
   "cell_type": "code",
   "execution_count": 37,
   "id": "eea1521d",
   "metadata": {},
   "outputs": [
    {
     "data": {
      "text/plain": [
       "(20, 21)"
      ]
     },
     "execution_count": 37,
     "metadata": {},
     "output_type": "execute_result"
    }
   ],
   "source": [
    "arr.shape"
   ]
  },
  {
   "cell_type": "code",
   "execution_count": 38,
   "id": "18810aa6",
   "metadata": {},
   "outputs": [],
   "source": [
    "arr = arr[:5,:]"
   ]
  },
  {
   "cell_type": "code",
   "execution_count": 69,
   "id": "76e34f36",
   "metadata": {},
   "outputs": [],
   "source": [
    "import multiprocess as mp"
   ]
  },
  {
   "cell_type": "code",
   "execution_count": 70,
   "id": "accd7189",
   "metadata": {},
   "outputs": [
    {
     "ename": "ValueError",
     "evalue": "`sigma` has incorrect shape.",
     "output_type": "error",
     "traceback": [
      "\u001b[0;31m---------------------------------------------------------------------------\u001b[0m",
      "\u001b[0;31mRemoteTraceback\u001b[0m                           Traceback (most recent call last)",
      "\u001b[0;31mRemoteTraceback\u001b[0m: \n\"\"\"\nTraceback (most recent call last):\n  File \"/Users/md.shahriarrahimsiddiqui/opt/anaconda3/envs/myvirtualenv/lib/python3.9/site-packages/multiprocess/pool.py\", line 125, in worker\n    result = (True, func(*args, **kwds))\n  File \"/Users/md.shahriarrahimsiddiqui/opt/anaconda3/envs/myvirtualenv/lib/python3.9/site-packages/multiprocess/pool.py\", line 48, in mapstar\n    return list(map(*args))\n  File \"/var/folders/v6/llf2b9g925g7nmq5hcby_4_80000gn/T/ipykernel_88368/3957831403.py\", line 19, in ComputeWeights\n    ParamEstimates_andCovMatrix = ParameterEstimation(S2_weights,S2_concat_data,S2_SolverTime)\n  File \"/var/folders/v6/llf2b9g925g7nmq5hcby_4_80000gn/T/ipykernel_88368/1252086601.py\", line 8, in ParameterEstimation\n    OptimPar_and_covMatrix=curve_fit(ModelFit,(S2_SolverTime,S2_SolverTime),S2_concatdata,p0,sigma=current_sigma)\n  File \"/Users/md.shahriarrahimsiddiqui/opt/anaconda3/envs/myvirtualenv/lib/python3.9/site-packages/scipy/optimize/minpack.py\", line 766, in curve_fit\n    raise ValueError(\"`sigma` has incorrect shape.\")\nValueError: `sigma` has incorrect shape.\n\"\"\"",
      "\nThe above exception was the direct cause of the following exception:\n",
      "\u001b[0;31mValueError\u001b[0m                                Traceback (most recent call last)",
      "Input \u001b[0;32mIn [70]\u001b[0m, in \u001b[0;36m<cell line: 12>\u001b[0;34m()\u001b[0m\n\u001b[1;32m      1\u001b[0m \u001b[38;5;66;03m# ##### START SIMULATION ####\u001b[39;00m\n\u001b[1;32m      2\u001b[0m \u001b[38;5;66;03m# if __name__ == \"__main__\":\u001b[39;00m\n\u001b[1;32m      3\u001b[0m \u001b[38;5;66;03m#     p = Pool()   \u001b[39;00m\n\u001b[0;32m   (...)\u001b[0m\n\u001b[1;32m      8\u001b[0m \u001b[38;5;66;03m# result1 = np.array(result1)\u001b[39;00m\n\u001b[1;32m      9\u001b[0m \u001b[38;5;66;03m# result1 = result1.squeeze()\u001b[39;00m\n\u001b[1;32m     12\u001b[0m \u001b[38;5;28;01mwith\u001b[39;00m mp\u001b[38;5;241m.\u001b[39mPool(\u001b[38;5;241m5\u001b[39m) \u001b[38;5;28;01mas\u001b[39;00m pool:\n\u001b[0;32m---> 13\u001b[0m     result1 \u001b[38;5;241m=\u001b[39m (\u001b[43mpool\u001b[49m\u001b[38;5;241;43m.\u001b[39;49m\u001b[43mmap\u001b[49m\u001b[43m(\u001b[49m\u001b[43mComputeWeights\u001b[49m\u001b[43m,\u001b[49m\u001b[43m \u001b[49m\u001b[43marr\u001b[49m\u001b[43m)\u001b[49m)\n",
      "File \u001b[0;32m~/opt/anaconda3/envs/myvirtualenv/lib/python3.9/site-packages/multiprocess/pool.py:364\u001b[0m, in \u001b[0;36mPool.map\u001b[0;34m(self, func, iterable, chunksize)\u001b[0m\n\u001b[1;32m    359\u001b[0m \u001b[38;5;28;01mdef\u001b[39;00m \u001b[38;5;21mmap\u001b[39m(\u001b[38;5;28mself\u001b[39m, func, iterable, chunksize\u001b[38;5;241m=\u001b[39m\u001b[38;5;28;01mNone\u001b[39;00m):\n\u001b[1;32m    360\u001b[0m     \u001b[38;5;124;03m'''\u001b[39;00m\n\u001b[1;32m    361\u001b[0m \u001b[38;5;124;03m    Apply `func` to each element in `iterable`, collecting the results\u001b[39;00m\n\u001b[1;32m    362\u001b[0m \u001b[38;5;124;03m    in a list that is returned.\u001b[39;00m\n\u001b[1;32m    363\u001b[0m \u001b[38;5;124;03m    '''\u001b[39;00m\n\u001b[0;32m--> 364\u001b[0m     \u001b[38;5;28;01mreturn\u001b[39;00m \u001b[38;5;28;43mself\u001b[39;49m\u001b[38;5;241;43m.\u001b[39;49m\u001b[43m_map_async\u001b[49m\u001b[43m(\u001b[49m\u001b[43mfunc\u001b[49m\u001b[43m,\u001b[49m\u001b[43m \u001b[49m\u001b[43miterable\u001b[49m\u001b[43m,\u001b[49m\u001b[43m \u001b[49m\u001b[43mmapstar\u001b[49m\u001b[43m,\u001b[49m\u001b[43m \u001b[49m\u001b[43mchunksize\u001b[49m\u001b[43m)\u001b[49m\u001b[38;5;241;43m.\u001b[39;49m\u001b[43mget\u001b[49m\u001b[43m(\u001b[49m\u001b[43m)\u001b[49m\n",
      "File \u001b[0;32m~/opt/anaconda3/envs/myvirtualenv/lib/python3.9/site-packages/multiprocess/pool.py:771\u001b[0m, in \u001b[0;36mApplyResult.get\u001b[0;34m(self, timeout)\u001b[0m\n\u001b[1;32m    769\u001b[0m     \u001b[38;5;28;01mreturn\u001b[39;00m \u001b[38;5;28mself\u001b[39m\u001b[38;5;241m.\u001b[39m_value\n\u001b[1;32m    770\u001b[0m \u001b[38;5;28;01melse\u001b[39;00m:\n\u001b[0;32m--> 771\u001b[0m     \u001b[38;5;28;01mraise\u001b[39;00m \u001b[38;5;28mself\u001b[39m\u001b[38;5;241m.\u001b[39m_value\n",
      "\u001b[0;31mValueError\u001b[0m: `sigma` has incorrect shape."
     ]
    }
   ],
   "source": [
    "# ##### START SIMULATION ####\n",
    "# if __name__ == \"__main__\":\n",
    "#     p = Pool()   \n",
    "#     result1 = p.map(ComputeWeights,arr)\n",
    "#     p.close()\n",
    "#     p.join()\n",
    "\n",
    "# result1 = np.array(result1)\n",
    "# result1 = result1.squeeze()\n",
    "\n",
    "\n",
    "with mp.Pool(5) as pool:\n",
    "    result1 = (pool.map(ComputeWeights, arr))"
   ]
  },
  {
   "cell_type": "code",
   "execution_count": null,
   "id": "971ed85e",
   "metadata": {},
   "outputs": [],
   "source": []
  },
  {
   "cell_type": "markdown",
   "id": "127ea8e7",
   "metadata": {},
   "source": [
    "# G1/S transition with 6 unknown parameters"
   ]
  },
  {
   "cell_type": "code",
   "execution_count": null,
   "id": "5b1259a5-7388-4e7e-a20f-eefc2bca3625",
   "metadata": {},
   "outputs": [],
   "source": [
    "###############################################################################\n",
    "#                    Standard parameter estimation  \n",
    "###############################################################################\n",
    "\n",
    "fig=plt.figure(2,figsize=(9,6))\n",
    "\n",
    "LollipopPlot(fig,SolverTime,WhiteSignal,FitSolution)"
   ]
  },
  {
   "cell_type": "code",
   "execution_count": null,
   "id": "511dd82a-1f42-4c68-8b88-968107479a5f",
   "metadata": {},
   "outputs": [],
   "source": [
    "#The Levenberg-Marquardt algorithm is used by curve_fit to minimize the squared error. Dimensionality of objective\n",
    "# function is 4 while that of the model is 2, and the default curve_fit initial guesses (all 1's) fail to find an adequate solution"
   ]
  },
  {
   "cell_type": "code",
   "execution_count": null,
   "id": "ed31475c-3fe0-4828-97d6-b006cab9838a",
   "metadata": {},
   "outputs": [],
   "source": [
    "#Let's do a random search of the initial guess, and make use of the minimize function from scipy.optimize\n",
    "\n",
    "##############################################################################\n",
    "#                    Performance measurement\n",
    "###############################################################################\n",
    "\n",
    "#Measures the squared error between the data and the fit given an initial parameter guess\n",
    "def SquaredError(InitialParameterGuess):\n",
    "    \n",
    "    try:\n",
    "        #Some guesses will result in an error or an invalid integration \n",
    "        #this ensures that the error is estimated only for valid solutions \n",
    "        cModelParams=curve_fit(ModelFit,SolverTime,WhiteSignal,p0=InitialParameterGuess)\n",
    "        cSolution=ModelSolver(SolverTime,cModelParams[0][0],cModelParams[0][1],cModelParams[0][2],cModelParams[0][3],Int)\n",
    "    \n",
    "        error=[(val-sal)**2 for val,sal in zip(cSolution,WhiteSignal)]\n",
    "        \n",
    "    except RuntimeError:\n",
    "        \n",
    "        #Based on the scale of the data the following list of values will be large enough to be rejected as a solution \n",
    "        error=[10,10]\n",
    "    \n",
    "    return sum(error)"
   ]
  },
  {
   "cell_type": "code",
   "execution_count": null,
   "id": "0829ab13-b8da-45ff-b5b2-252e002e61c8",
   "metadata": {},
   "outputs": [],
   "source": [
    "'''\n",
    "Now let's construct a random search algorithm, which will generate a list with \"n\" different random initial guesses and select the best approximation\n",
    "'''\n",
    "###############################################################################\n",
    "#                    Random Search of initial values  \n",
    "###############################################################################\n",
    "\n",
    "#Random selection of the initial guess values \n",
    "def RandomSearch(Iterations):\n",
    "    \n",
    "    nIt=Iterations \n",
    "    GuessContainer=[]\n",
    "    ErrorContainer=[]\n",
    "    \n",
    "    for k in range(nIt):\n",
    "        \n",
    "        lGuess=[np.random.uniform(low=0,high=1) for val in range(4)]  #we have 4 parameters to estimate hence range(4), parameters are between 0 to 1\n",
    "        lerror=SquaredError(lGuess)\n",
    "        \n",
    "        GuessContainer.append(lGuess) #Contains the list of random initial values \n",
    "        ErrorContainer.append(lerror) #List of the errors \n",
    "    \n",
    "    minError=np.min(ErrorContainer) #Min error value \n",
    "    minLocation=[j for j in range(nIt) if ErrorContainer[j]==minError] #Returns the location of the min value in the list\n",
    "    \n",
    "    bestGuess=GuessContainer[minLocation[0]] #Best initial value guess \n",
    "    \n",
    "    return ErrorContainer,bestGuess\n",
    "    \n",
    "    \n",
    "errs,bG=RandomSearch(10)     #let's search 10 times randomly"
   ]
  },
  {
   "cell_type": "code",
   "execution_count": null,
   "id": "586dffa6-b344-4948-b3bb-8960b740ffac",
   "metadata": {},
   "outputs": [],
   "source": [
    "###############################################################################\n",
    "#                   Initial values Random Search Fitting \n",
    "###############################################################################\n",
    "\n",
    "ModelParams02=curve_fit(ModelFit,SolverTime,WhiteSignal,p0=bG)\n",
    "FitSolution2=ModelSolver(SolverTime,ModelParams02[0][0],ModelParams02[0][1],ModelParams02[0][2],ModelParams02[0][3],Int)"
   ]
  },
  {
   "cell_type": "code",
   "execution_count": null,
   "id": "82c14e9f-4951-478c-a703-af4349e6a138",
   "metadata": {},
   "outputs": [],
   "source": [
    "'''\n",
    "Parameters of the model \n",
    "alpha=0.25\n",
    "beta=0.55\n",
    "gamma=0.3\n",
    "delta=0.6\n",
    "'''\n",
    "ModelParams02[0][0]"
   ]
  },
  {
   "cell_type": "code",
   "execution_count": null,
   "id": "ffb386e9-7e85-4720-a26b-6436a0456a99",
   "metadata": {},
   "outputs": [],
   "source": [
    "ModelParams02[0][1]"
   ]
  },
  {
   "cell_type": "code",
   "execution_count": null,
   "id": "12048ae0-b090-48e5-b2fe-a7f8860b1f83",
   "metadata": {},
   "outputs": [],
   "source": [
    "ModelParams02[0][2]"
   ]
  },
  {
   "cell_type": "code",
   "execution_count": null,
   "id": "0040fb73-c672-498e-8654-d7830833c850",
   "metadata": {},
   "outputs": [],
   "source": [
    "ModelParams02[0][3]"
   ]
  },
  {
   "cell_type": "code",
   "execution_count": null,
   "id": "bf9856b1-cf84-46ca-ab79-3abc3354fd6b",
   "metadata": {},
   "outputs": [],
   "source": [
    "#We can see that the estimated parameters are close to the input parameters\n",
    "#Let's see their covariance matrix:\n",
    "ModelParams02[1]"
   ]
  },
  {
   "cell_type": "code",
   "execution_count": null,
   "id": "1bb31d02-289b-4eb4-8912-d5b73c501c6e",
   "metadata": {},
   "outputs": [],
   "source": [
    "sd_array = np.sqrt(np.diag(ModelParams02[1])) #standard deviations of estimated parameters\n",
    "sd_array"
   ]
  },
  {
   "cell_type": "code",
   "execution_count": null,
   "id": "5a67499d-f610-401e-9f39-352ed6ad2480",
   "metadata": {},
   "outputs": [],
   "source": [
    "np.divide(100*sd_array,ModelParams02[0]) #Standard deviations as percentage of estimated parameter values, shows good fit"
   ]
  },
  {
   "cell_type": "code",
   "execution_count": null,
   "id": "f5bbc20f-1478-46e5-b790-be361d27e0f0",
   "metadata": {},
   "outputs": [],
   "source": [
    "###############################################################################\n",
    "#                              Visualization  \n",
    "###############################################################################\n",
    "\n",
    "fig=plt.figure(3,figsize=(9,6))\n",
    "\n",
    "LollipopPlot(fig,SolverTime,WhiteSignal,FitSolution2)"
   ]
  },
  {
   "cell_type": "markdown",
   "id": "104b8aaf-10fa-48be-bd10-541bd21f522e",
   "metadata": {},
   "source": [
    "SUCCESS, now let's try a second approach:\n",
    "\n",
    "1. Minimize the squared error using an algorithm and get estimates for the parameters.\n",
    "2. Use the result found in (1) as the initial guess for another least squares optimization (use it in curve_fit)"
   ]
  },
  {
   "cell_type": "code",
   "execution_count": null,
   "id": "55abcc52-10b8-4c68-8344-46a14d05ab15",
   "metadata": {},
   "outputs": [],
   "source": [
    "'''\n",
    "A good algorithm for non-differentiable objective functions, or challenging non-linear and noisy optimization problems\n",
    "is the Nelder-Mead optimization algorithm. It is often used for multidimensional nonlinear function optimization problems, although it can get stuck in local optima.\n",
    "My reference for this was: https://machinelearningmastery.com/how-to-use-nelder-mead-optimization-in-python/\n",
    "'''\n",
    "\n",
    "###############################################################################\n",
    "#                    Initial values Nelder-Mean Fitting\n",
    "###############################################################################\n",
    "\n",
    "#Vector of random initial values \n",
    "g0=[np.random.uniform(low=0,high=1) for val in range(4)] \n",
    "\n",
    "#Minimization of the squared error by Nelder-Mead \n",
    "res = minimize(SquaredError, g0, method='nelder-mead',options={'xtol': 1e-3, 'maxiter':100,'disp': False})\n",
    "\n"
   ]
  },
  {
   "cell_type": "code",
   "execution_count": null,
   "id": "210024db-8d38-4169-8c3a-4a749fc18122",
   "metadata": {},
   "outputs": [],
   "source": [
    "res.success"
   ]
  },
  {
   "cell_type": "code",
   "execution_count": null,
   "id": "c92e0119-15be-4067-8c53-c32d33af27ff",
   "metadata": {},
   "outputs": [],
   "source": [
    "res.message"
   ]
  },
  {
   "cell_type": "code",
   "execution_count": null,
   "id": "bc355126-c7bb-4bc3-b1f1-61e854a3954a",
   "metadata": {},
   "outputs": [],
   "source": [
    "'''\n",
    "Parameters of the model \n",
    "alpha=0.25\n",
    "beta=0.55\n",
    "gamma=0.3\n",
    "delta=0.6\n",
    "'''\n",
    "\n",
    "res.x    #the 4 parameter estimates"
   ]
  },
  {
   "cell_type": "code",
   "execution_count": null,
   "id": "66f305f6-c273-432f-8a2f-c353c858db68",
   "metadata": {},
   "outputs": [],
   "source": [
    "#Now use the result obtained as the initial guess for curve_fit\n",
    "\n",
    "ModelParams03=curve_fit(ModelFit,SolverTime,WhiteSignal,p0=res.x)\n",
    "\n",
    "FitSolution3=ModelSolver(SolverTime,ModelParams03[0][0],ModelParams03[0][1],ModelParams03[0][2],ModelParams03[0][3],Int) #the fitted curve"
   ]
  },
  {
   "cell_type": "code",
   "execution_count": null,
   "id": "591e8d83-1d3b-4477-a826-bff443bef08b",
   "metadata": {},
   "outputs": [],
   "source": [
    "ModelParams03[0] #Much better estimates"
   ]
  },
  {
   "cell_type": "code",
   "execution_count": null,
   "id": "19cde36e-f0b7-4662-860c-d923673b7ab8",
   "metadata": {},
   "outputs": [],
   "source": [
    "ModelParams03[1] #Covariance matrix"
   ]
  },
  {
   "cell_type": "code",
   "execution_count": null,
   "id": "ecdc8b87-d911-4eef-a08f-54389a064b88",
   "metadata": {},
   "outputs": [],
   "source": [
    "sd_array = np.sqrt(np.diag(ModelParams03[1])) #standard deviations of estimated parameters\n",
    "sd_array"
   ]
  },
  {
   "cell_type": "code",
   "execution_count": null,
   "id": "5defbc75-e5ed-4af3-b4b0-3acb586453c9",
   "metadata": {},
   "outputs": [],
   "source": [
    "np.divide(100*sd_array,ModelParams03[0]) #Standard deviations as percentage of estimated parameter values, shows good fit"
   ]
  },
  {
   "cell_type": "code",
   "execution_count": null,
   "id": "a6beae73-1dd1-4859-954e-d8d044192db6",
   "metadata": {},
   "outputs": [],
   "source": [
    "###############################################################################\n",
    "#                              Visualization \n",
    "###############################################################################\n",
    "\n",
    "fig=plt.figure(4,figsize=(9,6))\n",
    "\n",
    "LollipopPlot(fig,SolverTime,WhiteSignal,FitSolution3)"
   ]
  },
  {
   "cell_type": "code",
   "execution_count": null,
   "id": "cba15c1f-7f9e-471e-b1d1-2e98decc86a4",
   "metadata": {},
   "outputs": [],
   "source": [
    "inpData=np.linspace(0,10,20).reshape(-1,2)"
   ]
  },
  {
   "cell_type": "code",
   "execution_count": null,
   "id": "c7dc8241",
   "metadata": {},
   "outputs": [],
   "source": [
    "inpData.shape"
   ]
  },
  {
   "cell_type": "code",
   "execution_count": null,
   "id": "8aee89e4",
   "metadata": {},
   "outputs": [],
   "source": [
    "inpData.flatten()"
   ]
  },
  {
   "cell_type": "code",
   "execution_count": null,
   "id": "0eb0d08e",
   "metadata": {},
   "outputs": [],
   "source": [
    "def func(X, a, b, c):\n",
    "    x,y = X\n",
    "    result0 = np.log(a) + b*np.log(x[0]) + c*np.log(y[0])\n",
    "    result1 = np.log(a) + b*np.log(x[1]) + c*np.log(y[1])\n",
    "    return np.concatenate([result0, result1])\n",
    "\n",
    "# some artificially noisy data to fit\n",
    "x0 = np.linspace(0.1,1.1,101)\n",
    "y0 = np.linspace(1.,2., 101)\n",
    "\n",
    "x1 = np.linspace(0.1,1.1,101)\n",
    "y1 = np.linspace(1.,2., 101)\n",
    "\n",
    "a, b, c = 10., 4., 6.\n",
    "\n",
    "x = np.array([x0,x1])\n",
    "y = np.array([y0,y1])\n",
    "\n",
    "z = func((x,y), a, b, c)\n",
    "# z[0] = z[0] * 1 + np.random.random(101)/100\n",
    "# z[1] = z[1] * 1 + np.random.random(101)/100\n",
    "z = z + np.random.random(2*101)/100\n",
    "# initial guesses for a,b,c:\n",
    "p0 = 8., 2., 7.\n",
    "print(curve_fit(func, (x,y), z, p0))\n"
   ]
  },
  {
   "cell_type": "code",
   "execution_count": null,
   "id": "e2033564",
   "metadata": {},
   "outputs": [],
   "source": [
    "Ca0 = 1.0\n",
    "k1 = k_1 = 3.0\n",
    "\n",
    "tspan = np.linspace(0, 0.5,10)\n",
    "\n",
    "def C(K):\n",
    "    k1, k_1 = K\n",
    "    def dCdt(Ca, t, k1, k_1):\n",
    "        return -k1 * Ca + k_1 * (Ca0 - Ca)\n",
    "    sol = odeint(dCdt, Ca0, tspan, tuple((k1, k_1)))\n",
    "    return sol\n",
    "\n",
    "plt.plot(tspan, C([k1, k_1]))\n",
    "plt.xlim([tspan.min(), tspan.max()])\n",
    "plt.xlabel('t')\n",
    "plt.ylabel('C');"
   ]
  },
  {
   "cell_type": "code",
   "execution_count": null,
   "id": "a60c8ec5",
   "metadata": {},
   "outputs": [],
   "source": [
    "import time\n",
    "t0 = time.time()\n",
    "dCdk = jacobian(C, 0)\n",
    "\n",
    "\n",
    "k_sensitivity = dCdk(np.array([k1, k_1]))\n",
    "\n",
    "k1_sensitivity = k_sensitivity[:, 0, 0]\n",
    "k_1_sensitivity = k_sensitivity[:, 0, 1]\n",
    "\n",
    "plt.plot(tspan, np.abs(k1_sensitivity), label='dC/dk1')\n",
    "plt.plot(tspan, np.abs(k_1_sensitivity), label='dC/dk_1')\n",
    "plt.legend(loc='best')\n",
    "plt.xlabel('t')\n",
    "plt.ylabel('sensitivity')\n",
    "print(f'Elapsed time = {time.time() - t0:1.1f} seconds')"
   ]
  },
  {
   "cell_type": "code",
   "execution_count": null,
   "id": "7144eedc",
   "metadata": {},
   "outputs": [],
   "source": [
    "k_sensitivity.shape"
   ]
  },
  {
   "cell_type": "code",
   "execution_count": null,
   "id": "77ee11e1",
   "metadata": {},
   "outputs": [],
   "source": [
    "import autograd.numpy as np\n",
    "from autograd import jacobian\n",
    "\n",
    "def my_add(K):\n",
    "    a,b,c,d = K\n",
    "    return a + b + c + 2*d\n",
    "\n",
    "a0 = np.array([1.0, 2.0])\n",
    "b0 = np.array([3.0, 4.0])\n",
    "c0 = np.array([3.0, 4.0])\n",
    "d0 = np.array([3.0, 4.0])\n",
    "my_add_j = jacobian(my_add,argnum=(0))\n"
   ]
  },
  {
   "cell_type": "code",
   "execution_count": null,
   "id": "6f71e611",
   "metadata": {},
   "outputs": [],
   "source": [
    "jacoutput = my_add_j(np.array([a0, b0,c0,d0]))"
   ]
  },
  {
   "cell_type": "code",
   "execution_count": null,
   "id": "4280fa1b",
   "metadata": {},
   "outputs": [],
   "source": [
    "jacoutput[0,:,:].shape"
   ]
  },
  {
   "cell_type": "code",
   "execution_count": null,
   "id": "24c44ed0",
   "metadata": {},
   "outputs": [],
   "source": [
    "import autograd.numpy as np\n",
    "from autograd import jacobian\n",
    "\n",
    "def my_add(a, b):\n",
    "    return a + b\n",
    "\n",
    "a0 = np.array([1.0, 2.0])\n",
    "b0 = np.array([3.0, 4.0])\n",
    "my_add_j = jacobian(my_add, argnum=(0, 1))\n",
    "my_add_j(a0, b0)"
   ]
  },
  {
   "cell_type": "code",
   "execution_count": null,
   "id": "2722704b",
   "metadata": {},
   "outputs": [],
   "source": []
  }
 ],
 "metadata": {
  "kernelspec": {
   "display_name": "Python [conda env:myvirtualenv]",
   "language": "python",
   "name": "conda-env-myvirtualenv-py"
  },
  "language_info": {
   "codemirror_mode": {
    "name": "ipython",
    "version": 3
   },
   "file_extension": ".py",
   "mimetype": "text/x-python",
   "name": "python",
   "nbconvert_exporter": "python",
   "pygments_lexer": "ipython3",
   "version": "3.9.12"
  }
 },
 "nbformat": 4,
 "nbformat_minor": 5
}
