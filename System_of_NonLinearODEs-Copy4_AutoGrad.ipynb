{
 "cells": [
  {
   "cell_type": "code",
   "execution_count": 1,
   "id": "d4edd778-e8b9-4991-8b38-7e54922dc35b",
   "metadata": {},
   "outputs": [],
   "source": [
    "# import numpy as np\n",
    "import matplotlib.pyplot as plt\n",
    "import matplotlib.patheffects as path_effects\n",
    "\n",
    "# from scipy.integrate import odeint\n",
    "################################################\n",
    "from autograd.scipy.integrate import odeint\n",
    "from autograd.builtins import tuple\n",
    "################################################\n",
    "\n",
    "# from jax.experimental.ode import odeint\n",
    "from scipy.optimize import minimize\n",
    "from scipy.optimize import curve_fit"
   ]
  },
  {
   "cell_type": "code",
   "execution_count": 2,
   "id": "ab8c2d70",
   "metadata": {},
   "outputs": [],
   "source": [
    "# import jax \n",
    "# import jax.numpy as jnp\n",
    "\n",
    "import autograd.numpy as np   # Thinly-wrapped version of Numpy\n",
    "from autograd import grad\n",
    "from autograd import jacobian"
   ]
  },
  {
   "cell_type": "code",
   "execution_count": 3,
   "id": "75693d5f-820b-4e5a-874d-3121a08e7f55",
   "metadata": {},
   "outputs": [],
   "source": [
    "#General plotting functions\n",
    "#Elimates the left and top lines and ticks in a matplotlib plot \n",
    "def PlotStyle(Axes,Title):\n",
    "    \n",
    "    Axes.spines['top'].set_visible(False)\n",
    "    Axes.spines['right'].set_visible(False)\n",
    "    Axes.spines['bottom'].set_visible(True)\n",
    "    Axes.spines['left'].set_visible(True)\n",
    "    Axes.xaxis.set_tick_params(labelsize=14)\n",
    "    Axes.yaxis.set_tick_params(labelsize=14)\n",
    "    Axes.set_title(Title)\n",
    "\n",
    "#Lollipop plot based on the python graph gallery implementation \n",
    "def LollipopPlot(Fig,Time,Data,Regression):\n",
    "    \n",
    "    cTime=Time\n",
    "    cData=Data\n",
    "    cRegression=Regression\n",
    "    \n",
    "    ax=Fig.gca()\n",
    "\n",
    "    (markers, stemlines, baseline) = ax.stem(cTime, cData,bottom=-0.4,label='Data',basefmt=\" \")\n",
    "    plt.setp(stemlines, linestyle=\"-\", color=\"red\", linewidth=0.5,alpha=0.5 )\n",
    "    plt.setp(markers, color=\"red\",alpha=0.75 )\n",
    "\n",
    "    ax.plot(cTime,cRegression,'b-',label='Regression',path_effects=[path_effects.SimpleLineShadow(alpha=0.2,rho=0.2),\n",
    "                       path_effects.Normal()])\n",
    "  \n",
    "    ax.set_ylabel('Normalized Population',fontsize=16,fontweight='bold')\n",
    "    ax.set_xlabel('Time',fontsize=16,fontweight='bold')\n",
    "    ax.legend(loc=0,fontsize=14)\n",
    "    ax.set_ylim(-0.4,3.4)\n",
    "    PlotStyle(ax,'')"
   ]
  },
  {
   "cell_type": "markdown",
   "id": "229c32b8-4d9c-4104-8df7-d09236cccf61",
   "metadata": {},
   "source": [
    "## Parameter Estimation of Non-Linear ODE system"
   ]
  },
  {
   "cell_type": "code",
   "execution_count": 4,
   "id": "afd6123f-0173-411a-88f1-e7b8173a404e",
   "metadata": {},
   "outputs": [],
   "source": [
    "#Let's consider the Lodka-Volterra model, also known as the predator-prey model. (https://en.wikipedia.org/wiki/Lotka%E2%80%93Volterra_equations)"
   ]
  },
  {
   "cell_type": "markdown",
   "id": "4aa77c79-2c87-4da0-9267-88e95a631ac9",
   "metadata": {},
   "source": [
    "$\\frac{\\partial R}{\\partial t} = R(\\alpha - \\beta W),  \\hspace{1cm} W(0)=W_{0} \\\\$\n",
    "$\\frac{\\partial W}{\\partial t} = -W(\\gamma - \\delta R),\\hspace{1cm} R(0)=R_{0}$\n",
    "\n",
    "\n"
   ]
  },
  {
   "cell_type": "code",
   "execution_count": null,
   "id": "a747d87e",
   "metadata": {},
   "outputs": [],
   "source": []
  },
  {
   "cell_type": "code",
   "execution_count": 5,
   "id": "ed1f295a-fe25-4887-a65a-4d3fbdf02bcf",
   "metadata": {},
   "outputs": [],
   "source": [
    "#Non linear model\n",
    "def MakeModel(k_1,k_n1,J_11,phi_pRB,k_p,k_2,a ,k_n2,J_12,phi_E2F1, StateVariables):\n",
    "    Variables = StateVariables\n",
    "    Equation1= ((k_1*(Variables[1]/(k_n1+Variables[1]))) * (J_11/(J_11+Variables[0]))) - (phi_pRB*Variables[0])\n",
    "    Equation2= k_p + ((k_2*((a**2 + Variables[1]**2) / (k_n2**2 + Variables[1]**2))) * (J_12/(J_12+Variables[0]))) \\\n",
    "               - phi_E2F1*Variables[1] \n",
    "    \n",
    "    return np.array([Equation1,Equation2])\n",
    "\n",
    "#Integration time\n",
    "SolverTime=np.linspace(0,800,num=330)\n",
    "\n",
    "#Parameters of the model \n",
    "k_1 = 1\n",
    "k_n1=0.5\n",
    "J_11=0.5\n",
    "phi_pRB=0.005\n",
    "k_p = 0.05\n",
    "k_2 = 1.6\n",
    "a = 0.04\n",
    "k_n2 = 4\n",
    "J_12 = 5\n",
    "phi_E2F1 = 0.1\n",
    "\n",
    "#True initial conditions \n",
    "Int=np.array([1,5])  # [pRB(0), E2F1(0)] \n",
    "\n",
    "######################################################\n",
    "# #Model Solution \n",
    "# def ODEModel(StateVariables,t):\n",
    "\n",
    "#     return MakeModel(k_1,k_n1,J_11,phi_pRB,k_p,k_2,a ,k_n2,J_12,phi_E2F1,StateVariables)\n",
    "\n",
    "# Solution=odeint(ODEModel,Int,SolverTime)\n",
    "########################################################\n",
    "\n",
    "def ODEModel(StateVariables,t,k_1,k_n1,J_11,phi_pRB,k_p,k_2,a,k_n2,J_12,phi_E2F1):\n",
    "\n",
    "    return MakeModel(k_1,k_n1,J_11,phi_pRB,k_p,k_2,a ,k_n2,J_12,phi_E2F1,StateVariables)\n",
    "\n",
    "Solution = odeint(ODEModel,Int,SolverTime,tuple([k_1,k_n1,J_11,phi_pRB,k_p,k_2,a ,k_n2,J_12,phi_E2F1]))"
   ]
  },
  {
   "cell_type": "code",
   "execution_count": 6,
   "id": "6c47a94c-05f2-4825-81b9-8234a0ce09d1",
   "metadata": {},
   "outputs": [
    {
     "data": {
      "image/png": "[encoded data removed]",
      "text/plain": [
       "<Figure size 648x432 with 1 Axes>"
      ]
     },
     "metadata": {
      "needs_background": "light"
     },
     "output_type": "display_data"
    }
   ],
   "source": [
    "#Visualization\n",
    "plt.figure(1,figsize=(9,6))\n",
    "\n",
    "plt.plot(SolverTime,Solution[:,0],'b-',label='pRB',path_effects=[path_effects.SimpleLineShadow(alpha=0.2,rho=0.2),\n",
    "                       path_effects.Normal()])\n",
    "plt.plot(SolverTime,Solution[:,1],'g-',label='E2F1',path_effects=[path_effects.SimpleLineShadow(alpha=0.2,rho=0.2),\n",
    "                       path_effects.Normal()])\n",
    "\n",
    "plt.xlabel('Time',fontsize=16,fontweight='bold')\n",
    "plt.ylabel('Concentration',fontsize=16,fontweight='bold')\n",
    "plt.legend(loc=0,fontsize=14)\n",
    "\n",
    "ax=plt.gca()\n",
    "PlotStyle(ax,'')\n"
   ]
  },
  {
   "cell_type": "code",
   "execution_count": null,
   "id": "dbc67eff",
   "metadata": {},
   "outputs": [],
   "source": [
    "concat_sol = Solution.flatten()"
   ]
  },
  {
   "cell_type": "code",
   "execution_count": null,
   "id": "054017ea",
   "metadata": {},
   "outputs": [],
   "source": [
    "# Solution[:,0]"
   ]
  },
  {
   "cell_type": "code",
   "execution_count": null,
   "id": "8c9ce44d",
   "metadata": {},
   "outputs": [],
   "source": []
  },
  {
   "cell_type": "code",
   "execution_count": null,
   "id": "f7996fef",
   "metadata": {},
   "outputs": [],
   "source": [
    "concat_sol.shape"
   ]
  },
  {
   "cell_type": "code",
   "execution_count": null,
   "id": "cc003202",
   "metadata": {},
   "outputs": [],
   "source": [
    "concat_time = np.concatenate((SolverTime,SolverTime))"
   ]
  },
  {
   "cell_type": "code",
   "execution_count": null,
   "id": "ebe3af10",
   "metadata": {},
   "outputs": [],
   "source": [
    "concat_time.shape"
   ]
  },
  {
   "cell_type": "code",
   "execution_count": null,
   "id": "46ca1fb6-5fc9-46a7-9387-99a28ddfe32e",
   "metadata": {},
   "outputs": [],
   "source": [
    "###############################################################################\n",
    "#                            Data generation  \n",
    "###############################################################################\n",
    "def MakeNoisyData(Data,Noise):\n",
    "    \n",
    "    return [val+cal for val,cal in zip(Data,Noise)]\n",
    "\n",
    "GaussianNoise1=[np.random.normal(0,0.001) for val in Solution[:,0]]  \n",
    "GaussianNoise2=[np.random.normal(0,0.001) for val in Solution[:,1]]  \n",
    "Signal1=MakeNoisyData(Solution[:,0],GaussianNoise1)\n",
    "Signal2=MakeNoisyData(Solution[:,1],GaussianNoise2)"
   ]
  },
  {
   "cell_type": "code",
   "execution_count": null,
   "id": "25c9ccdb",
   "metadata": {},
   "outputs": [],
   "source": [
    "concat_noisy_signal = np.concatenate((Signal1,Signal2))"
   ]
  },
  {
   "cell_type": "code",
   "execution_count": null,
   "id": "56ac822a",
   "metadata": {},
   "outputs": [],
   "source": [
    "concat_noisy_signal.shape"
   ]
  },
  {
   "cell_type": "code",
   "execution_count": null,
   "id": "19ddf3d8-3e9a-4fda-80fa-1286cc3e7d10",
   "metadata": {},
   "outputs": [],
   "source": [
    "# ESTIMATE: k_1, J_11, k_n2, J_12\n",
    "###############################################################################\n",
    "#                    ODE system model fitting  \n",
    "###############################################################################\n",
    "# LATER: Consider the initial parameters as two extra parameters (so 10+2 = 12 parameters in total)\n",
    "#ModelSolver is the forward solver/integrator\n",
    "def ModelSolver(t,k_1,k_n1,J_11,phi_pRB,k_p,k_2,a ,k_n2,J_12,phi_E2F1,InitialConditions):\n",
    "    \n",
    "    ck_1 =  k_1\n",
    "    ck_n1 =  k_n1\n",
    "    cJ_11 = J_11\n",
    "    cphi_pRB =  phi_pRB\n",
    "    ck_p = k_p\n",
    "    ck_2 = k_2\n",
    "    ca = a\n",
    "    ck_n2 = k_n2 \n",
    "    cJ_12 = J_12\n",
    "    cphi_E2F1 = phi_E2F1\n",
    "    \n",
    "    cInit=InitialConditions\n",
    "    \n",
    "    def LocalModel(cInit,t):\n",
    "        \n",
    "        return MakeModel(ck_1,ck_n1,cJ_11,cphi_pRB,ck_p,ck_2,ca,ck_n2,cJ_12,cphi_E2F1,cInit)\n",
    "    \n",
    "    Solution=odeint(LocalModel,cInit,t)\n",
    "    \n",
    "    return np.concatenate((Solution[:,0],Solution[:,1]))\n",
    "\n",
    "def ModelFit(t,k_1,J_11,k_n2,J_12):\n",
    "    #the values of the other parameters are obtained from their global scope \n",
    "    t1,t2 =  t #t1 and t2 should be identical\n",
    "    return ModelSolver(t1,k_1,k_n1,J_11,phi_pRB,k_p,k_2,a ,k_n2,J_12,phi_E2F1,Int)\n",
    "\n",
    "p0 = np.random.rand(4)\n",
    "ModelParams01=curve_fit(ModelFit,(SolverTime,SolverTime),concat_noisy_signal,p0)\n",
    "\n",
    "# #Parameters of the model \n",
    "# k_1 = 1\n",
    "# k_n1=0.5\n",
    "# J_11=0.5\n",
    "# phi_pRB=0.005\n",
    "# k_p = 0.05\n",
    "# k_2 = 1.6\n",
    "# a = 0.04\n",
    "# k_n2 = 4\n",
    "# J_12 = 5\n",
    "# phi_E2F1 = 0.1\n",
    "\n",
    "\n",
    "# FitSolution=ModelSolver(SolverTime,ModelParams01[0][0],ModelParams01[0][1],ModelParams01[0][2],ModelParams01[0][3],Int) #fitted solution"
   ]
  },
  {
   "cell_type": "code",
   "execution_count": null,
   "id": "1d524eb2",
   "metadata": {},
   "outputs": [],
   "source": [
    "# p0 = array([0.45467901, 0.99152412, 0.89004968, 0.48321337]) doesn't throw warning."
   ]
  },
  {
   "cell_type": "code",
   "execution_count": null,
   "id": "25615280",
   "metadata": {},
   "outputs": [],
   "source": [
    "    \n",
    "ModelParams01"
   ]
  },
  {
   "cell_type": "code",
   "execution_count": null,
   "id": "afb7524e",
   "metadata": {},
   "outputs": [],
   "source": [
    "ModelParams01[0]"
   ]
  },
  {
   "cell_type": "code",
   "execution_count": null,
   "id": "dd4fd91c",
   "metadata": {},
   "outputs": [],
   "source": [
    "#Visualize fit solution\n",
    "k_1_fit = ModelParams01[0][0]\n",
    "J_11_fit = ModelParams01[0][1]\n",
    "k_n2_fit = ModelParams01[0][2]\n",
    "J_12_fit = ModelParams01[0][3]\n",
    "Fit = ModelSolver(SolverTime,k_1_fit,k_n1,J_11_fit,phi_pRB,k_p,k_2,a ,k_n2_fit,J_12_fit,phi_E2F1,Int)"
   ]
  },
  {
   "cell_type": "code",
   "execution_count": null,
   "id": "4a4da171",
   "metadata": {},
   "outputs": [],
   "source": [
    "prb_fit = Fit[:(int(len(Fit)/2))]\n",
    "e2f1_fit= Fit[int((len(Fit)/2)):]"
   ]
  },
  {
   "cell_type": "code",
   "execution_count": null,
   "id": "f28c1940",
   "metadata": {},
   "outputs": [],
   "source": [
    "prb_fit.shape"
   ]
  },
  {
   "cell_type": "code",
   "execution_count": null,
   "id": "c1cb20d1",
   "metadata": {},
   "outputs": [],
   "source": [
    "#Visualization\n",
    "plt.figure(1,figsize=(9,6))\n",
    "\n",
    "plt.plot(SolverTime,prb_fit,'b-',label='pRB',path_effects=[path_effects.SimpleLineShadow(alpha=0.2,rho=0.2),\n",
    "                       path_effects.Normal()])\n",
    "plt.plot(SolverTime,e2f1_fit,'g-',label='E2F1',path_effects=[path_effects.SimpleLineShadow(alpha=0.2,rho=0.2),\n",
    "                       path_effects.Normal()])\n",
    "\n",
    "plt.xlabel('Time',fontsize=16,fontweight='bold')\n",
    "plt.ylabel('Concentration',fontsize=16,fontweight='bold')\n",
    "plt.legend(loc=0,fontsize=14)\n",
    "\n",
    "ax=plt.gca()\n",
    "PlotStyle(ax,'')\n"
   ]
  },
  {
   "cell_type": "code",
   "execution_count": 42,
   "id": "4a96ae69",
   "metadata": {},
   "outputs": [],
   "source": [
    "#ModelSolver is the forward solver/integrator\n",
    "#True initial conditions \n",
    "InitialConditions=np.array([1,5])  # [pRB(0), E2F1(0)] \n",
    "#Redefine SolverTime\n",
    "SolverTime=np.linspace(0,800,num=10)\n",
    "def ModelSolver_g(K):\n",
    "    k_1,k_n1,J_11,phi_pRB,k_p,k_2,a ,k_n2,J_12,phi_E2F1 = K\n",
    "    t = SolverTime #defined globally\n",
    "    ck_1 =  k_1\n",
    "    ck_n1 =  k_n1\n",
    "    cJ_11 = J_11\n",
    "    cphi_pRB =  phi_pRB\n",
    "    ck_p = k_p\n",
    "    ck_2 = k_2\n",
    "    ca = a\n",
    "    ck_n2 = k_n2 \n",
    "    cJ_12 = J_12\n",
    "    cphi_E2F1 = phi_E2F1\n",
    "    \n",
    "    cInit=InitialConditions\n",
    "    \n",
    "    def LocalModel(cInit,t,ck_1,ck_n1,cJ_11,cphi_pRB,ck_p,ck_2,ca,ck_n2,cJ_12,cphi_E2F1):\n",
    "        \n",
    "        return MakeModel(ck_1,ck_n1,cJ_11,cphi_pRB,ck_p,ck_2,ca,ck_n2,cJ_12,cphi_E2F1,cInit)\n",
    "    \n",
    "    Solution=odeint(LocalModel,cInit,t,tuple([ck_1,ck_n1,cJ_11,cphi_pRB,ck_p,ck_2,ca,ck_n2,cJ_12,cphi_E2F1]))\n",
    "    \n",
    "    return np.concatenate((Solution[:,0],Solution[:,1]))"
   ]
  },
  {
   "cell_type": "code",
   "execution_count": 43,
   "id": "050fb170",
   "metadata": {},
   "outputs": [],
   "source": [
    "# def intFunc(x):\n",
    "#     def func(y, t, alpha):\n",
    "#         return np.sin(alpha * t)\n",
    "#     y0 = 0.\n",
    "#     t = np.linspace(0., 1., 10)\n",
    "#     y = odeint(func, y0, t, tuple([x]))[-1]\n",
    "#     return y\n",
    "\n",
    "# print(intFunc(0.5))\n",
    "# intFuncGrad = grad(intFunc)\n",
    "# print(intFuncGrad(1.0))"
   ]
  },
  {
   "cell_type": "code",
   "execution_count": 44,
   "id": "90663e05",
   "metadata": {},
   "outputs": [],
   "source": [
    "# #Parameters of the model \n",
    "# k_1 = 1\n",
    "# k_n1=0.5\n",
    "# J_11=0.5\n",
    "# phi_pRB=0.005\n",
    "# k_p = 0.05\n",
    "# k_2 = 1.6\n",
    "# a = 0.04\n",
    "# k_n2 = 4\n",
    "# J_12 = 5\n",
    "# phi_E2F1 = 0.1\n",
    "\n",
    "#Let's now take the gradient of ModelSolver with respect to the unknown parameters k_1, J_11, k_n2, J_12\n",
    "\n",
    "jacobian_func = jacobian(ModelSolver_g,(0))\n",
    "\n",
    "# jacobian_func = grad(ModelSolver)"
   ]
  },
  {
   "cell_type": "code",
   "execution_count": 46,
   "id": "32126df8",
   "metadata": {},
   "outputs": [],
   "source": [
    "jacobian_output = jacobian_func(np.array([1.0,0.5,0.5,0.005,0.05,1.6,0.04,4.0,5.0,0.1]))"
   ]
  },
  {
   "cell_type": "code",
   "execution_count": 47,
   "id": "0b2afbac",
   "metadata": {},
   "outputs": [
    {
     "data": {
      "text/plain": [
       "numpy.ndarray"
      ]
     },
     "execution_count": 47,
     "metadata": {},
     "output_type": "execute_result"
    }
   ],
   "source": [
    "type(jacobian_output)"
   ]
  },
  {
   "cell_type": "code",
   "execution_count": 48,
   "id": "27580827",
   "metadata": {},
   "outputs": [
    {
     "data": {
      "text/plain": [
       "(20, 10)"
      ]
     },
     "execution_count": 48,
     "metadata": {},
     "output_type": "execute_result"
    }
   ],
   "source": [
    "jacobian_output.shape"
   ]
  },
  {
   "cell_type": "markdown",
   "id": "127ea8e7",
   "metadata": {},
   "source": [
    "# G1/S transition with 6 unknown parameters"
   ]
  },
  {
   "cell_type": "code",
   "execution_count": null,
   "id": "5b1259a5-7388-4e7e-a20f-eefc2bca3625",
   "metadata": {},
   "outputs": [],
   "source": [
    "###############################################################################\n",
    "#                    Standard parameter estimation  \n",
    "###############################################################################\n",
    "\n",
    "fig=plt.figure(2,figsize=(9,6))\n",
    "\n",
    "LollipopPlot(fig,SolverTime,WhiteSignal,FitSolution)"
   ]
  },
  {
   "cell_type": "code",
   "execution_count": null,
   "id": "511dd82a-1f42-4c68-8b88-968107479a5f",
   "metadata": {},
   "outputs": [],
   "source": [
    "#The Levenberg-Marquardt algorithm is used by curve_fit to minimize the squared error. Dimensionality of objective\n",
    "# function is 4 while that of the model is 2, and the default curve_fit initial guesses (all 1's) fail to find an adequate solution"
   ]
  },
  {
   "cell_type": "code",
   "execution_count": null,
   "id": "ed31475c-3fe0-4828-97d6-b006cab9838a",
   "metadata": {},
   "outputs": [],
   "source": [
    "#Let's do a random search of the initial guess, and make use of the minimize function from scipy.optimize\n",
    "\n",
    "##############################################################################\n",
    "#                    Performance measurement\n",
    "###############################################################################\n",
    "\n",
    "#Measures the squared error between the data and the fit given an initial parameter guess\n",
    "def SquaredError(InitialParameterGuess):\n",
    "    \n",
    "    try:\n",
    "        #Some guesses will result in an error or an invalid integration \n",
    "        #this ensures that the error is estimated only for valid solutions \n",
    "        cModelParams=curve_fit(ModelFit,SolverTime,WhiteSignal,p0=InitialParameterGuess)\n",
    "        cSolution=ModelSolver(SolverTime,cModelParams[0][0],cModelParams[0][1],cModelParams[0][2],cModelParams[0][3],Int)\n",
    "    \n",
    "        error=[(val-sal)**2 for val,sal in zip(cSolution,WhiteSignal)]\n",
    "        \n",
    "    except RuntimeError:\n",
    "        \n",
    "        #Based on the scale of the data the following list of values will be large enough to be rejected as a solution \n",
    "        error=[10,10]\n",
    "    \n",
    "    return sum(error)"
   ]
  },
  {
   "cell_type": "code",
   "execution_count": null,
   "id": "0829ab13-b8da-45ff-b5b2-252e002e61c8",
   "metadata": {},
   "outputs": [],
   "source": [
    "'''\n",
    "Now let's construct a random search algorithm, which will generate a list with \"n\" different random initial guesses and select the best approximation\n",
    "'''\n",
    "###############################################################################\n",
    "#                    Random Search of initial values  \n",
    "###############################################################################\n",
    "\n",
    "#Random selection of the initial guess values \n",
    "def RandomSearch(Iterations):\n",
    "    \n",
    "    nIt=Iterations \n",
    "    GuessContainer=[]\n",
    "    ErrorContainer=[]\n",
    "    \n",
    "    for k in range(nIt):\n",
    "        \n",
    "        lGuess=[np.random.uniform(low=0,high=1) for val in range(4)]  #we have 4 parameters to estimate hence range(4), parameters are between 0 to 1\n",
    "        lerror=SquaredError(lGuess)\n",
    "        \n",
    "        GuessContainer.append(lGuess) #Contains the list of random initial values \n",
    "        ErrorContainer.append(lerror) #List of the errors \n",
    "    \n",
    "    minError=np.min(ErrorContainer) #Min error value \n",
    "    minLocation=[j for j in range(nIt) if ErrorContainer[j]==minError] #Returns the location of the min value in the list\n",
    "    \n",
    "    bestGuess=GuessContainer[minLocation[0]] #Best initial value guess \n",
    "    \n",
    "    return ErrorContainer,bestGuess\n",
    "    \n",
    "    \n",
    "errs,bG=RandomSearch(10)     #let's search 10 times randomly"
   ]
  },
  {
   "cell_type": "code",
   "execution_count": null,
   "id": "586dffa6-b344-4948-b3bb-8960b740ffac",
   "metadata": {},
   "outputs": [],
   "source": [
    "###############################################################################\n",
    "#                   Initial values Random Search Fitting \n",
    "###############################################################################\n",
    "\n",
    "ModelParams02=curve_fit(ModelFit,SolverTime,WhiteSignal,p0=bG)\n",
    "FitSolution2=ModelSolver(SolverTime,ModelParams02[0][0],ModelParams02[0][1],ModelParams02[0][2],ModelParams02[0][3],Int)"
   ]
  },
  {
   "cell_type": "code",
   "execution_count": null,
   "id": "82c14e9f-4951-478c-a703-af4349e6a138",
   "metadata": {},
   "outputs": [],
   "source": [
    "'''\n",
    "Parameters of the model \n",
    "alpha=0.25\n",
    "beta=0.55\n",
    "gamma=0.3\n",
    "delta=0.6\n",
    "'''\n",
    "ModelParams02[0][0]"
   ]
  },
  {
   "cell_type": "code",
   "execution_count": null,
   "id": "ffb386e9-7e85-4720-a26b-6436a0456a99",
   "metadata": {},
   "outputs": [],
   "source": [
    "ModelParams02[0][1]"
   ]
  },
  {
   "cell_type": "code",
   "execution_count": null,
   "id": "12048ae0-b090-48e5-b2fe-a7f8860b1f83",
   "metadata": {},
   "outputs": [],
   "source": [
    "ModelParams02[0][2]"
   ]
  },
  {
   "cell_type": "code",
   "execution_count": null,
   "id": "0040fb73-c672-498e-8654-d7830833c850",
   "metadata": {},
   "outputs": [],
   "source": [
    "ModelParams02[0][3]"
   ]
  },
  {
   "cell_type": "code",
   "execution_count": null,
   "id": "bf9856b1-cf84-46ca-ab79-3abc3354fd6b",
   "metadata": {},
   "outputs": [],
   "source": [
    "#We can see that the estimated parameters are close to the input parameters\n",
    "#Let's see their covariance matrix:\n",
    "ModelParams02[1]"
   ]
  },
  {
   "cell_type": "code",
   "execution_count": null,
   "id": "1bb31d02-289b-4eb4-8912-d5b73c501c6e",
   "metadata": {},
   "outputs": [],
   "source": [
    "sd_array = np.sqrt(np.diag(ModelParams02[1])) #standard deviations of estimated parameters\n",
    "sd_array"
   ]
  },
  {
   "cell_type": "code",
   "execution_count": null,
   "id": "5a67499d-f610-401e-9f39-352ed6ad2480",
   "metadata": {},
   "outputs": [],
   "source": [
    "np.divide(100*sd_array,ModelParams02[0]) #Standard deviations as percentage of estimated parameter values, shows good fit"
   ]
  },
  {
   "cell_type": "code",
   "execution_count": null,
   "id": "f5bbc20f-1478-46e5-b790-be361d27e0f0",
   "metadata": {},
   "outputs": [],
   "source": [
    "###############################################################################\n",
    "#                              Visualization  \n",
    "###############################################################################\n",
    "\n",
    "fig=plt.figure(3,figsize=(9,6))\n",
    "\n",
    "LollipopPlot(fig,SolverTime,WhiteSignal,FitSolution2)"
   ]
  },
  {
   "cell_type": "markdown",
   "id": "104b8aaf-10fa-48be-bd10-541bd21f522e",
   "metadata": {},
   "source": [
    "SUCCESS, now let's try a second approach:\n",
    "\n",
    "1. Minimize the squared error using an algorithm and get estimates for the parameters.\n",
    "2. Use the result found in (1) as the initial guess for another least squares optimization (use it in curve_fit)"
   ]
  },
  {
   "cell_type": "code",
   "execution_count": null,
   "id": "55abcc52-10b8-4c68-8344-46a14d05ab15",
   "metadata": {},
   "outputs": [],
   "source": [
    "'''\n",
    "A good algorithm for non-differentiable objective functions, or challenging non-linear and noisy optimization problems\n",
    "is the Nelder-Mead optimization algorithm. It is often used for multidimensional nonlinear function optimization problems, although it can get stuck in local optima.\n",
    "My reference for this was: https://machinelearningmastery.com/how-to-use-nelder-mead-optimization-in-python/\n",
    "'''\n",
    "\n",
    "###############################################################################\n",
    "#                    Initial values Nelder-Mean Fitting\n",
    "###############################################################################\n",
    "\n",
    "#Vector of random initial values \n",
    "g0=[np.random.uniform(low=0,high=1) for val in range(4)] \n",
    "\n",
    "#Minimization of the squared error by Nelder-Mead \n",
    "res = minimize(SquaredError, g0, method='nelder-mead',options={'xtol': 1e-3, 'maxiter':100,'disp': False})\n",
    "\n"
   ]
  },
  {
   "cell_type": "code",
   "execution_count": null,
   "id": "210024db-8d38-4169-8c3a-4a749fc18122",
   "metadata": {},
   "outputs": [],
   "source": [
    "res.success"
   ]
  },
  {
   "cell_type": "code",
   "execution_count": null,
   "id": "c92e0119-15be-4067-8c53-c32d33af27ff",
   "metadata": {},
   "outputs": [],
   "source": [
    "res.message"
   ]
  },
  {
   "cell_type": "code",
   "execution_count": null,
   "id": "bc355126-c7bb-4bc3-b1f1-61e854a3954a",
   "metadata": {},
   "outputs": [],
   "source": [
    "'''\n",
    "Parameters of the model \n",
    "alpha=0.25\n",
    "beta=0.55\n",
    "gamma=0.3\n",
    "delta=0.6\n",
    "'''\n",
    "\n",
    "res.x    #the 4 parameter estimates"
   ]
  },
  {
   "cell_type": "code",
   "execution_count": null,
   "id": "66f305f6-c273-432f-8a2f-c353c858db68",
   "metadata": {},
   "outputs": [],
   "source": [
    "#Now use the result obtained as the initial guess for curve_fit\n",
    "\n",
    "ModelParams03=curve_fit(ModelFit,SolverTime,WhiteSignal,p0=res.x)\n",
    "\n",
    "FitSolution3=ModelSolver(SolverTime,ModelParams03[0][0],ModelParams03[0][1],ModelParams03[0][2],ModelParams03[0][3],Int) #the fitted curve"
   ]
  },
  {
   "cell_type": "code",
   "execution_count": null,
   "id": "591e8d83-1d3b-4477-a826-bff443bef08b",
   "metadata": {},
   "outputs": [],
   "source": [
    "ModelParams03[0] #Much better estimates"
   ]
  },
  {
   "cell_type": "code",
   "execution_count": null,
   "id": "19cde36e-f0b7-4662-860c-d923673b7ab8",
   "metadata": {},
   "outputs": [],
   "source": [
    "ModelParams03[1] #Covariance matrix"
   ]
  },
  {
   "cell_type": "code",
   "execution_count": null,
   "id": "ecdc8b87-d911-4eef-a08f-54389a064b88",
   "metadata": {},
   "outputs": [],
   "source": [
    "sd_array = np.sqrt(np.diag(ModelParams03[1])) #standard deviations of estimated parameters\n",
    "sd_array"
   ]
  },
  {
   "cell_type": "code",
   "execution_count": null,
   "id": "5defbc75-e5ed-4af3-b4b0-3acb586453c9",
   "metadata": {},
   "outputs": [],
   "source": [
    "np.divide(100*sd_array,ModelParams03[0]) #Standard deviations as percentage of estimated parameter values, shows good fit"
   ]
  },
  {
   "cell_type": "code",
   "execution_count": null,
   "id": "a6beae73-1dd1-4859-954e-d8d044192db6",
   "metadata": {},
   "outputs": [],
   "source": [
    "###############################################################################\n",
    "#                              Visualization \n",
    "###############################################################################\n",
    "\n",
    "fig=plt.figure(4,figsize=(9,6))\n",
    "\n",
    "LollipopPlot(fig,SolverTime,WhiteSignal,FitSolution3)"
   ]
  },
  {
   "cell_type": "code",
   "execution_count": null,
   "id": "cba15c1f-7f9e-471e-b1d1-2e98decc86a4",
   "metadata": {},
   "outputs": [],
   "source": [
    "inpData=np.linspace(0,10,20).reshape(-1,2)"
   ]
  },
  {
   "cell_type": "code",
   "execution_count": null,
   "id": "c7dc8241",
   "metadata": {},
   "outputs": [],
   "source": [
    "inpData.shape"
   ]
  },
  {
   "cell_type": "code",
   "execution_count": null,
   "id": "8aee89e4",
   "metadata": {},
   "outputs": [],
   "source": [
    "inpData.flatten()"
   ]
  },
  {
   "cell_type": "code",
   "execution_count": null,
   "id": "0eb0d08e",
   "metadata": {},
   "outputs": [],
   "source": [
    "def func(X, a, b, c):\n",
    "    x,y = X\n",
    "    result0 = np.log(a) + b*np.log(x[0]) + c*np.log(y[0])\n",
    "    result1 = np.log(a) + b*np.log(x[1]) + c*np.log(y[1])\n",
    "    return np.concatenate([result0, result1])\n",
    "\n",
    "# some artificially noisy data to fit\n",
    "x0 = np.linspace(0.1,1.1,101)\n",
    "y0 = np.linspace(1.,2., 101)\n",
    "\n",
    "x1 = np.linspace(0.1,1.1,101)\n",
    "y1 = np.linspace(1.,2., 101)\n",
    "\n",
    "a, b, c = 10., 4., 6.\n",
    "\n",
    "x = np.array([x0,x1])\n",
    "y = np.array([y0,y1])\n",
    "\n",
    "z = func((x,y), a, b, c)\n",
    "# z[0] = z[0] * 1 + np.random.random(101)/100\n",
    "# z[1] = z[1] * 1 + np.random.random(101)/100\n",
    "z = z + np.random.random(2*101)/100\n",
    "# initial guesses for a,b,c:\n",
    "p0 = 8., 2., 7.\n",
    "print(curve_fit(func, (x,y), z, p0))\n"
   ]
  },
  {
   "cell_type": "code",
   "execution_count": 37,
   "id": "e2033564",
   "metadata": {},
   "outputs": [
    {
     "data": {
      "image/png": "[encoded data removed]",
      "text/plain": [
       "<Figure size 432x288 with 1 Axes>"
      ]
     },
     "metadata": {
      "needs_background": "light"
     },
     "output_type": "display_data"
    }
   ],
   "source": [
    "Ca0 = 1.0\n",
    "k1 = k_1 = 3.0\n",
    "\n",
    "tspan = np.linspace(0, 0.5,10)\n",
    "\n",
    "def C(K):\n",
    "    k1, k_1 = K\n",
    "    def dCdt(Ca, t, k1, k_1):\n",
    "        return -k1 * Ca + k_1 * (Ca0 - Ca)\n",
    "    sol = odeint(dCdt, Ca0, tspan, tuple((k1, k_1)))\n",
    "    return sol\n",
    "\n",
    "plt.plot(tspan, C([k1, k_1]))\n",
    "plt.xlim([tspan.min(), tspan.max()])\n",
    "plt.xlabel('t')\n",
    "plt.ylabel('C');"
   ]
  },
  {
   "cell_type": "code",
   "execution_count": 38,
   "id": "a60c8ec5",
   "metadata": {},
   "outputs": [
    {
     "name": "stdout",
     "output_type": "stream",
     "text": [
      "Elapsed time = 0.6 seconds\n"
     ]
    },
    {
     "data": {
      "image/png": "[encoded data removed]",
      "text/plain": [
       "<Figure size 432x288 with 1 Axes>"
      ]
     },
     "metadata": {
      "needs_background": "light"
     },
     "output_type": "display_data"
    }
   ],
   "source": [
    "import time\n",
    "t0 = time.time()\n",
    "dCdk = jacobian(C, 0)\n",
    "\n",
    "\n",
    "k_sensitivity = dCdk(np.array([k1, k_1]))\n",
    "\n",
    "k1_sensitivity = k_sensitivity[:, 0, 0]\n",
    "k_1_sensitivity = k_sensitivity[:, 0, 1]\n",
    "\n",
    "plt.plot(tspan, np.abs(k1_sensitivity), label='dC/dk1')\n",
    "plt.plot(tspan, np.abs(k_1_sensitivity), label='dC/dk_1')\n",
    "plt.legend(loc='best')\n",
    "plt.xlabel('t')\n",
    "plt.ylabel('sensitivity')\n",
    "print(f'Elapsed time = {time.time() - t0:1.1f} seconds')"
   ]
  },
  {
   "cell_type": "code",
   "execution_count": 39,
   "id": "7144eedc",
   "metadata": {},
   "outputs": [
    {
     "data": {
      "text/plain": [
       "(10, 1, 2)"
      ]
     },
     "execution_count": 39,
     "metadata": {},
     "output_type": "execute_result"
    }
   ],
   "source": [
    "k_sensitivity.shape"
   ]
  },
  {
   "cell_type": "code",
   "execution_count": 40,
   "id": "77ee11e1",
   "metadata": {},
   "outputs": [],
   "source": [
    "import autograd.numpy as np\n",
    "from autograd import jacobian\n",
    "\n",
    "def my_add(K):\n",
    "    a,b,c,d = K\n",
    "    return a + b + c + 2*d\n",
    "\n",
    "a0 = np.array([1.0, 2.0])\n",
    "b0 = np.array([3.0, 4.0])\n",
    "c0 = np.array([3.0, 4.0])\n",
    "d0 = np.array([3.0, 4.0])\n",
    "my_add_j = jacobian(my_add,argnum=(0))\n"
   ]
  },
  {
   "cell_type": "code",
   "execution_count": 26,
   "id": "6f71e611",
   "metadata": {},
   "outputs": [],
   "source": [
    "jacoutput = my_add_j(np.array([a0, b0,c0,d0]))"
   ]
  },
  {
   "cell_type": "code",
   "execution_count": 30,
   "id": "4280fa1b",
   "metadata": {},
   "outputs": [
    {
     "data": {
      "text/plain": [
       "(4, 2)"
      ]
     },
     "execution_count": 30,
     "metadata": {},
     "output_type": "execute_result"
    }
   ],
   "source": [
    "jacoutput[0,:,:].shape"
   ]
  },
  {
   "cell_type": "code",
   "execution_count": 31,
   "id": "24c44ed0",
   "metadata": {},
   "outputs": [
    {
     "ename": "TypeError",
     "evalue": "'ArrayVSpace' object cannot be interpreted as an integer",
     "output_type": "error",
     "traceback": [
      "\u001b[0;31m---------------------------------------------------------------------------\u001b[0m",
      "\u001b[0;31mTypeError\u001b[0m                                 Traceback (most recent call last)",
      "File \u001b[0;32m~/opt/anaconda3/envs/myvirtualenv/lib/python3.9/site-packages/numpy/core/fromnumeric.py:57\u001b[0m, in \u001b[0;36m_wrapfunc\u001b[0;34m(obj, method, *args, **kwds)\u001b[0m\n\u001b[1;32m     56\u001b[0m \u001b[38;5;28;01mtry\u001b[39;00m:\n\u001b[0;32m---> 57\u001b[0m     \u001b[38;5;28;01mreturn\u001b[39;00m \u001b[43mbound\u001b[49m\u001b[43m(\u001b[49m\u001b[38;5;241;43m*\u001b[39;49m\u001b[43margs\u001b[49m\u001b[43m,\u001b[49m\u001b[43m \u001b[49m\u001b[38;5;241;43m*\u001b[39;49m\u001b[38;5;241;43m*\u001b[39;49m\u001b[43mkwds\u001b[49m\u001b[43m)\u001b[49m\n\u001b[1;32m     58\u001b[0m \u001b[38;5;28;01mexcept\u001b[39;00m \u001b[38;5;167;01mTypeError\u001b[39;00m:\n\u001b[1;32m     59\u001b[0m     \u001b[38;5;66;03m# A TypeError occurs if the object does have such a method in its\u001b[39;00m\n\u001b[1;32m     60\u001b[0m     \u001b[38;5;66;03m# class, but its signature is not identical to that of NumPy's. This\u001b[39;00m\n\u001b[0;32m   (...)\u001b[0m\n\u001b[1;32m     64\u001b[0m     \u001b[38;5;66;03m# Call _wrapit from within the except clause to ensure a potential\u001b[39;00m\n\u001b[1;32m     65\u001b[0m     \u001b[38;5;66;03m# exception has a traceback chain.\u001b[39;00m\n",
      "\u001b[0;31mTypeError\u001b[0m: 'ArrayVSpace' object cannot be interpreted as an integer",
      "\nDuring handling of the above exception, another exception occurred:\n",
      "\u001b[0;31mTypeError\u001b[0m                                 Traceback (most recent call last)",
      "Input \u001b[0;32mIn [31]\u001b[0m, in \u001b[0;36m<cell line: 10>\u001b[0;34m()\u001b[0m\n\u001b[1;32m      8\u001b[0m b0 \u001b[38;5;241m=\u001b[39m np\u001b[38;5;241m.\u001b[39marray([\u001b[38;5;241m3.0\u001b[39m, \u001b[38;5;241m4.0\u001b[39m])\n\u001b[1;32m      9\u001b[0m my_add_j \u001b[38;5;241m=\u001b[39m jacobian(my_add, argnum\u001b[38;5;241m=\u001b[39m(\u001b[38;5;241m0\u001b[39m, \u001b[38;5;241m1\u001b[39m))\n\u001b[0;32m---> 10\u001b[0m \u001b[43mmy_add_j\u001b[49m\u001b[43m(\u001b[49m\u001b[43ma0\u001b[49m\u001b[43m,\u001b[49m\u001b[43m \u001b[49m\u001b[43mb0\u001b[49m\u001b[43m)\u001b[49m\n",
      "File \u001b[0;32m~/opt/anaconda3/envs/myvirtualenv/lib/python3.9/site-packages/autograd/wrap_util.py:20\u001b[0m, in \u001b[0;36munary_to_nary.<locals>.nary_operator.<locals>.nary_f\u001b[0;34m(*args, **kwargs)\u001b[0m\n\u001b[1;32m     18\u001b[0m \u001b[38;5;28;01melse\u001b[39;00m:\n\u001b[1;32m     19\u001b[0m     x \u001b[38;5;241m=\u001b[39m \u001b[38;5;28mtuple\u001b[39m(args[i] \u001b[38;5;28;01mfor\u001b[39;00m i \u001b[38;5;129;01min\u001b[39;00m argnum)\n\u001b[0;32m---> 20\u001b[0m \u001b[38;5;28;01mreturn\u001b[39;00m \u001b[43munary_operator\u001b[49m\u001b[43m(\u001b[49m\u001b[43munary_f\u001b[49m\u001b[43m,\u001b[49m\u001b[43m \u001b[49m\u001b[43mx\u001b[49m\u001b[43m,\u001b[49m\u001b[43m \u001b[49m\u001b[38;5;241;43m*\u001b[39;49m\u001b[43mnary_op_args\u001b[49m\u001b[43m,\u001b[49m\u001b[43m \u001b[49m\u001b[38;5;241;43m*\u001b[39;49m\u001b[38;5;241;43m*\u001b[39;49m\u001b[43mnary_op_kwargs\u001b[49m\u001b[43m)\u001b[49m\n",
      "File \u001b[0;32m~/opt/anaconda3/envs/myvirtualenv/lib/python3.9/site-packages/autograd/differential_operators.py:64\u001b[0m, in \u001b[0;36mjacobian\u001b[0;34m(fun, x)\u001b[0m\n\u001b[1;32m     62\u001b[0m jacobian_shape \u001b[38;5;241m=\u001b[39m ans_vspace\u001b[38;5;241m.\u001b[39mshape \u001b[38;5;241m+\u001b[39m vspace(x)\u001b[38;5;241m.\u001b[39mshape\n\u001b[1;32m     63\u001b[0m grads \u001b[38;5;241m=\u001b[39m \u001b[38;5;28mmap\u001b[39m(vjp, ans_vspace\u001b[38;5;241m.\u001b[39mstandard_basis())\n\u001b[0;32m---> 64\u001b[0m \u001b[38;5;28;01mreturn\u001b[39;00m \u001b[43mnp\u001b[49m\u001b[38;5;241;43m.\u001b[39;49m\u001b[43mreshape\u001b[49m\u001b[43m(\u001b[49m\u001b[43mnp\u001b[49m\u001b[38;5;241;43m.\u001b[39;49m\u001b[43mstack\u001b[49m\u001b[43m(\u001b[49m\u001b[43mgrads\u001b[49m\u001b[43m)\u001b[49m\u001b[43m,\u001b[49m\u001b[43m \u001b[49m\u001b[43mjacobian_shape\u001b[49m\u001b[43m)\u001b[49m\n",
      "File \u001b[0;32m~/opt/anaconda3/envs/myvirtualenv/lib/python3.9/site-packages/autograd/tracer.py:48\u001b[0m, in \u001b[0;36mprimitive.<locals>.f_wrapped\u001b[0;34m(*args, **kwargs)\u001b[0m\n\u001b[1;32m     46\u001b[0m     \u001b[38;5;28;01mreturn\u001b[39;00m new_box(ans, trace, node)\n\u001b[1;32m     47\u001b[0m \u001b[38;5;28;01melse\u001b[39;00m:\n\u001b[0;32m---> 48\u001b[0m     \u001b[38;5;28;01mreturn\u001b[39;00m \u001b[43mf_raw\u001b[49m\u001b[43m(\u001b[49m\u001b[38;5;241;43m*\u001b[39;49m\u001b[43margs\u001b[49m\u001b[43m,\u001b[49m\u001b[43m \u001b[49m\u001b[38;5;241;43m*\u001b[39;49m\u001b[38;5;241;43m*\u001b[39;49m\u001b[43mkwargs\u001b[49m\u001b[43m)\u001b[49m\n",
      "File \u001b[0;32m<__array_function__ internals>:5\u001b[0m, in \u001b[0;36mreshape\u001b[0;34m(*args, **kwargs)\u001b[0m\n",
      "File \u001b[0;32m~/opt/anaconda3/envs/myvirtualenv/lib/python3.9/site-packages/numpy/core/fromnumeric.py:298\u001b[0m, in \u001b[0;36mreshape\u001b[0;34m(a, newshape, order)\u001b[0m\n\u001b[1;32m    198\u001b[0m \u001b[38;5;129m@array_function_dispatch\u001b[39m(_reshape_dispatcher)\n\u001b[1;32m    199\u001b[0m \u001b[38;5;28;01mdef\u001b[39;00m \u001b[38;5;21mreshape\u001b[39m(a, newshape, order\u001b[38;5;241m=\u001b[39m\u001b[38;5;124m'\u001b[39m\u001b[38;5;124mC\u001b[39m\u001b[38;5;124m'\u001b[39m):\n\u001b[1;32m    200\u001b[0m     \u001b[38;5;124;03m\"\"\"\u001b[39;00m\n\u001b[1;32m    201\u001b[0m \u001b[38;5;124;03m    Gives a new shape to an array without changing its data.\u001b[39;00m\n\u001b[1;32m    202\u001b[0m \n\u001b[0;32m   (...)\u001b[0m\n\u001b[1;32m    296\u001b[0m \u001b[38;5;124;03m           [5, 6]])\u001b[39;00m\n\u001b[1;32m    297\u001b[0m \u001b[38;5;124;03m    \"\"\"\u001b[39;00m\n\u001b[0;32m--> 298\u001b[0m     \u001b[38;5;28;01mreturn\u001b[39;00m \u001b[43m_wrapfunc\u001b[49m\u001b[43m(\u001b[49m\u001b[43ma\u001b[49m\u001b[43m,\u001b[49m\u001b[43m \u001b[49m\u001b[38;5;124;43m'\u001b[39;49m\u001b[38;5;124;43mreshape\u001b[39;49m\u001b[38;5;124;43m'\u001b[39;49m\u001b[43m,\u001b[49m\u001b[43m \u001b[49m\u001b[43mnewshape\u001b[49m\u001b[43m,\u001b[49m\u001b[43m \u001b[49m\u001b[43morder\u001b[49m\u001b[38;5;241;43m=\u001b[39;49m\u001b[43morder\u001b[49m\u001b[43m)\u001b[49m\n",
      "File \u001b[0;32m~/opt/anaconda3/envs/myvirtualenv/lib/python3.9/site-packages/numpy/core/fromnumeric.py:66\u001b[0m, in \u001b[0;36m_wrapfunc\u001b[0;34m(obj, method, *args, **kwds)\u001b[0m\n\u001b[1;32m     57\u001b[0m     \u001b[38;5;28;01mreturn\u001b[39;00m bound(\u001b[38;5;241m*\u001b[39margs, \u001b[38;5;241m*\u001b[39m\u001b[38;5;241m*\u001b[39mkwds)\n\u001b[1;32m     58\u001b[0m \u001b[38;5;28;01mexcept\u001b[39;00m \u001b[38;5;167;01mTypeError\u001b[39;00m:\n\u001b[1;32m     59\u001b[0m     \u001b[38;5;66;03m# A TypeError occurs if the object does have such a method in its\u001b[39;00m\n\u001b[1;32m     60\u001b[0m     \u001b[38;5;66;03m# class, but its signature is not identical to that of NumPy's. This\u001b[39;00m\n\u001b[0;32m   (...)\u001b[0m\n\u001b[1;32m     64\u001b[0m     \u001b[38;5;66;03m# Call _wrapit from within the except clause to ensure a potential\u001b[39;00m\n\u001b[1;32m     65\u001b[0m     \u001b[38;5;66;03m# exception has a traceback chain.\u001b[39;00m\n\u001b[0;32m---> 66\u001b[0m     \u001b[38;5;28;01mreturn\u001b[39;00m \u001b[43m_wrapit\u001b[49m\u001b[43m(\u001b[49m\u001b[43mobj\u001b[49m\u001b[43m,\u001b[49m\u001b[43m \u001b[49m\u001b[43mmethod\u001b[49m\u001b[43m,\u001b[49m\u001b[43m \u001b[49m\u001b[38;5;241;43m*\u001b[39;49m\u001b[43margs\u001b[49m\u001b[43m,\u001b[49m\u001b[43m \u001b[49m\u001b[38;5;241;43m*\u001b[39;49m\u001b[38;5;241;43m*\u001b[39;49m\u001b[43mkwds\u001b[49m\u001b[43m)\u001b[49m\n",
      "File \u001b[0;32m~/opt/anaconda3/envs/myvirtualenv/lib/python3.9/site-packages/numpy/core/fromnumeric.py:43\u001b[0m, in \u001b[0;36m_wrapit\u001b[0;34m(obj, method, *args, **kwds)\u001b[0m\n\u001b[1;32m     41\u001b[0m \u001b[38;5;28;01mexcept\u001b[39;00m \u001b[38;5;167;01mAttributeError\u001b[39;00m:\n\u001b[1;32m     42\u001b[0m     wrap \u001b[38;5;241m=\u001b[39m \u001b[38;5;28;01mNone\u001b[39;00m\n\u001b[0;32m---> 43\u001b[0m result \u001b[38;5;241m=\u001b[39m \u001b[38;5;28;43mgetattr\u001b[39;49m\u001b[43m(\u001b[49m\u001b[43masarray\u001b[49m\u001b[43m(\u001b[49m\u001b[43mobj\u001b[49m\u001b[43m)\u001b[49m\u001b[43m,\u001b[49m\u001b[43m \u001b[49m\u001b[43mmethod\u001b[49m\u001b[43m)\u001b[49m\u001b[43m(\u001b[49m\u001b[38;5;241;43m*\u001b[39;49m\u001b[43margs\u001b[49m\u001b[43m,\u001b[49m\u001b[43m \u001b[49m\u001b[38;5;241;43m*\u001b[39;49m\u001b[38;5;241;43m*\u001b[39;49m\u001b[43mkwds\u001b[49m\u001b[43m)\u001b[49m\n\u001b[1;32m     44\u001b[0m \u001b[38;5;28;01mif\u001b[39;00m wrap:\n\u001b[1;32m     45\u001b[0m     \u001b[38;5;28;01mif\u001b[39;00m \u001b[38;5;129;01mnot\u001b[39;00m \u001b[38;5;28misinstance\u001b[39m(result, mu\u001b[38;5;241m.\u001b[39mndarray):\n",
      "\u001b[0;31mTypeError\u001b[0m: 'ArrayVSpace' object cannot be interpreted as an integer"
     ]
    }
   ],
   "source": [
    "import autograd.numpy as np\n",
    "from autograd import jacobian\n",
    "\n",
    "def my_add(a, b):\n",
    "    return a + b\n",
    "\n",
    "a0 = np.array([1.0, 2.0])\n",
    "b0 = np.array([3.0, 4.0])\n",
    "my_add_j = jacobian(my_add, argnum=(0, 1))\n",
    "my_add_j(a0, b0)"
   ]
  },
  {
   "cell_type": "code",
   "execution_count": null,
   "id": "2722704b",
   "metadata": {},
   "outputs": [],
   "source": []
  }
 ],
 "metadata": {
  "kernelspec": {
   "display_name": "Python [conda env:myvirtualenv]",
   "language": "python",
   "name": "conda-env-myvirtualenv-py"
  },
  "language_info": {
   "codemirror_mode": {
    "name": "ipython",
    "version": 3
   },
   "file_extension": ".py",
   "mimetype": "text/x-python",
   "name": "python",
   "nbconvert_exporter": "python",
   "pygments_lexer": "ipython3",
   "version": "3.9.12"
  }
 },
 "nbformat": 4,
 "nbformat_minor": 5
}
